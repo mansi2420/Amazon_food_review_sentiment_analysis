{
  "cells": [
    {
      "cell_type": "code",
      "execution_count": null,
      "metadata": {
        "id": "8U3bGvmVtkwa"
      },
      "outputs": [],
      "source": [
        "import pandas as pd\n",
        "import numpy as np"
      ]
    },
    {
      "cell_type": "markdown",
      "metadata": {
        "id": "WnNODxJtagEn"
      },
      "source": [
        "#Obtaining the Data from Google Drive"
      ]
    },
    {
      "cell_type": "markdown",
      "metadata": {
        "id": "reZVIFg4ar2-"
      },
      "source": [
        "Using google.colab, I first extract the dataset from my google drive storage and convert into DataFrame using pandas"
      ]
    },
    {
      "cell_type": "code",
      "execution_count": null,
      "metadata": {
        "colab": {
          "base_uri": "https://localhost:8080/"
        },
        "id": "A35jYBRn5CNb",
        "outputId": "5dc35d3c-8edc-4d36-a445-d9d6075e8b0c"
      },
      "outputs": [
        {
          "output_type": "stream",
          "name": "stdout",
          "text": [
            "Mounted at /content/drive\n"
          ]
        }
      ],
      "source": [
        "from google.colab import drive\n",
        "drive.mount('/content/drive')"
      ]
    },
    {
      "cell_type": "code",
      "execution_count": null,
      "metadata": {
        "colab": {
          "base_uri": "https://localhost:8080/",
          "height": 337
        },
        "id": "kgUCVGUk6Ckb",
        "outputId": "05256067-7c71-4d34-e006-34507092835f"
      },
      "outputs": [
        {
          "output_type": "execute_result",
          "data": {
            "text/plain": [
              "   Id   ProductId          UserId                      ProfileName  \\\n",
              "0   1  B001E4KFG0  A3SGXH7AUHU8GW                       delmartian   \n",
              "1   2  B00813GRG4  A1D87F6ZCVE5NK                           dll pa   \n",
              "2   3  B000LQOCH0   ABXLMWJIXXAIN  Natalia Corres \"Natalia Corres\"   \n",
              "3   4  B000UA0QIQ  A395BORC6FGVXV                             Karl   \n",
              "4   5  B006K2ZZ7K  A1UQRSCLF8GW1T    Michael D. Bigham \"M. Wassir\"   \n",
              "\n",
              "   HelpfulnessNumerator  HelpfulnessDenominator  Score        Time  \\\n",
              "0                     1                       1      5  1303862400   \n",
              "1                     0                       0      1  1346976000   \n",
              "2                     1                       1      4  1219017600   \n",
              "3                     3                       3      2  1307923200   \n",
              "4                     0                       0      5  1350777600   \n",
              "\n",
              "                 Summary                                               Text  \n",
              "0  Good Quality Dog Food  I have bought several of the Vitality canned d...  \n",
              "1      Not as Advertised  Product arrived labeled as Jumbo Salted Peanut...  \n",
              "2  \"Delight\" says it all  This is a confection that has been around a fe...  \n",
              "3         Cough Medicine  If you are looking for the secret ingredient i...  \n",
              "4            Great taffy  Great taffy at a great price.  There was a wid...  "
            ],
            "text/html": [
              "\n",
              "  <div id=\"df-c65d10fb-7617-4507-aeea-1edc60ec9b70\">\n",
              "    <div class=\"colab-df-container\">\n",
              "      <div>\n",
              "<style scoped>\n",
              "    .dataframe tbody tr th:only-of-type {\n",
              "        vertical-align: middle;\n",
              "    }\n",
              "\n",
              "    .dataframe tbody tr th {\n",
              "        vertical-align: top;\n",
              "    }\n",
              "\n",
              "    .dataframe thead th {\n",
              "        text-align: right;\n",
              "    }\n",
              "</style>\n",
              "<table border=\"1\" class=\"dataframe\">\n",
              "  <thead>\n",
              "    <tr style=\"text-align: right;\">\n",
              "      <th></th>\n",
              "      <th>Id</th>\n",
              "      <th>ProductId</th>\n",
              "      <th>UserId</th>\n",
              "      <th>ProfileName</th>\n",
              "      <th>HelpfulnessNumerator</th>\n",
              "      <th>HelpfulnessDenominator</th>\n",
              "      <th>Score</th>\n",
              "      <th>Time</th>\n",
              "      <th>Summary</th>\n",
              "      <th>Text</th>\n",
              "    </tr>\n",
              "  </thead>\n",
              "  <tbody>\n",
              "    <tr>\n",
              "      <th>0</th>\n",
              "      <td>1</td>\n",
              "      <td>B001E4KFG0</td>\n",
              "      <td>A3SGXH7AUHU8GW</td>\n",
              "      <td>delmartian</td>\n",
              "      <td>1</td>\n",
              "      <td>1</td>\n",
              "      <td>5</td>\n",
              "      <td>1303862400</td>\n",
              "      <td>Good Quality Dog Food</td>\n",
              "      <td>I have bought several of the Vitality canned d...</td>\n",
              "    </tr>\n",
              "    <tr>\n",
              "      <th>1</th>\n",
              "      <td>2</td>\n",
              "      <td>B00813GRG4</td>\n",
              "      <td>A1D87F6ZCVE5NK</td>\n",
              "      <td>dll pa</td>\n",
              "      <td>0</td>\n",
              "      <td>0</td>\n",
              "      <td>1</td>\n",
              "      <td>1346976000</td>\n",
              "      <td>Not as Advertised</td>\n",
              "      <td>Product arrived labeled as Jumbo Salted Peanut...</td>\n",
              "    </tr>\n",
              "    <tr>\n",
              "      <th>2</th>\n",
              "      <td>3</td>\n",
              "      <td>B000LQOCH0</td>\n",
              "      <td>ABXLMWJIXXAIN</td>\n",
              "      <td>Natalia Corres \"Natalia Corres\"</td>\n",
              "      <td>1</td>\n",
              "      <td>1</td>\n",
              "      <td>4</td>\n",
              "      <td>1219017600</td>\n",
              "      <td>\"Delight\" says it all</td>\n",
              "      <td>This is a confection that has been around a fe...</td>\n",
              "    </tr>\n",
              "    <tr>\n",
              "      <th>3</th>\n",
              "      <td>4</td>\n",
              "      <td>B000UA0QIQ</td>\n",
              "      <td>A395BORC6FGVXV</td>\n",
              "      <td>Karl</td>\n",
              "      <td>3</td>\n",
              "      <td>3</td>\n",
              "      <td>2</td>\n",
              "      <td>1307923200</td>\n",
              "      <td>Cough Medicine</td>\n",
              "      <td>If you are looking for the secret ingredient i...</td>\n",
              "    </tr>\n",
              "    <tr>\n",
              "      <th>4</th>\n",
              "      <td>5</td>\n",
              "      <td>B006K2ZZ7K</td>\n",
              "      <td>A1UQRSCLF8GW1T</td>\n",
              "      <td>Michael D. Bigham \"M. Wassir\"</td>\n",
              "      <td>0</td>\n",
              "      <td>0</td>\n",
              "      <td>5</td>\n",
              "      <td>1350777600</td>\n",
              "      <td>Great taffy</td>\n",
              "      <td>Great taffy at a great price.  There was a wid...</td>\n",
              "    </tr>\n",
              "  </tbody>\n",
              "</table>\n",
              "</div>\n",
              "      <button class=\"colab-df-convert\" onclick=\"convertToInteractive('df-c65d10fb-7617-4507-aeea-1edc60ec9b70')\"\n",
              "              title=\"Convert this dataframe to an interactive table.\"\n",
              "              style=\"display:none;\">\n",
              "        \n",
              "  <svg xmlns=\"http://www.w3.org/2000/svg\" height=\"24px\"viewBox=\"0 0 24 24\"\n",
              "       width=\"24px\">\n",
              "    <path d=\"M0 0h24v24H0V0z\" fill=\"none\"/>\n",
              "    <path d=\"M18.56 5.44l.94 2.06.94-2.06 2.06-.94-2.06-.94-.94-2.06-.94 2.06-2.06.94zm-11 1L8.5 8.5l.94-2.06 2.06-.94-2.06-.94L8.5 2.5l-.94 2.06-2.06.94zm10 10l.94 2.06.94-2.06 2.06-.94-2.06-.94-.94-2.06-.94 2.06-2.06.94z\"/><path d=\"M17.41 7.96l-1.37-1.37c-.4-.4-.92-.59-1.43-.59-.52 0-1.04.2-1.43.59L10.3 9.45l-7.72 7.72c-.78.78-.78 2.05 0 2.83L4 21.41c.39.39.9.59 1.41.59.51 0 1.02-.2 1.41-.59l7.78-7.78 2.81-2.81c.8-.78.8-2.07 0-2.86zM5.41 20L4 18.59l7.72-7.72 1.47 1.35L5.41 20z\"/>\n",
              "  </svg>\n",
              "      </button>\n",
              "      \n",
              "  <style>\n",
              "    .colab-df-container {\n",
              "      display:flex;\n",
              "      flex-wrap:wrap;\n",
              "      gap: 12px;\n",
              "    }\n",
              "\n",
              "    .colab-df-convert {\n",
              "      background-color: #E8F0FE;\n",
              "      border: none;\n",
              "      border-radius: 50%;\n",
              "      cursor: pointer;\n",
              "      display: none;\n",
              "      fill: #1967D2;\n",
              "      height: 32px;\n",
              "      padding: 0 0 0 0;\n",
              "      width: 32px;\n",
              "    }\n",
              "\n",
              "    .colab-df-convert:hover {\n",
              "      background-color: #E2EBFA;\n",
              "      box-shadow: 0px 1px 2px rgba(60, 64, 67, 0.3), 0px 1px 3px 1px rgba(60, 64, 67, 0.15);\n",
              "      fill: #174EA6;\n",
              "    }\n",
              "\n",
              "    [theme=dark] .colab-df-convert {\n",
              "      background-color: #3B4455;\n",
              "      fill: #D2E3FC;\n",
              "    }\n",
              "\n",
              "    [theme=dark] .colab-df-convert:hover {\n",
              "      background-color: #434B5C;\n",
              "      box-shadow: 0px 1px 3px 1px rgba(0, 0, 0, 0.15);\n",
              "      filter: drop-shadow(0px 1px 2px rgba(0, 0, 0, 0.3));\n",
              "      fill: #FFFFFF;\n",
              "    }\n",
              "  </style>\n",
              "\n",
              "      <script>\n",
              "        const buttonEl =\n",
              "          document.querySelector('#df-c65d10fb-7617-4507-aeea-1edc60ec9b70 button.colab-df-convert');\n",
              "        buttonEl.style.display =\n",
              "          google.colab.kernel.accessAllowed ? 'block' : 'none';\n",
              "\n",
              "        async function convertToInteractive(key) {\n",
              "          const element = document.querySelector('#df-c65d10fb-7617-4507-aeea-1edc60ec9b70');\n",
              "          const dataTable =\n",
              "            await google.colab.kernel.invokeFunction('convertToInteractive',\n",
              "                                                     [key], {});\n",
              "          if (!dataTable) return;\n",
              "\n",
              "          const docLinkHtml = 'Like what you see? Visit the ' +\n",
              "            '<a target=\"_blank\" href=https://colab.research.google.com/notebooks/data_table.ipynb>data table notebook</a>'\n",
              "            + ' to learn more about interactive tables.';\n",
              "          element.innerHTML = '';\n",
              "          dataTable['output_type'] = 'display_data';\n",
              "          await google.colab.output.renderOutput(dataTable, element);\n",
              "          const docLink = document.createElement('div');\n",
              "          docLink.innerHTML = docLinkHtml;\n",
              "          element.appendChild(docLink);\n",
              "        }\n",
              "      </script>\n",
              "    </div>\n",
              "  </div>\n",
              "  "
            ]
          },
          "metadata": {},
          "execution_count": 3
        }
      ],
      "source": [
        "df = pd.read_csv('/content/drive/MyDrive/TasD/Reviews.csv')\n",
        "df.head(5)"
      ]
    },
    {
      "cell_type": "markdown",
      "metadata": {
        "id": "4w__EOyDa9sT"
      },
      "source": [
        "# Preprocessing the Dataset"
      ]
    },
    {
      "cell_type": "code",
      "execution_count": null,
      "metadata": {
        "colab": {
          "base_uri": "https://localhost:8080/",
          "height": 423
        },
        "id": "b1HK2onU8zhH",
        "outputId": "481a4216-da73-4faf-ea92-8fb9a7ff59c1"
      },
      "outputs": [
        {
          "output_type": "execute_result",
          "data": {
            "text/plain": [
              "         ProductId  HelpfulnessNumerator  HelpfulnessDenominator  Score  \\\n",
              "308030  B001BS4G6O                     0                       0      5   \n",
              "205694  B000E65OII                     0                       0      5   \n",
              "557700  B001KUUNFQ                     0                       0      5   \n",
              "490172  B000H7GS5W                     1                       1      4   \n",
              "53302   B00370ESNU                     0                       0      5   \n",
              "...            ...                   ...                     ...    ...   \n",
              "525126  B001FZ0SVA                     2                       2      5   \n",
              "112374  B001GQ3E2I                     3                       3      5   \n",
              "547453  B006HYLW32                     0                       0      5   \n",
              "392706  B0037B8YQG                     0                       0      5   \n",
              "405993  B001CDVCCO                     1                       1      3   \n",
              "\n",
              "                                    Summary  \\\n",
              "308030              makes pill time a treat   \n",
              "205694                 Absolutely Delicious   \n",
              "557700                   My 2 cats love it!   \n",
              "490172                                Tasty   \n",
              "53302   Big fan & great for my diabetic mom   \n",
              "...                                     ...   \n",
              "525126        Booda Bone Dog Treats, 9 Pack   \n",
              "112374            Crunch Time Peanut Butter   \n",
              "547453               Perfect 100 cal Packs!   \n",
              "392706        Green Mountain Breafast decaf   \n",
              "405993                      Bitters, Orange   \n",
              "\n",
              "                                                     Text  \n",
              "308030  makes pill time a treat I have to give my do m...  \n",
              "205694  Absolutely Delicious <a href=\"http://www.amazo...  \n",
              "557700  My 2 cats love it! I have 2 picky eaters-- one...  \n",
              "490172  Tasty These are quite good tasting!  Even thou...  \n",
              "53302   Big fan & great for my diabetic mom I original...  \n",
              "...                                                   ...  \n",
              "525126  Booda Bone Dog Treats, 9 Pack My dog loves Boo...  \n",
              "112374  Crunch Time Peanut Butter I always thought Jif...  \n",
              "547453  Perfect 100 cal Packs! I LOVE salt and vinegar...  \n",
              "392706  Green Mountain Breafast decaf Outstanding flav...  \n",
              "405993  Bitters, Orange This product, I hoped, might b...  \n",
              "\n",
              "[4999 rows x 6 columns]"
            ],
            "text/html": [
              "\n",
              "  <div id=\"df-8ad021a7-0865-4ad5-a4af-6b8bde374682\">\n",
              "    <div class=\"colab-df-container\">\n",
              "      <div>\n",
              "<style scoped>\n",
              "    .dataframe tbody tr th:only-of-type {\n",
              "        vertical-align: middle;\n",
              "    }\n",
              "\n",
              "    .dataframe tbody tr th {\n",
              "        vertical-align: top;\n",
              "    }\n",
              "\n",
              "    .dataframe thead th {\n",
              "        text-align: right;\n",
              "    }\n",
              "</style>\n",
              "<table border=\"1\" class=\"dataframe\">\n",
              "  <thead>\n",
              "    <tr style=\"text-align: right;\">\n",
              "      <th></th>\n",
              "      <th>ProductId</th>\n",
              "      <th>HelpfulnessNumerator</th>\n",
              "      <th>HelpfulnessDenominator</th>\n",
              "      <th>Score</th>\n",
              "      <th>Summary</th>\n",
              "      <th>Text</th>\n",
              "    </tr>\n",
              "  </thead>\n",
              "  <tbody>\n",
              "    <tr>\n",
              "      <th>308030</th>\n",
              "      <td>B001BS4G6O</td>\n",
              "      <td>0</td>\n",
              "      <td>0</td>\n",
              "      <td>5</td>\n",
              "      <td>makes pill time a treat</td>\n",
              "      <td>makes pill time a treat I have to give my do m...</td>\n",
              "    </tr>\n",
              "    <tr>\n",
              "      <th>205694</th>\n",
              "      <td>B000E65OII</td>\n",
              "      <td>0</td>\n",
              "      <td>0</td>\n",
              "      <td>5</td>\n",
              "      <td>Absolutely Delicious</td>\n",
              "      <td>Absolutely Delicious &lt;a href=\"http://www.amazo...</td>\n",
              "    </tr>\n",
              "    <tr>\n",
              "      <th>557700</th>\n",
              "      <td>B001KUUNFQ</td>\n",
              "      <td>0</td>\n",
              "      <td>0</td>\n",
              "      <td>5</td>\n",
              "      <td>My 2 cats love it!</td>\n",
              "      <td>My 2 cats love it! I have 2 picky eaters-- one...</td>\n",
              "    </tr>\n",
              "    <tr>\n",
              "      <th>490172</th>\n",
              "      <td>B000H7GS5W</td>\n",
              "      <td>1</td>\n",
              "      <td>1</td>\n",
              "      <td>4</td>\n",
              "      <td>Tasty</td>\n",
              "      <td>Tasty These are quite good tasting!  Even thou...</td>\n",
              "    </tr>\n",
              "    <tr>\n",
              "      <th>53302</th>\n",
              "      <td>B00370ESNU</td>\n",
              "      <td>0</td>\n",
              "      <td>0</td>\n",
              "      <td>5</td>\n",
              "      <td>Big fan &amp; great for my diabetic mom</td>\n",
              "      <td>Big fan &amp; great for my diabetic mom I original...</td>\n",
              "    </tr>\n",
              "    <tr>\n",
              "      <th>...</th>\n",
              "      <td>...</td>\n",
              "      <td>...</td>\n",
              "      <td>...</td>\n",
              "      <td>...</td>\n",
              "      <td>...</td>\n",
              "      <td>...</td>\n",
              "    </tr>\n",
              "    <tr>\n",
              "      <th>525126</th>\n",
              "      <td>B001FZ0SVA</td>\n",
              "      <td>2</td>\n",
              "      <td>2</td>\n",
              "      <td>5</td>\n",
              "      <td>Booda Bone Dog Treats, 9 Pack</td>\n",
              "      <td>Booda Bone Dog Treats, 9 Pack My dog loves Boo...</td>\n",
              "    </tr>\n",
              "    <tr>\n",
              "      <th>112374</th>\n",
              "      <td>B001GQ3E2I</td>\n",
              "      <td>3</td>\n",
              "      <td>3</td>\n",
              "      <td>5</td>\n",
              "      <td>Crunch Time Peanut Butter</td>\n",
              "      <td>Crunch Time Peanut Butter I always thought Jif...</td>\n",
              "    </tr>\n",
              "    <tr>\n",
              "      <th>547453</th>\n",
              "      <td>B006HYLW32</td>\n",
              "      <td>0</td>\n",
              "      <td>0</td>\n",
              "      <td>5</td>\n",
              "      <td>Perfect 100 cal Packs!</td>\n",
              "      <td>Perfect 100 cal Packs! I LOVE salt and vinegar...</td>\n",
              "    </tr>\n",
              "    <tr>\n",
              "      <th>392706</th>\n",
              "      <td>B0037B8YQG</td>\n",
              "      <td>0</td>\n",
              "      <td>0</td>\n",
              "      <td>5</td>\n",
              "      <td>Green Mountain Breafast decaf</td>\n",
              "      <td>Green Mountain Breafast decaf Outstanding flav...</td>\n",
              "    </tr>\n",
              "    <tr>\n",
              "      <th>405993</th>\n",
              "      <td>B001CDVCCO</td>\n",
              "      <td>1</td>\n",
              "      <td>1</td>\n",
              "      <td>3</td>\n",
              "      <td>Bitters, Orange</td>\n",
              "      <td>Bitters, Orange This product, I hoped, might b...</td>\n",
              "    </tr>\n",
              "  </tbody>\n",
              "</table>\n",
              "<p>4999 rows × 6 columns</p>\n",
              "</div>\n",
              "      <button class=\"colab-df-convert\" onclick=\"convertToInteractive('df-8ad021a7-0865-4ad5-a4af-6b8bde374682')\"\n",
              "              title=\"Convert this dataframe to an interactive table.\"\n",
              "              style=\"display:none;\">\n",
              "        \n",
              "  <svg xmlns=\"http://www.w3.org/2000/svg\" height=\"24px\"viewBox=\"0 0 24 24\"\n",
              "       width=\"24px\">\n",
              "    <path d=\"M0 0h24v24H0V0z\" fill=\"none\"/>\n",
              "    <path d=\"M18.56 5.44l.94 2.06.94-2.06 2.06-.94-2.06-.94-.94-2.06-.94 2.06-2.06.94zm-11 1L8.5 8.5l.94-2.06 2.06-.94-2.06-.94L8.5 2.5l-.94 2.06-2.06.94zm10 10l.94 2.06.94-2.06 2.06-.94-2.06-.94-.94-2.06-.94 2.06-2.06.94z\"/><path d=\"M17.41 7.96l-1.37-1.37c-.4-.4-.92-.59-1.43-.59-.52 0-1.04.2-1.43.59L10.3 9.45l-7.72 7.72c-.78.78-.78 2.05 0 2.83L4 21.41c.39.39.9.59 1.41.59.51 0 1.02-.2 1.41-.59l7.78-7.78 2.81-2.81c.8-.78.8-2.07 0-2.86zM5.41 20L4 18.59l7.72-7.72 1.47 1.35L5.41 20z\"/>\n",
              "  </svg>\n",
              "      </button>\n",
              "      \n",
              "  <style>\n",
              "    .colab-df-container {\n",
              "      display:flex;\n",
              "      flex-wrap:wrap;\n",
              "      gap: 12px;\n",
              "    }\n",
              "\n",
              "    .colab-df-convert {\n",
              "      background-color: #E8F0FE;\n",
              "      border: none;\n",
              "      border-radius: 50%;\n",
              "      cursor: pointer;\n",
              "      display: none;\n",
              "      fill: #1967D2;\n",
              "      height: 32px;\n",
              "      padding: 0 0 0 0;\n",
              "      width: 32px;\n",
              "    }\n",
              "\n",
              "    .colab-df-convert:hover {\n",
              "      background-color: #E2EBFA;\n",
              "      box-shadow: 0px 1px 2px rgba(60, 64, 67, 0.3), 0px 1px 3px 1px rgba(60, 64, 67, 0.15);\n",
              "      fill: #174EA6;\n",
              "    }\n",
              "\n",
              "    [theme=dark] .colab-df-convert {\n",
              "      background-color: #3B4455;\n",
              "      fill: #D2E3FC;\n",
              "    }\n",
              "\n",
              "    [theme=dark] .colab-df-convert:hover {\n",
              "      background-color: #434B5C;\n",
              "      box-shadow: 0px 1px 3px 1px rgba(0, 0, 0, 0.15);\n",
              "      filter: drop-shadow(0px 1px 2px rgba(0, 0, 0, 0.3));\n",
              "      fill: #FFFFFF;\n",
              "    }\n",
              "  </style>\n",
              "\n",
              "      <script>\n",
              "        const buttonEl =\n",
              "          document.querySelector('#df-8ad021a7-0865-4ad5-a4af-6b8bde374682 button.colab-df-convert');\n",
              "        buttonEl.style.display =\n",
              "          google.colab.kernel.accessAllowed ? 'block' : 'none';\n",
              "\n",
              "        async function convertToInteractive(key) {\n",
              "          const element = document.querySelector('#df-8ad021a7-0865-4ad5-a4af-6b8bde374682');\n",
              "          const dataTable =\n",
              "            await google.colab.kernel.invokeFunction('convertToInteractive',\n",
              "                                                     [key], {});\n",
              "          if (!dataTable) return;\n",
              "\n",
              "          const docLinkHtml = 'Like what you see? Visit the ' +\n",
              "            '<a target=\"_blank\" href=https://colab.research.google.com/notebooks/data_table.ipynb>data table notebook</a>'\n",
              "            + ' to learn more about interactive tables.';\n",
              "          element.innerHTML = '';\n",
              "          dataTable['output_type'] = 'display_data';\n",
              "          await google.colab.output.renderOutput(dataTable, element);\n",
              "          const docLink = document.createElement('div');\n",
              "          docLink.innerHTML = docLinkHtml;\n",
              "          element.appendChild(docLink);\n",
              "        }\n",
              "      </script>\n",
              "    </div>\n",
              "  </div>\n",
              "  "
            ]
          },
          "metadata": {},
          "execution_count": 4
        }
      ],
      "source": [
        "finaldf = df.sample(5000)\n",
        "finaldf = finaldf.dropna()\n",
        "\n",
        "#dropping duplicates (if any)\n",
        "finaldf = finaldf.drop_duplicates()\n",
        "\n",
        "#dropping unnecessary columns\n",
        "finaldf = finaldf.drop(columns=['Id','UserId','ProfileName','Time'])\n",
        "\n",
        "#combining summary and text\n",
        "finaldf['Text'] = finaldf['Summary'] + ' ' + finaldf['Text']\n",
        "finaldf"
      ]
    },
    {
      "cell_type": "code",
      "execution_count": null,
      "metadata": {
        "colab": {
          "base_uri": "https://localhost:8080/",
          "height": 206
        },
        "id": "oKmBD90ad5wY",
        "outputId": "20c4b852-b30a-4e3a-f591-ac2747ee078e"
      },
      "outputs": [
        {
          "output_type": "execute_result",
          "data": {
            "text/plain": [
              "    ProductId  HelpfulnessNumerator  HelpfulnessDenominator  Score  \\\n",
              "0  B001BS4G6O                     0                       0      5   \n",
              "1  B000E65OII                     0                       0      5   \n",
              "2  B001KUUNFQ                     0                       0      5   \n",
              "3  B000H7GS5W                     1                       1      4   \n",
              "4  B00370ESNU                     0                       0      5   \n",
              "\n",
              "                                                Text  \n",
              "0  makes pill time a treat I have to give my do m...  \n",
              "1  Absolutely Delicious <a href=\"http://www.amazo...  \n",
              "2  My 2 cats love it! I have 2 picky eaters-- one...  \n",
              "3  Tasty These are quite good tasting!  Even thou...  \n",
              "4  Big fan & great for my diabetic mom I original...  "
            ],
            "text/html": [
              "\n",
              "  <div id=\"df-d22660cd-ed7a-4f9c-8d09-536b7e516dfb\">\n",
              "    <div class=\"colab-df-container\">\n",
              "      <div>\n",
              "<style scoped>\n",
              "    .dataframe tbody tr th:only-of-type {\n",
              "        vertical-align: middle;\n",
              "    }\n",
              "\n",
              "    .dataframe tbody tr th {\n",
              "        vertical-align: top;\n",
              "    }\n",
              "\n",
              "    .dataframe thead th {\n",
              "        text-align: right;\n",
              "    }\n",
              "</style>\n",
              "<table border=\"1\" class=\"dataframe\">\n",
              "  <thead>\n",
              "    <tr style=\"text-align: right;\">\n",
              "      <th></th>\n",
              "      <th>ProductId</th>\n",
              "      <th>HelpfulnessNumerator</th>\n",
              "      <th>HelpfulnessDenominator</th>\n",
              "      <th>Score</th>\n",
              "      <th>Text</th>\n",
              "    </tr>\n",
              "  </thead>\n",
              "  <tbody>\n",
              "    <tr>\n",
              "      <th>0</th>\n",
              "      <td>B001BS4G6O</td>\n",
              "      <td>0</td>\n",
              "      <td>0</td>\n",
              "      <td>5</td>\n",
              "      <td>makes pill time a treat I have to give my do m...</td>\n",
              "    </tr>\n",
              "    <tr>\n",
              "      <th>1</th>\n",
              "      <td>B000E65OII</td>\n",
              "      <td>0</td>\n",
              "      <td>0</td>\n",
              "      <td>5</td>\n",
              "      <td>Absolutely Delicious &lt;a href=\"http://www.amazo...</td>\n",
              "    </tr>\n",
              "    <tr>\n",
              "      <th>2</th>\n",
              "      <td>B001KUUNFQ</td>\n",
              "      <td>0</td>\n",
              "      <td>0</td>\n",
              "      <td>5</td>\n",
              "      <td>My 2 cats love it! I have 2 picky eaters-- one...</td>\n",
              "    </tr>\n",
              "    <tr>\n",
              "      <th>3</th>\n",
              "      <td>B000H7GS5W</td>\n",
              "      <td>1</td>\n",
              "      <td>1</td>\n",
              "      <td>4</td>\n",
              "      <td>Tasty These are quite good tasting!  Even thou...</td>\n",
              "    </tr>\n",
              "    <tr>\n",
              "      <th>4</th>\n",
              "      <td>B00370ESNU</td>\n",
              "      <td>0</td>\n",
              "      <td>0</td>\n",
              "      <td>5</td>\n",
              "      <td>Big fan &amp; great for my diabetic mom I original...</td>\n",
              "    </tr>\n",
              "  </tbody>\n",
              "</table>\n",
              "</div>\n",
              "      <button class=\"colab-df-convert\" onclick=\"convertToInteractive('df-d22660cd-ed7a-4f9c-8d09-536b7e516dfb')\"\n",
              "              title=\"Convert this dataframe to an interactive table.\"\n",
              "              style=\"display:none;\">\n",
              "        \n",
              "  <svg xmlns=\"http://www.w3.org/2000/svg\" height=\"24px\"viewBox=\"0 0 24 24\"\n",
              "       width=\"24px\">\n",
              "    <path d=\"M0 0h24v24H0V0z\" fill=\"none\"/>\n",
              "    <path d=\"M18.56 5.44l.94 2.06.94-2.06 2.06-.94-2.06-.94-.94-2.06-.94 2.06-2.06.94zm-11 1L8.5 8.5l.94-2.06 2.06-.94-2.06-.94L8.5 2.5l-.94 2.06-2.06.94zm10 10l.94 2.06.94-2.06 2.06-.94-2.06-.94-.94-2.06-.94 2.06-2.06.94z\"/><path d=\"M17.41 7.96l-1.37-1.37c-.4-.4-.92-.59-1.43-.59-.52 0-1.04.2-1.43.59L10.3 9.45l-7.72 7.72c-.78.78-.78 2.05 0 2.83L4 21.41c.39.39.9.59 1.41.59.51 0 1.02-.2 1.41-.59l7.78-7.78 2.81-2.81c.8-.78.8-2.07 0-2.86zM5.41 20L4 18.59l7.72-7.72 1.47 1.35L5.41 20z\"/>\n",
              "  </svg>\n",
              "      </button>\n",
              "      \n",
              "  <style>\n",
              "    .colab-df-container {\n",
              "      display:flex;\n",
              "      flex-wrap:wrap;\n",
              "      gap: 12px;\n",
              "    }\n",
              "\n",
              "    .colab-df-convert {\n",
              "      background-color: #E8F0FE;\n",
              "      border: none;\n",
              "      border-radius: 50%;\n",
              "      cursor: pointer;\n",
              "      display: none;\n",
              "      fill: #1967D2;\n",
              "      height: 32px;\n",
              "      padding: 0 0 0 0;\n",
              "      width: 32px;\n",
              "    }\n",
              "\n",
              "    .colab-df-convert:hover {\n",
              "      background-color: #E2EBFA;\n",
              "      box-shadow: 0px 1px 2px rgba(60, 64, 67, 0.3), 0px 1px 3px 1px rgba(60, 64, 67, 0.15);\n",
              "      fill: #174EA6;\n",
              "    }\n",
              "\n",
              "    [theme=dark] .colab-df-convert {\n",
              "      background-color: #3B4455;\n",
              "      fill: #D2E3FC;\n",
              "    }\n",
              "\n",
              "    [theme=dark] .colab-df-convert:hover {\n",
              "      background-color: #434B5C;\n",
              "      box-shadow: 0px 1px 3px 1px rgba(0, 0, 0, 0.15);\n",
              "      filter: drop-shadow(0px 1px 2px rgba(0, 0, 0, 0.3));\n",
              "      fill: #FFFFFF;\n",
              "    }\n",
              "  </style>\n",
              "\n",
              "      <script>\n",
              "        const buttonEl =\n",
              "          document.querySelector('#df-d22660cd-ed7a-4f9c-8d09-536b7e516dfb button.colab-df-convert');\n",
              "        buttonEl.style.display =\n",
              "          google.colab.kernel.accessAllowed ? 'block' : 'none';\n",
              "\n",
              "        async function convertToInteractive(key) {\n",
              "          const element = document.querySelector('#df-d22660cd-ed7a-4f9c-8d09-536b7e516dfb');\n",
              "          const dataTable =\n",
              "            await google.colab.kernel.invokeFunction('convertToInteractive',\n",
              "                                                     [key], {});\n",
              "          if (!dataTable) return;\n",
              "\n",
              "          const docLinkHtml = 'Like what you see? Visit the ' +\n",
              "            '<a target=\"_blank\" href=https://colab.research.google.com/notebooks/data_table.ipynb>data table notebook</a>'\n",
              "            + ' to learn more about interactive tables.';\n",
              "          element.innerHTML = '';\n",
              "          dataTable['output_type'] = 'display_data';\n",
              "          await google.colab.output.renderOutput(dataTable, element);\n",
              "          const docLink = document.createElement('div');\n",
              "          docLink.innerHTML = docLinkHtml;\n",
              "          element.appendChild(docLink);\n",
              "        }\n",
              "      </script>\n",
              "    </div>\n",
              "  </div>\n",
              "  "
            ]
          },
          "metadata": {},
          "execution_count": 5
        }
      ],
      "source": [
        "finaldf = finaldf.drop(columns=['Summary'])\n",
        "finaldf = finaldf.reset_index(drop = True)\n",
        "finaldf.head()"
      ]
    },
    {
      "cell_type": "code",
      "execution_count": null,
      "metadata": {
        "colab": {
          "base_uri": "https://localhost:8080/"
        },
        "id": "JiC69w7O_8th",
        "outputId": "3799ab17-c134-4818-c853-9a6fa8454402"
      },
      "outputs": [
        {
          "output_type": "stream",
          "name": "stdout",
          "text": [
            "<class 'pandas.core.frame.DataFrame'>\n",
            "RangeIndex: 4999 entries, 0 to 4998\n",
            "Data columns (total 5 columns):\n",
            " #   Column                  Non-Null Count  Dtype \n",
            "---  ------                  --------------  ----- \n",
            " 0   ProductId               4999 non-null   object\n",
            " 1   HelpfulnessNumerator    4999 non-null   int64 \n",
            " 2   HelpfulnessDenominator  4999 non-null   int64 \n",
            " 3   Score                   4999 non-null   int64 \n",
            " 4   Text                    4999 non-null   object\n",
            "dtypes: int64(3), object(2)\n",
            "memory usage: 195.4+ KB\n"
          ]
        }
      ],
      "source": [
        "#check if any particular column have null values\n",
        "finaldf.info()"
      ]
    },
    {
      "cell_type": "code",
      "execution_count": null,
      "metadata": {
        "id": "ivraEMqABZoS"
      },
      "outputs": [],
      "source": [
        "x = finaldf.drop(columns = [\"Score\"])\n",
        "x = x.to_numpy()\n",
        "y = finaldf[\"Score\"].to_numpy()"
      ]
    },
    {
      "cell_type": "markdown",
      "metadata": {
        "id": "x4KC4PWVbMe0"
      },
      "source": [
        "In the below cell, I split the data into training, validation and test splits (60%, 20% and 20% respectively)"
      ]
    },
    {
      "cell_type": "code",
      "execution_count": null,
      "metadata": {
        "id": "blL1KNWdEbHT"
      },
      "outputs": [],
      "source": [
        "from sklearn.model_selection import train_test_split\n",
        "x_train, x_rem, y_train, y_rem = train_test_split(x,y, train_size=0.6)\n",
        "test_size = 0.5\n",
        "x_valid, x_test, y_valid, y_test = train_test_split(x_rem,y_rem, test_size=0.5)"
      ]
    },
    {
      "cell_type": "code",
      "execution_count": null,
      "metadata": {
        "colab": {
          "base_uri": "https://localhost:8080/",
          "height": 143
        },
        "id": "2ATWqxCPiipx",
        "outputId": "97125cdf-cbfd-4cac-9b02-bdbc9ded40db"
      },
      "outputs": [
        {
          "output_type": "execute_result",
          "data": {
            "text/plain": [
              "               Training Set  Validation Set  Test Set\n",
              "Labels                                               \n",
              "Input Fields           2999            1000      1000\n",
              "Output Fields          2999            1000      1000"
            ],
            "text/html": [
              "\n",
              "  <div id=\"df-6e118b8d-20d8-44fc-b3f5-c6e5cb157539\">\n",
              "    <div class=\"colab-df-container\">\n",
              "      <div>\n",
              "<style scoped>\n",
              "    .dataframe tbody tr th:only-of-type {\n",
              "        vertical-align: middle;\n",
              "    }\n",
              "\n",
              "    .dataframe tbody tr th {\n",
              "        vertical-align: top;\n",
              "    }\n",
              "\n",
              "    .dataframe thead th {\n",
              "        text-align: right;\n",
              "    }\n",
              "</style>\n",
              "<table border=\"1\" class=\"dataframe\">\n",
              "  <thead>\n",
              "    <tr style=\"text-align: right;\">\n",
              "      <th></th>\n",
              "      <th>Training Set</th>\n",
              "      <th>Validation Set</th>\n",
              "      <th>Test Set</th>\n",
              "    </tr>\n",
              "    <tr>\n",
              "      <th>Labels</th>\n",
              "      <th></th>\n",
              "      <th></th>\n",
              "      <th></th>\n",
              "    </tr>\n",
              "  </thead>\n",
              "  <tbody>\n",
              "    <tr>\n",
              "      <th>Input Fields</th>\n",
              "      <td>2999</td>\n",
              "      <td>1000</td>\n",
              "      <td>1000</td>\n",
              "    </tr>\n",
              "    <tr>\n",
              "      <th>Output Fields</th>\n",
              "      <td>2999</td>\n",
              "      <td>1000</td>\n",
              "      <td>1000</td>\n",
              "    </tr>\n",
              "  </tbody>\n",
              "</table>\n",
              "</div>\n",
              "      <button class=\"colab-df-convert\" onclick=\"convertToInteractive('df-6e118b8d-20d8-44fc-b3f5-c6e5cb157539')\"\n",
              "              title=\"Convert this dataframe to an interactive table.\"\n",
              "              style=\"display:none;\">\n",
              "        \n",
              "  <svg xmlns=\"http://www.w3.org/2000/svg\" height=\"24px\"viewBox=\"0 0 24 24\"\n",
              "       width=\"24px\">\n",
              "    <path d=\"M0 0h24v24H0V0z\" fill=\"none\"/>\n",
              "    <path d=\"M18.56 5.44l.94 2.06.94-2.06 2.06-.94-2.06-.94-.94-2.06-.94 2.06-2.06.94zm-11 1L8.5 8.5l.94-2.06 2.06-.94-2.06-.94L8.5 2.5l-.94 2.06-2.06.94zm10 10l.94 2.06.94-2.06 2.06-.94-2.06-.94-.94-2.06-.94 2.06-2.06.94z\"/><path d=\"M17.41 7.96l-1.37-1.37c-.4-.4-.92-.59-1.43-.59-.52 0-1.04.2-1.43.59L10.3 9.45l-7.72 7.72c-.78.78-.78 2.05 0 2.83L4 21.41c.39.39.9.59 1.41.59.51 0 1.02-.2 1.41-.59l7.78-7.78 2.81-2.81c.8-.78.8-2.07 0-2.86zM5.41 20L4 18.59l7.72-7.72 1.47 1.35L5.41 20z\"/>\n",
              "  </svg>\n",
              "      </button>\n",
              "      \n",
              "  <style>\n",
              "    .colab-df-container {\n",
              "      display:flex;\n",
              "      flex-wrap:wrap;\n",
              "      gap: 12px;\n",
              "    }\n",
              "\n",
              "    .colab-df-convert {\n",
              "      background-color: #E8F0FE;\n",
              "      border: none;\n",
              "      border-radius: 50%;\n",
              "      cursor: pointer;\n",
              "      display: none;\n",
              "      fill: #1967D2;\n",
              "      height: 32px;\n",
              "      padding: 0 0 0 0;\n",
              "      width: 32px;\n",
              "    }\n",
              "\n",
              "    .colab-df-convert:hover {\n",
              "      background-color: #E2EBFA;\n",
              "      box-shadow: 0px 1px 2px rgba(60, 64, 67, 0.3), 0px 1px 3px 1px rgba(60, 64, 67, 0.15);\n",
              "      fill: #174EA6;\n",
              "    }\n",
              "\n",
              "    [theme=dark] .colab-df-convert {\n",
              "      background-color: #3B4455;\n",
              "      fill: #D2E3FC;\n",
              "    }\n",
              "\n",
              "    [theme=dark] .colab-df-convert:hover {\n",
              "      background-color: #434B5C;\n",
              "      box-shadow: 0px 1px 3px 1px rgba(0, 0, 0, 0.15);\n",
              "      filter: drop-shadow(0px 1px 2px rgba(0, 0, 0, 0.3));\n",
              "      fill: #FFFFFF;\n",
              "    }\n",
              "  </style>\n",
              "\n",
              "      <script>\n",
              "        const buttonEl =\n",
              "          document.querySelector('#df-6e118b8d-20d8-44fc-b3f5-c6e5cb157539 button.colab-df-convert');\n",
              "        buttonEl.style.display =\n",
              "          google.colab.kernel.accessAllowed ? 'block' : 'none';\n",
              "\n",
              "        async function convertToInteractive(key) {\n",
              "          const element = document.querySelector('#df-6e118b8d-20d8-44fc-b3f5-c6e5cb157539');\n",
              "          const dataTable =\n",
              "            await google.colab.kernel.invokeFunction('convertToInteractive',\n",
              "                                                     [key], {});\n",
              "          if (!dataTable) return;\n",
              "\n",
              "          const docLinkHtml = 'Like what you see? Visit the ' +\n",
              "            '<a target=\"_blank\" href=https://colab.research.google.com/notebooks/data_table.ipynb>data table notebook</a>'\n",
              "            + ' to learn more about interactive tables.';\n",
              "          element.innerHTML = '';\n",
              "          dataTable['output_type'] = 'display_data';\n",
              "          await google.colab.output.renderOutput(dataTable, element);\n",
              "          const docLink = document.createElement('div');\n",
              "          docLink.innerHTML = docLinkHtml;\n",
              "          element.appendChild(docLink);\n",
              "        }\n",
              "      </script>\n",
              "    </div>\n",
              "  </div>\n",
              "  "
            ]
          },
          "metadata": {},
          "execution_count": 9
        }
      ],
      "source": [
        "cols = ['Labels','Training Set', 'Validation Set', 'Test Set']\n",
        "fields = [['Input Fields', len(x_train), len(x_valid),len(x_test)], ['Output Fields', len(y_train), len(y_valid),len(y_test)]]\n",
        "splitdf = pd.DataFrame(fields, columns= cols)\n",
        "splitdf.set_index('Labels', inplace=True)\n",
        "splitdf"
      ]
    },
    {
      "cell_type": "code",
      "execution_count": null,
      "metadata": {
        "id": "HMzkKmtgC_Gn"
      },
      "outputs": [],
      "source": [
        "# Target Label 0: Positive sentiment reviews, Target Label 1: Negative sentiment reviews, Target Label 2: Neutral sentiment reviews\n",
        "mapped_train = []\n",
        "for labeltrain in y_train:\n",
        "  labeltrain-= 1\n",
        "  mapped_train.append(labeltrain)"
      ]
    },
    {
      "cell_type": "code",
      "execution_count": null,
      "metadata": {
        "id": "kZWxcvNA2Hsj"
      },
      "outputs": [],
      "source": [
        "#mapping as 0:positive review, 1: negative review, 2: neutral\n",
        "mapped_labels_train = [1 if label in [1, 2] else 2 if label == 3 else 0 for label in y_train]\n",
        "mapped_labels_val = [1 if label in [1, 2] else 2 if label == 3 else 0 for label in y_valid]\n",
        "mapped_labels_test = [1 if label in [1, 2] else 2 if label == 3 else 0 for label in y_test]"
      ]
    },
    {
      "cell_type": "markdown",
      "metadata": {
        "id": "_NbPAjcCbZLl"
      },
      "source": [
        "Extracting the texts columns from x_train and x_valid"
      ]
    },
    {
      "cell_type": "code",
      "execution_count": null,
      "metadata": {
        "id": "evP-oFAlnRtF"
      },
      "outputs": [],
      "source": [
        "train_text = x_train[:,3]\n",
        "#train_text"
      ]
    },
    {
      "cell_type": "code",
      "execution_count": null,
      "metadata": {
        "id": "I7_X2cBdsrM7"
      },
      "outputs": [],
      "source": [
        "val_text = x_valid[:,3]\n",
        "#val_text"
      ]
    },
    {
      "cell_type": "markdown",
      "metadata": {
        "id": "3IclUHDrbjvF"
      },
      "source": [
        "# Tokenizing and then clustering the data"
      ]
    },
    {
      "cell_type": "markdown",
      "metadata": {
        "id": "2YnFSRi-boiG"
      },
      "source": [
        "In this section, I tokenize the data first with the help of spacy and then parse the data to remove any html tags, after that I apply the pipeline on a TfidfVectorizer."
      ]
    },
    {
      "cell_type": "code",
      "execution_count": null,
      "metadata": {
        "id": "xwyuQ8rzFte8"
      },
      "outputs": [],
      "source": [
        "import spacy\n",
        "import string\n",
        "from sklearn.feature_extraction.text import TfidfVectorizer\n",
        "from spacy.lang.en.stop_words import STOP_WORDS\n",
        "from spacy.lang.en import English\n",
        "from sklearn.metrics.pairwise import cosine_similarity\n",
        "import random"
      ]
    },
    {
      "cell_type": "code",
      "execution_count": null,
      "metadata": {
        "id": "TqiLY9Gq8o9B"
      },
      "outputs": [],
      "source": [
        "nlp = spacy.load(\"en_core_web_sm\")\n",
        "\n",
        "def tokens_re(x):\n",
        "    tokens = []\n",
        "    doc = nlp(x)\n",
        "    for t in doc:\n",
        "        if not t.is_stop and not t.is_space and not t.is_punct:\n",
        "            if t.is_alpha:\n",
        "                tokens.append(t.lemma_.lower())\n",
        "    return tokens"
      ]
    },
    {
      "cell_type": "code",
      "execution_count": null,
      "metadata": {
        "id": "22SdP7jkG4Mw"
      },
      "outputs": [],
      "source": [
        "from lxml import html\n",
        "\n",
        "def text_pipe(x):\n",
        "    # Parse the HTML using lxml parser\n",
        "    html_ = html.fromstring(x)\n",
        "    # Get the text content from the HTML\n",
        "    x = str(html_.text_content())\n",
        "    # Tokenize the text using a spaCy pipeline\n",
        "    tokens = tokens_re(x)\n",
        "    return tokens"
      ]
    },
    {
      "cell_type": "code",
      "execution_count": null,
      "metadata": {
        "colab": {
          "base_uri": "https://localhost:8080/"
        },
        "id": "iYymbwXuyxCs",
        "outputId": "ef0344c5-ce53-4d02-cbb9-888065fcdd3a"
      },
      "outputs": [
        {
          "output_type": "stream",
          "name": "stderr",
          "text": [
            "/usr/local/lib/python3.9/dist-packages/sklearn/feature_extraction/text.py:528: UserWarning: The parameter 'token_pattern' will not be used since 'tokenizer' is not None'\n",
            "  warnings.warn(\n"
          ]
        }
      ],
      "source": [
        "tf_idf = TfidfVectorizer(tokenizer = text_pipe)\n",
        "X = tf_idf.fit_transform(train_text)\n",
        "V = tf_idf.transform(val_text)"
      ]
    },
    {
      "cell_type": "markdown",
      "metadata": {
        "id": "FRXcMEXIT5U2"
      },
      "source": [
        "After vectorizing the tokens, I write my own implementation of KMeans in the following section."
      ]
    },
    {
      "cell_type": "code",
      "execution_count": null,
      "metadata": {
        "id": "MaAkJdCLRExr"
      },
      "outputs": [],
      "source": [
        "import random\n",
        "from scipy.spatial.distance import cdist\n",
        "\n",
        "n_samples, n_features = X.shape\n",
        "\n",
        "def initialCentroids(k):\n",
        "    return X[np.random.choice(n_samples, k, replace=False), :].toarray()"
      ]
    },
    {
      "cell_type": "code",
      "execution_count": null,
      "metadata": {
        "id": "XYp4LVhIG4Mw"
      },
      "outputs": [],
      "source": [
        "def assign(c):\n",
        "    # Compute distances between each sample and the centroids\n",
        "    distances = cdist(X.toarray(), c)\n",
        "\n",
        "    # Assign each sample to the closest centroid\n",
        "    labels = np.argmin(distances, axis=1)\n",
        "    return labels"
      ]
    },
    {
      "cell_type": "code",
      "execution_count": null,
      "metadata": {
        "id": "S02GyVnXG4Mx"
      },
      "outputs": [],
      "source": [
        "def recalculate_centroids(labels, k):\n",
        "    x = []\n",
        "    for j in range(k):\n",
        "        C = X[labels == j].toarray()\n",
        "        if C.shape[0] == 0:\n",
        "            x.append(initialCentroids(1)[0])\n",
        "        else:\n",
        "            x.append(C.mean(axis=0))\n",
        "    return np.vstack(x)"
      ]
    },
    {
      "cell_type": "code",
      "execution_count": null,
      "metadata": {
        "id": "1141v0cwG4Mx"
      },
      "outputs": [],
      "source": [
        "def kmeans(k=5, max_iterations=100):\n",
        "    centroids = initialCentroids(k)\n",
        "    for i in range(max_iterations):\n",
        "        labels = assign(centroids)\n",
        "        updated = recalculate_centroids(labels, k)\n",
        "        if np.allclose(centroids, updated):\n",
        "            break\n",
        "        centroids = updated\n",
        "    return labels, centroids"
      ]
    },
    {
      "cell_type": "code",
      "execution_count": null,
      "metadata": {
        "id": "WPEaSp8qT9wi"
      },
      "outputs": [],
      "source": [
        "clusters, centroids = kmeans(5)"
      ]
    },
    {
      "cell_type": "code",
      "execution_count": null,
      "metadata": {
        "colab": {
          "base_uri": "https://localhost:8080/"
        },
        "id": "_abNVoewG4Mx",
        "outputId": "acb7d9e2-a05d-41fc-c4d8-25a6e026d376"
      },
      "outputs": [
        {
          "output_type": "stream",
          "name": "stdout",
          "text": [
            "Documents for cluster 1 :\n",
            "['Healthy as a box of chocolates for your dog. You would think such a large brand should be trusted; that they made money by making a healthy product for dogs. Well, let me not even say what effects this dog food had on my dog--let me just show the beginning of the ingredients list from the [...] website as of the date of this review (Check there yourself if you don\\'t trust me):<br /><br />Ground yellow corn, chicken by-product meal, corn gluten meal, whole wheat flour, animal fat preserved with mixed-tocopherols (form of Vitamin E), rice flour, beef, soy flour, sugar, sorbitol<br /><br />Corn and corn gluten and rice flour are not exactly wonderful, but--SUGAR and SORBITOL! Sorbitol, that nasty stuff in gum that gives people gas and loose stools! Can you wonder why your dog stinks up the house if it\\'s eating this crap? And sugar! Need I even say why that is bad, or what health problems that can lead to? My vet sure got on a soapbox over the dangers of sugar, and rightly so. And even the \"healthy weight\" stuff has sugar and sorbitol in it!<br /><br />Don\\'t buy Beneful for your dog. Pay careful attention to the entire ingredients list of the dog food you DO buy, as a lot of brands sure don\\'t think you care about whether your dog lives many years or has expensive vet bills as long as it scarfs down their corner-cutting product. And if you must buy Beneful, at least send the company a few angry letters telling them to take the sugar and fake sweeteners out so you no longer have to feel you\\'re killing your dog. I mean, come on, they could use apple juice if they wanted a sweetener. This is incredibly unhealthy and reprehensible, if you ask me. I sure won\\'t buy this dog food ever again, and I would think twice before trusting Purina.'\n",
            " \"Received WETLANDS Formula As Shown in Photo Amazon's photo and main heading both describe TOTW Wetlands (duck quail, turkey), but the written description further down the page is for a different TOTW canned food - High Prairie (bison, lamb, venison).<br /><br />Since the 1-star reviewer said they received the High Prairie bison/lamb/venison instead of the Wetlands duck/quail/turkey, I wasn't sure which 'flavor' Amazon would ship.  They shipped Wetlands as shown in the photo and main heading at the top of the page.<br /><br />The Wetlands formula is crammed with nicely sized meaty chunks from bottom to top of can with a tiny amount of gravy coating the chunks. I mix 1/4 can of this with TOTW dry dog food and feed to my 5 month old puppy.  She loves this food and scarfs down all 3 of her daily feedings.<br /><br />Highly recommend this quality dog food.\"\n",
            " 'Made in China, not USA. Beware! Contrary to one of the reviews, these Smokehouse Duck Chips are labeled \"Product of China\". There are many excellent products available that are made in the USA that I prefer to feed to my dogs such as Newman\\'s Own, Zukes and Platos brands. The package also says \"Not for human consumption. Wash hands with soap and water after handling.\" That does not sound like something I want to feed to MY dogs. These are going back!']\n",
            "\n",
            "\n",
            "Documents for cluster 2 :\n",
            "['Protein Bars These protein bars are delicious and satisfy my craving for sweets, which I should not have.  This white chocolate is my favorite flavor. It keeps me from eating much higher calorie sweets like cheesecake.'\n",
            " \"Not as tasty as other Larabars I had tried the cashew nut Larabar and loved it. Then tried some of the fruit ones. Some were great. I didn't love the cherry as much. I tried this one because I love ginger.  I don't love the flavor of this bar as much as other Larabars.  With all the bars Larabar offers, I probably won't buy ginger snap again. I will definitely stick with Larabar, though. Tasty without the sugars.\"\n",
            " 'Non-existent Cashews but lots of Dates The bar has almost no cashew but lots of dates. The bar should be labeled \"Almond Date Bar.\" The label is misguided.']\n",
            "\n",
            "\n",
            "Documents for cluster 3 :\n",
            "['NOT FOR THE INHALERS We bought this along with the Himalayan Inhaler (which works great).  However this fine ground salt does not work in the inhaler, it comes into your mouth as you breathe.  Use the rock salt instead.'\n",
            " 'Yum! My husband and I LOVE these chips! Personally I think the flavor is perfect. Try them for yourself!'\n",
            " 'Amusing The boxes are a lot smaller than they look in the picture.  In fact, the enlarged picture is almost actual size. However, the product itself is fun.  Inside the box are 10 individually sealed little red pills about the size of the iPhone (&iPod touch) home button and 3mm thick.  You let it dissolve on your tongue for a minute and then sour things taste sweet.  I found it most effective with limes and other citrus.  Lemons and limes still acid-burned my tongue, cheeks, and lips but they tasted very sweet.  Sour warhead candies and salt & vinegar Kettle potato chips tasted sweet too.  Beer tasted very different under the effect of miracle fruit, not sure if it tasted sweeter, but the flavor changed.  The effect wore off after about 30-45 minutes.<br />Only gripe: price could be better.  How is it possible that $12/box (10 pills) is the cheapest price on the internet?']\n",
            "\n",
            "\n",
            "Documents for cluster 4 :\n",
            "[\"Best tea ever I just received this order, I'm drinking this tea as I'm writing this, it taste terrific, smooth, not too sweet, flavor is just right, best tea I've ever bought so far, will definitely buy more like this and try other flavors.<br /><br />Thank you so much!\"\n",
            " \"Finally!!  A good cup of tea in the USA! I found this recently at Walmart and have practically bought them out!  It is the only worthwhile tea to drink in this country.  I am convinced that the only reason the US prefers coffee is due to the poor quality of tea available here.  Anyway, if you're used to the strong, milky cuppa that is popular in the UK, this is all you need.\"\n",
            " \"Not fond of smell or taste I purchased 3 different flavors of Stash tea when it was on sale at Sprouts after seeing the great reviews on Amazon.  I must say, Stash makes mediocre tea.  There's something about the aroma and taste of their teas that does not agree with my senses.  Maybe it's the cloying smell of the bergamot in their Earl Grey.  I prefer Twinings, especially their Lady Grey tea over Stash.  Of all the teas I've tried so far, Ahmad's fruit-flavored teas are my favorite (especially the Peach & Passion Fruit Black Tea, but the mango is good as wel).  Aroma and taste is amazingly refreshing.\"]\n",
            "\n",
            "\n",
            "Documents for cluster 5 :\n",
            "[\"Not what we hoped for. We were hoping for squaw candy. This jerky is not what we hoped. It is okay as jerky goes, but a little too fishy for our taste. Won't buy it again.\"\n",
            " 'Gag! I\\'m a sucker for low cal, low fat things- I\\'m always looking for ways to satisfy my cravings without \"cheating\". This is not it- I\\'m not sure how anyone with taste buds could even slightly stomach this junk. I am very disappointed and after taking one half a teaspoon out of the jar, it ended up in the trash can. Yuck- dont waste your $$$$'\n",
            " 'Great Fondant Easy to handle and has a great taste. Ten times better than the Wilton fondant.']\n",
            "\n",
            "\n"
          ]
        }
      ],
      "source": [
        "#documents assigned to each cluster examples\n",
        "for i in range(5):\n",
        "    documents = train_text[np.where(clusters == i)]\n",
        "    print(\"Documents for cluster\", i+1, \":\")\n",
        "    print(documents[:3])\n",
        "    print(\"\\n\")"
      ]
    },
    {
      "cell_type": "code",
      "execution_count": null,
      "metadata": {
        "colab": {
          "base_uri": "https://localhost:8080/"
        },
        "id": "48FatZgTG4Mx",
        "outputId": "35a6c4a7-a5fa-4576-f3a8-3845af4c36db"
      },
      "outputs": [
        {
          "output_type": "execute_result",
          "data": {
            "text/plain": [
              "[['dog', 'cat', 'food', 'treat', 'love'],\n",
              " ['cookie', 'bar', 'gluten', 'free', 'good'],\n",
              " ['chip', 'sauce', 'salt', 'flavor', 'good'],\n",
              " ['tea', 'coffee', 'cup', 'good', 'taste'],\n",
              " ['good', 'great', 'product', 'taste', 'like']]"
            ]
          },
          "metadata": {},
          "execution_count": 24
        }
      ],
      "source": [
        "cluster_indices = {}\n",
        "for i, c in enumerate(clusters):\n",
        "    if c in cluster_indices:\n",
        "        cluster_indices[c].append(i)\n",
        "    else:\n",
        "        cluster_indices[c] = [i]\n",
        "\n",
        "# Get the top 5 tokens in each centroid\n",
        "top_tokens = []\n",
        "for centroid in centroids:\n",
        "    top_indices = centroid.argsort()[::-1][:5]\n",
        "    top_tokens.append([tf_idf.get_feature_names_out()[i] for i in top_indices])\n",
        "top_tokens"
      ]
    },
    {
      "cell_type": "code",
      "execution_count": null,
      "metadata": {
        "id": "BuXFnZDsG4Mx"
      },
      "outputs": [],
      "source": [
        "from sklearn.metrics import confusion_matrix\n",
        "from sklearn.metrics import ConfusionMatrixDisplay"
      ]
    },
    {
      "cell_type": "code",
      "execution_count": null,
      "metadata": {
        "colab": {
          "base_uri": "https://localhost:8080/",
          "height": 297
        },
        "id": "zFuz0ma7G4My",
        "outputId": "8ee786aa-0c36-436a-f631-873712ff738b"
      },
      "outputs": [
        {
          "output_type": "execute_result",
          "data": {
            "text/plain": [
              "<sklearn.metrics._plot.confusion_matrix.ConfusionMatrixDisplay at 0x7fc234ce9c10>"
            ]
          },
          "metadata": {},
          "execution_count": 26
        },
        {
          "output_type": "display_data",
          "data": {
            "text/plain": [
              "<Figure size 432x288 with 2 Axes>"
            ],
            "image/png": "[encoded data removed]"
          },
          "metadata": {
            "needs_background": "light"
          }
        }
      ],
      "source": [
        "# Get target labels for each cluster\n",
        "cluster_labels = [np.bincount(clusters[clusters == i]).argmax() for i in range(5)]\n",
        "\n",
        "# Assign target labels to each document in each cluster\n",
        "assigned = [cluster_labels[c] for c in clusters]\n",
        "\n",
        "# Construct confusion matrix for 5 clusters\n",
        "conf_matrix = confusion_matrix(mapped_train, assigned, labels=cluster_labels)\n",
        "ConfusionMatrixDisplay(confusion_matrix=conf_matrix).plot()"
      ]
    },
    {
      "cell_type": "code",
      "execution_count": null,
      "metadata": {
        "id": "CgitBKoXG4My"
      },
      "outputs": [],
      "source": [
        "from sklearn.feature_extraction.text import CountVectorizer\n",
        "from sklearn.dummy import DummyClassifier\n",
        "from sklearn.linear_model import LogisticRegression\n",
        "from sklearn.svm import SVC\n",
        "from sklearn.metrics import accuracy_score, precision_score, recall_score, f1_score"
      ]
    },
    {
      "cell_type": "code",
      "execution_count": null,
      "metadata": {
        "colab": {
          "base_uri": "https://localhost:8080/"
        },
        "id": "Iu6jaGIgG4My",
        "outputId": "b479c43e-2a87-4863-8cb9-ed7179ffdad2"
      },
      "outputs": [
        {
          "output_type": "stream",
          "name": "stderr",
          "text": [
            "/usr/local/lib/python3.9/dist-packages/sklearn/feature_extraction/text.py:528: UserWarning: The parameter 'token_pattern' will not be used since 'tokenizer' is not None'\n",
            "  warnings.warn(\n"
          ]
        }
      ],
      "source": [
        "vectorizer = CountVectorizer(tokenizer=text_pipe, binary = True)\n",
        "X_countvec = vectorizer.fit_transform(train_text)\n",
        "V_countvec = vectorizer.transform(val_text)"
      ]
    },
    {
      "cell_type": "code",
      "execution_count": null,
      "metadata": {
        "id": "hUgxX_hWLit7"
      },
      "outputs": [],
      "source": [
        "# 1) Dummy Classifier with strategy=\"most_frequent\"\n",
        "dummy_mf = DummyClassifier(strategy=\"most_frequent\")\n",
        "dummy_mf.fit(X_countvec, mapped_labels_train)\n",
        "y_pred_dummy_mf = dummy_mf.predict(V_countvec)\n",
        "\n",
        "# 2) Dummy Classifier with strategy=\"stratified\"\n",
        "dummy_str = DummyClassifier(strategy=\"stratified\")\n",
        "dummy_str.fit(X_countvec, mapped_labels_train)\n",
        "y_pred_dummy_str = dummy_str.predict(V_countvec)\n",
        "\n",
        "# 3) LogisticRegression with One-hot vectorization\n",
        "lr_cvec = LogisticRegression(max_iter=5000)\n",
        "lr_cvec.fit(X_countvec, mapped_labels_train)\n",
        "y_pred_lr_cvec = lr_cvec.predict(V_countvec)\n",
        "\n",
        "# 4) LogisticRegression with TF-IDF vectorization (default settings)\n",
        "lr_tfidf = LogisticRegression(max_iter=5000)\n",
        "lr_tfidf.fit(X, mapped_labels_train)\n",
        "y_pred_lr_tfidf = lr_tfidf.predict(V)\n",
        "\n",
        "# 5) SVC Classifier with One-hot vectorization (SVM with RBF kernel, default settings)\n",
        "svc_cvec = SVC()\n",
        "svc_cvec.fit(X_countvec, mapped_labels_train)\n",
        "y_pred_svc_cvec = svc_cvec.predict(V_countvec)"
      ]
    },
    {
      "cell_type": "code",
      "execution_count": null,
      "metadata": {
        "id": "8yVmvlT0QbXY"
      },
      "outputs": [],
      "source": [
        "# own classifier/tokenisation/normalisation approach from Scikit Learn\n",
        "from sklearn.tree import DecisionTreeClassifier\n",
        "\n",
        "# Instantiate a DecisionTreeClassifier\n",
        "dt_tfidf = DecisionTreeClassifier()\n",
        "\n",
        "# Fit the model on the training data\n",
        "dt_tfidf.fit(X, mapped_labels_train)\n",
        "\n",
        "# Predict on the training and validation sets\n",
        "y_pred_dt_tfidf_train = dt_tfidf.predict(X)\n",
        "y_pred_dt_tfidf_val = dt_tfidf.predict(V)"
      ]
    },
    {
      "cell_type": "code",
      "execution_count": null,
      "metadata": {
        "id": "j3Qw3bupLZsV"
      },
      "outputs": [],
      "source": [
        "def evaluation_models(ytrue, ypredict):\n",
        "    accuracy = accuracy_score(ytrue, ypredict)\n",
        "    precision = precision_score(ytrue, ypredict, average='macro', zero_division = 1.0)\n",
        "    recall = recall_score(ytrue, ypredict, average='macro', zero_division = 1.0)\n",
        "    f1 = f1_score(ytrue, ypredict, average='macro', zero_division = 1.0)\n",
        "    return accuracy, precision, recall, f1"
      ]
    },
    {
      "cell_type": "code",
      "execution_count": null,
      "metadata": {
        "id": "hoiHGzfZRmAd"
      },
      "outputs": [],
      "source": [
        "from sklearn.metrics import classification_report"
      ]
    },
    {
      "cell_type": "code",
      "execution_count": null,
      "metadata": {
        "id": "vqPhNFt7Rxs4"
      },
      "outputs": [],
      "source": [
        "models = {\n",
        "    \"Dummy Most Frequent\": dummy_mf,\n",
        "    \"Dummy Stratified\": dummy_str,\n",
        "    \"LR with One-hot vectorization\": lr_cvec,\n",
        "    \"LR with TF-IDF vectorization\": lr_tfidf,\n",
        "    \"SVC Classifier\": svc_cvec,\n",
        "    \"DecisionTree TF-IDF\": dt_tfidf,\n",
        "}\n",
        "\n",
        "train_scores = []\n",
        "for n,m in models.items():\n",
        "    if n == \"LR with One-hot vectorization\" or n == \"SVC Classifier\":\n",
        "        X_tr = X_countvec\n",
        "    elif n == \"LR with TF-IDF vectorization\" or n==\"DecisionTree TF-IDF\":\n",
        "        X_tr = X\n",
        "    else: #Dummy Most Frequent, Dummy Stratified\n",
        "        X_tr = X_countvec\n",
        "    y_pred_train = m.predict(X_tr)\n",
        "    Tscores = evaluation_models(mapped_labels_train, y_pred_train)\n",
        "    train_scores.append([n] + list(Tscores))\n",
        "\n",
        "# Evaluate models on validation set\n",
        "val_scores = []\n",
        "for n,m in models.items():\n",
        "    if n == \"Dummy Most Frequent\":\n",
        "        Vscores = evaluation_models(mapped_labels_val, y_pred_dummy_mf)\n",
        "\n",
        "    elif n == \"Dummy Stratified\":\n",
        "        Vscores = evaluation_models(mapped_labels_val, y_pred_dummy_str)\n",
        "\n",
        "    elif n == \"LR with One-hot vectorization\":\n",
        "        Vscores = evaluation_models(mapped_labels_val, y_pred_lr_cvec)\n",
        "\n",
        "    elif n==\"LR with TF-IDF vectorization\":\n",
        "        Vscores = evaluation_models(mapped_labels_val, y_pred_lr_tfidf)\n",
        "\n",
        "    elif n==\"SVC Classifier\":\n",
        "        Vscores = evaluation_models(mapped_labels_val, y_pred_svc_cvec)\n",
        "\n",
        "    else: #Decision Tree\n",
        "        Vscores = evaluation_models(mapped_labels_val, y_pred_dt_tfidf_val)\n",
        "\n",
        "    val_scores.append([n] + list(Vscores))"
      ]
    },
    {
      "cell_type": "code",
      "execution_count": null,
      "metadata": {
        "colab": {
          "base_uri": "https://localhost:8080/"
        },
        "id": "bPRrEdTiXfI_",
        "outputId": "cb254cfa-8f34-4228-dd96-69cc42b835f9"
      },
      "outputs": [
        {
          "output_type": "stream",
          "name": "stdout",
          "text": [
            "Training Set Performance\n",
            "                               Accuracy  Precision  Recall     F1\n",
            "Classifier                                                       \n",
            "Dummy Most Frequent               0.779      0.926   0.333  0.292\n",
            "Dummy Stratified                  0.639      0.350   0.351  0.350\n",
            "LR with One-hot vectorization     0.996      0.998   0.987  0.993\n",
            "LR with TF-IDF vectorization      0.865      0.922   0.556  0.608\n",
            "SVC Classifier                    0.921      0.962   0.729  0.800\n",
            "DecisionTree TF-IDF               1.000      1.000   1.000  1.000\n",
            "\n",
            "Validation Set Performance\n",
            "                               Accuracy  Precision  Recall     F1\n",
            "Classifier                                                       \n",
            "Dummy Most Frequent               0.791      0.930   0.333  0.294\n",
            "Dummy Stratified                  0.625      0.329   0.329  0.329\n",
            "LR with One-hot vectorization     0.831      0.620   0.547  0.575\n",
            "LR with TF-IDF vectorization      0.825      0.734   0.428  0.452\n",
            "SVC Classifier                    0.813      0.899   0.388  0.391\n",
            "DecisionTree TF-IDF               0.734      0.440   0.435  0.437\n"
          ]
        }
      ],
      "source": [
        "colss = [\"Classifier\", \"Accuracy\", \"Precision\", \"Recall\", \"F1\"]\n",
        "print(\"Training Set Performance\")\n",
        "traindf = pd.DataFrame(train_scores, columns = colss)\n",
        "traindf.set_index(\"Classifier\", inplace=True)\n",
        "traindf = traindf.round(3)\n",
        "print(traindf)\n",
        "\n",
        "print(\"\\nValidation Set Performance\")\n",
        "\n",
        "valdf = pd.DataFrame(val_scores, columns= colss)\n",
        "valdf.set_index(\"Classifier\", inplace=True)\n",
        "valdf = valdf.round(3)\n",
        "print(valdf)"
      ]
    },
    {
      "cell_type": "code",
      "execution_count": null,
      "metadata": {
        "id": "U0Y7WW3hV0BJ"
      },
      "outputs": [],
      "source": [
        "#print(classification_report(mapped_labels_val, y_pred_val))"
      ]
    },
    {
      "cell_type": "code",
      "execution_count": null,
      "metadata": {
        "id": "a-hMeu4TXR24"
      },
      "outputs": [],
      "source": [
        "#print(classification_report(mapped_labels_train, y_pred_train))"
      ]
    },
    {
      "cell_type": "code",
      "execution_count": null,
      "metadata": {
        "colab": {
          "base_uri": "https://localhost:8080/",
          "height": 36
        },
        "id": "G4iQPhNEYSVO",
        "outputId": "62799b05-a265-4a5b-a84a-caa09c972c68"
      },
      "outputs": [
        {
          "output_type": "execute_result",
          "data": {
            "text/plain": [
              "'LR with One-hot vectorization'"
            ],
            "application/vnd.google.colaboratory.intrinsic+json": {
              "type": "string"
            }
          },
          "metadata": {},
          "execution_count": 37
        }
      ],
      "source": [
        "# Find the classifier with the highest F1 score on the validation set\n",
        "best_classifier = valdf[\"F1\"].idxmax()\n",
        "best_classifier"
      ]
    },
    {
      "cell_type": "code",
      "execution_count": null,
      "metadata": {
        "colab": {
          "base_uri": "https://localhost:8080/",
          "height": 295
        },
        "id": "Fvc27wB-Y8bE",
        "outputId": "64175423-337c-4679-b697-15328df1430d"
      },
      "outputs": [
        {
          "output_type": "display_data",
          "data": {
            "text/plain": [
              "<Figure size 432x288 with 1 Axes>"
            ],
            "image/png": "[encoded data removed]"
          },
          "metadata": {
            "needs_background": "light"
          }
        }
      ],
      "source": [
        "# Train a logistic regression classifier with one-hot vectorization\n",
        "import matplotlib.pyplot as plt\n",
        "\n",
        "report = classification_report(mapped_labels_val, y_pred_lr_cvec, output_dict=True)\n",
        "\n",
        "# Extract the F1 scores for each class\n",
        "labels = sorted(set(mapped_labels_val))\n",
        "f1_score_ = [report[str(label)]['f1-score'] for label in labels]\n",
        "\n",
        "# Plot the F1 scores\n",
        "plt.bar(labels, f1_score_)\n",
        "plt.xlabel('Class')\n",
        "plt.ylabel('F1 score')\n",
        "plt.title('F1 score for each class in LogisticRegression with One-hot vectorization')\n",
        "plt.show()"
      ]
    },
    {
      "cell_type": "markdown",
      "metadata": {
        "id": "nM5buH3uUSnz"
      },
      "source": [
        "# Parameter Tuning"
      ]
    },
    {
      "cell_type": "markdown",
      "metadata": {
        "id": "FC_MGdnoUXTb"
      },
      "source": [
        "In this section, I try out different parameters on classifier and vectorizer to find the optimal parameters for the same.\n",
        "1. Classifier - Regularisation C value (typical values might be powers of 10 (from 10^-3 to 10^5)\n",
        "2. Vectorizer - Parameters: sublinear_tf (either True or False), max_features (vocabulary size) (in a range None to 50k), and norm (either l1 or l2)"
      ]
    },
    {
      "cell_type": "code",
      "execution_count": null,
      "metadata": {
        "id": "4wc9Y96HZ4zN"
      },
      "outputs": [],
      "source": [
        "from sklearn.model_selection import ParameterGrid"
      ]
    },
    {
      "cell_type": "code",
      "execution_count": null,
      "metadata": {
        "colab": {
          "base_uri": "https://localhost:8080/"
        },
        "id": "VfU_Jq0XeXJ9",
        "outputId": "7e010a7e-d290-4175-cffd-61ee2f30fea0"
      },
      "outputs": [
        {
          "output_type": "stream",
          "name": "stdout",
          "text": [
            "Evaluating {'C': 0.01} -\n",
            "Accuracy 0.791\n",
            "Precision 0.9303333333333333\n",
            "Recall 0.3333333333333333\n",
            "F1 0.2944351386562442\n",
            "\n",
            "\n",
            "Evaluating {'C': 0.1} -\n",
            "Accuracy 0.791\n",
            "Precision 0.9303333333333333\n",
            "Recall 0.3333333333333333\n",
            "F1 0.2944351386562442\n",
            "\n",
            "\n",
            "Evaluating {'C': 1} -\n",
            "Accuracy 0.825\n",
            "Precision 0.7340441833737709\n",
            "Recall 0.4275024481047273\n",
            "F1 0.4518477240126724\n",
            "\n",
            "\n",
            "Evaluating {'C': 10} -\n",
            "Accuracy 0.844\n",
            "Precision 0.6607413892267991\n",
            "Recall 0.5267824173025676\n",
            "F1 0.5652777777777779\n",
            "\n",
            "\n",
            "Evaluating {'C': 1000} -\n",
            "Accuracy 0.829\n",
            "Precision 0.6169426553572895\n",
            "Recall 0.5354594706030372\n",
            "F1 0.5646014337938564\n",
            "\n",
            "\n",
            "Evaluating {'C': 100000} -\n",
            "Accuracy 0.827\n",
            "Precision 0.6152548859465113\n",
            "Recall 0.5452743241563512\n",
            "F1 0.5721425834485002\n",
            "\n",
            "\n",
            "Best params: {'C': 100000}\n",
            "Best score: 0.572\n"
          ]
        }
      ],
      "source": [
        "cdict = {\n",
        "    'C': [0.1, 0.001, 10, 100, 1000, 10000],   #from 10^-3 to 10^5\n",
        "}\n",
        "best_c, cscore = None, 0\n",
        "for param in ParameterGrid(cdict):\n",
        "    cLR = LogisticRegression(random_state=42, C=param['C'],max_iter=1000)\n",
        "    cLR.fit(X, mapped_labels_train)\n",
        "\n",
        "\n",
        "    ypred = cLR.predict(V)\n",
        "    valscore = evaluation_models(mapped_labels_val, ypred)\n",
        "    print(f\"Evaluating {param} -\")\n",
        "    print(\"Accuracy\", valscore[0])\n",
        "    print(\"Precision\", valscore[1])\n",
        "    print(\"Recall\", valscore[2])\n",
        "    print(\"F1\", valscore[3])\n",
        "    print(\"\\n\")\n",
        "\n",
        "    if valscore[3] > cscore:\n",
        "        best_c = param\n",
        "        cscore = valscore[3]\n",
        "\n",
        "print(f\"Best params: {best_c}\")\n",
        "print(f\"Best score: {cscore:.3f}\")"
      ]
    },
    {
      "cell_type": "code",
      "execution_count": null,
      "metadata": {
        "colab": {
          "base_uri": "https://localhost:8080/"
        },
        "id": "Y3EakXS7_HcB",
        "outputId": "fea1b42d-9394-4f2d-9e15-6c4a9cd8f819"
      },
      "outputs": [
        {
          "output_type": "stream",
          "name": "stderr",
          "text": [
            "/usr/local/lib/python3.9/dist-packages/sklearn/feature_extraction/text.py:528: UserWarning: The parameter 'token_pattern' will not be used since 'tokenizer' is not None'\n",
            "  warnings.warn(\n"
          ]
        },
        {
          "output_type": "stream",
          "name": "stdout",
          "text": [
            "Evaluating {'C': 100000, 'max_features': None} -\n",
            "Accuracy 0.827\n",
            "Precision 0.6152548859465113\n",
            "Recall 0.5452743241563512\n",
            "F1 0.5721425834485002\n",
            "\n",
            "\n"
          ]
        },
        {
          "output_type": "stream",
          "name": "stderr",
          "text": [
            "/usr/local/lib/python3.9/dist-packages/sklearn/feature_extraction/text.py:528: UserWarning: The parameter 'token_pattern' will not be used since 'tokenizer' is not None'\n",
            "  warnings.warn(\n"
          ]
        },
        {
          "output_type": "stream",
          "name": "stdout",
          "text": [
            "Evaluating {'C': 100000, 'max_features': 5000} -\n",
            "Accuracy 0.816\n",
            "Precision 0.5777062900821163\n",
            "Recall 0.5292068747025136\n",
            "F1 0.5485896430752931\n",
            "\n",
            "\n"
          ]
        },
        {
          "output_type": "stream",
          "name": "stderr",
          "text": [
            "/usr/local/lib/python3.9/dist-packages/sklearn/feature_extraction/text.py:528: UserWarning: The parameter 'token_pattern' will not be used since 'tokenizer' is not None'\n",
            "  warnings.warn(\n"
          ]
        },
        {
          "output_type": "stream",
          "name": "stdout",
          "text": [
            "Evaluating {'C': 100000, 'max_features': 15000} -\n",
            "Accuracy 0.827\n",
            "Precision 0.6152548859465113\n",
            "Recall 0.5452743241563512\n",
            "F1 0.5721425834485002\n",
            "\n",
            "\n"
          ]
        },
        {
          "output_type": "stream",
          "name": "stderr",
          "text": [
            "/usr/local/lib/python3.9/dist-packages/sklearn/feature_extraction/text.py:528: UserWarning: The parameter 'token_pattern' will not be used since 'tokenizer' is not None'\n",
            "  warnings.warn(\n"
          ]
        },
        {
          "output_type": "stream",
          "name": "stdout",
          "text": [
            "Evaluating {'C': 100000, 'max_features': 25000} -\n",
            "Accuracy 0.827\n",
            "Precision 0.6152548859465113\n",
            "Recall 0.5452743241563512\n",
            "F1 0.5721425834485002\n",
            "\n",
            "\n"
          ]
        },
        {
          "output_type": "stream",
          "name": "stderr",
          "text": [
            "/usr/local/lib/python3.9/dist-packages/sklearn/feature_extraction/text.py:528: UserWarning: The parameter 'token_pattern' will not be used since 'tokenizer' is not None'\n",
            "  warnings.warn(\n"
          ]
        },
        {
          "output_type": "stream",
          "name": "stdout",
          "text": [
            "Evaluating {'C': 100000, 'max_features': 50000} -\n",
            "Accuracy 0.827\n",
            "Precision 0.6152548859465113\n",
            "Recall 0.5452743241563512\n",
            "F1 0.5721425834485002\n",
            "\n",
            "\n",
            "Best params: {'C': 100000, 'max_features': None}\n",
            "Best score: 0.572\n"
          ]
        }
      ],
      "source": [
        "mf_cdict = {\n",
        "    'C': [best_c['C']],   # 10 because it had the best f1 score\n",
        "    'max_features': [None, 5000, 10000, 20000, 50000], #from None to 50K\n",
        "}\n",
        "best_mf, mfscore = None, 0\n",
        "for param in ParameterGrid(mf_cdict):\n",
        "    vectorizer2 = TfidfVectorizer(tokenizer=text_pipe, max_features=param['max_features']) #max_features is a vectorizer parameter unlike C\n",
        "    x_mf = vectorizer2.fit_transform(train_text)\n",
        "    v_mf = vectorizer2.transform(val_text)\n",
        "    cLR2 = LogisticRegression(random_state=36, C=param['C'],max_iter=1000)\n",
        "    cLR2.fit(x_mf, mapped_labels_train)\n",
        "\n",
        "\n",
        "    ypred2 = cLR2.predict(v_mf)\n",
        "    valscore2 = evaluation_models(mapped_labels_val, ypred2)\n",
        "    print(f\"Evaluating {param} -\")\n",
        "    print(\"Accuracy\", valscore2[0])\n",
        "    print(\"Precision\", valscore2[1])\n",
        "    print(\"Recall\", valscore2[2])\n",
        "    print(\"F1\", valscore2[3])\n",
        "    print(\"\\n\")\n",
        "\n",
        "    if valscore2[3] > mfscore:\n",
        "        best_mf = param\n",
        "        mfscore = valscore2[3]\n",
        "\n",
        "\n",
        "print(f\"Best params: {best_mf}\")\n",
        "print(f\"Best score: {mfscore:.3f}\")"
      ]
    },
    {
      "cell_type": "code",
      "execution_count": null,
      "metadata": {
        "colab": {
          "base_uri": "https://localhost:8080/"
        },
        "id": "VM8qS5N1IAcU",
        "outputId": "d156146e-3a71-4cec-bf3f-e69994c3e0c9"
      },
      "outputs": [
        {
          "output_type": "stream",
          "name": "stderr",
          "text": [
            "/usr/local/lib/python3.9/dist-packages/sklearn/feature_extraction/text.py:528: UserWarning: The parameter 'token_pattern' will not be used since 'tokenizer' is not None'\n",
            "  warnings.warn(\n"
          ]
        },
        {
          "output_type": "stream",
          "name": "stdout",
          "text": [
            "Evaluating {'C': 100000, 'max_features': None, 'sublinear_tf': True} -\n",
            "Accuracy 0.823\n",
            "Precision 0.6018790849673203\n",
            "Recall 0.5368843736641534\n",
            "F1 0.5619467144757159\n",
            "\n",
            "\n"
          ]
        },
        {
          "output_type": "stream",
          "name": "stderr",
          "text": [
            "/usr/local/lib/python3.9/dist-packages/sklearn/feature_extraction/text.py:528: UserWarning: The parameter 'token_pattern' will not be used since 'tokenizer' is not None'\n",
            "  warnings.warn(\n"
          ]
        },
        {
          "output_type": "stream",
          "name": "stdout",
          "text": [
            "Evaluating {'C': 100000, 'max_features': None, 'sublinear_tf': False} -\n",
            "Accuracy 0.827\n",
            "Precision 0.6152548859465113\n",
            "Recall 0.5452743241563512\n",
            "F1 0.5721425834485002\n",
            "\n",
            "\n",
            "Best params: {'C': 100000, 'max_features': None, 'sublinear_tf': False}\n",
            "Best score: 0.572\n"
          ]
        }
      ],
      "source": [
        "params_3 = {\n",
        "    'C': [best_mf['C']],\n",
        "    'sublinear_tf': [True, False], #Either true or False\n",
        "    'max_features': [best_mf['max_features']],\n",
        "}\n",
        "\n",
        "best_stf, stfscore = None, 0\n",
        "for param in ParameterGrid(params_3):\n",
        "    vectorizer3 = TfidfVectorizer(tokenizer=text_pipe, max_features=param['max_features'], sublinear_tf=param['sublinear_tf'])\n",
        "    x_stf = vectorizer3.fit_transform(train_text)\n",
        "    v_stf = vectorizer3.transform(val_text)\n",
        "    cLR3 = LogisticRegression(random_state=36, C=param['C'],max_iter=1000)\n",
        "    cLR3.fit(x_stf, mapped_labels_train)\n",
        "\n",
        "\n",
        "    ypred3 = cLR3.predict(v_stf)\n",
        "    valscore3 = evaluation_models(mapped_labels_val, ypred3)\n",
        "    print(f\"Evaluating {param} -\")\n",
        "    print(\"Accuracy\", valscore3[0])\n",
        "    print(\"Precision\", valscore3[1])\n",
        "    print(\"Recall\", valscore3[2])\n",
        "    print(\"F1\", valscore3[3])\n",
        "    print(\"\\n\")\n",
        "\n",
        "    if valscore3[3] > stfscore:\n",
        "        best_stf = param\n",
        "        stfscore = valscore3[3]\n",
        "\n",
        "\n",
        "print(f\"Best params: {best_stf}\")\n",
        "print(f\"Best score: {stfscore:.3f}\")"
      ]
    },
    {
      "cell_type": "code",
      "execution_count": null,
      "metadata": {
        "colab": {
          "base_uri": "https://localhost:8080/"
        },
        "id": "FIE15qaNNXU1",
        "outputId": "b9c25ff3-633c-458a-a631-279f478b041f"
      },
      "outputs": [
        {
          "output_type": "stream",
          "name": "stderr",
          "text": [
            "/usr/local/lib/python3.9/dist-packages/sklearn/feature_extraction/text.py:528: UserWarning: The parameter 'token_pattern' will not be used since 'tokenizer' is not None'\n",
            "  warnings.warn(\n"
          ]
        },
        {
          "output_type": "stream",
          "name": "stdout",
          "text": [
            "Evaluating {'C': 100000, 'max_features': None, 'norm': 'l1', 'sublinear_tf': False} -\n",
            "Accuracy 0.828\n",
            "Precision 0.6196181945610735\n",
            "Recall 0.5543767261791073\n",
            "F1 0.5802308716951038\n",
            "\n",
            "\n"
          ]
        },
        {
          "output_type": "stream",
          "name": "stderr",
          "text": [
            "/usr/local/lib/python3.9/dist-packages/sklearn/feature_extraction/text.py:528: UserWarning: The parameter 'token_pattern' will not be used since 'tokenizer' is not None'\n",
            "  warnings.warn(\n"
          ]
        },
        {
          "output_type": "stream",
          "name": "stdout",
          "text": [
            "Evaluating {'C': 100000, 'max_features': None, 'norm': 'l2', 'sublinear_tf': False} -\n",
            "Accuracy 0.827\n",
            "Precision 0.6152548859465113\n",
            "Recall 0.5452743241563512\n",
            "F1 0.5721425834485002\n",
            "\n",
            "\n",
            "Best params: {'C': 100000, 'max_features': None, 'norm': 'l1', 'sublinear_tf': False}\n",
            "Best score: 0.580\n"
          ]
        }
      ],
      "source": [
        "finalparam = {\n",
        "    'C': [best_stf['C']],   # 10 because it had the best f1 score\n",
        "    'sublinear_tf': [best_stf['sublinear_tf']], #Either true or False\n",
        "    'max_features': [best_stf['max_features']],\n",
        "    'norm': ['l1','l2']\n",
        "}\n",
        "best_norm, normscore = None, 0\n",
        "for param in ParameterGrid(finalparam):\n",
        "    vectorizer4 = TfidfVectorizer(tokenizer=text_pipe, max_features=param['max_features'], norm = param['norm'], sublinear_tf=param['sublinear_tf'])\n",
        "    x_norm = vectorizer4.fit_transform(train_text)\n",
        "    v_norm = vectorizer4.transform(val_text)\n",
        "    cLR4 = LogisticRegression(random_state=36, C=param['C'],max_iter=5000)\n",
        "    cLR4.fit(x_norm, mapped_labels_train)\n",
        "\n",
        "\n",
        "    ypred4 = cLR4.predict(v_norm)\n",
        "    valscore4 = evaluation_models(mapped_labels_val, ypred4)\n",
        "    print(f\"Evaluating {param} -\")\n",
        "    print(\"Accuracy\", valscore4[0])\n",
        "    print(\"Precision\", valscore4[1])\n",
        "    print(\"Recall\", valscore4[2])\n",
        "    print(\"F1\", valscore4[3])\n",
        "    print(\"\\n\")\n",
        "\n",
        "    if valscore4[3] > normscore:\n",
        "        best_norm = param\n",
        "        normscore = valscore4[3]\n",
        "\n",
        "\n",
        "print(f\"Best params: {best_norm}\")\n",
        "print(f\"Best score: {normscore:.3f}\")"
      ]
    },
    {
      "cell_type": "code",
      "execution_count": null,
      "metadata": {
        "colab": {
          "base_uri": "https://localhost:8080/"
        },
        "id": "ArNVhLAPSCO2",
        "outputId": "dd3e1260-a712-4711-90dc-27f0a85de628"
      },
      "outputs": [
        {
          "output_type": "stream",
          "name": "stderr",
          "text": [
            "/usr/local/lib/python3.9/dist-packages/sklearn/feature_extraction/text.py:528: UserWarning: The parameter 'token_pattern' will not be used since 'tokenizer' is not None'\n",
            "  warnings.warn(\n"
          ]
        },
        {
          "output_type": "stream",
          "name": "stdout",
          "text": [
            "Following are the results when I applied the best obtained parameters on pipeline:\n",
            "Evaluating {'C': 100000, 'max_features': None, 'norm': 'l2', 'sublinear_tf': False} -\n",
            "Accuracy 0.828\n",
            "Precision 0.6196181945610735\n",
            "Recall 0.5543767261791073\n",
            "F1 0.5802308716951038\n"
          ]
        }
      ],
      "source": [
        "# BEST PARAMETERS\n",
        "bestparam = {\n",
        "    'C': best_norm['C'],\n",
        "    'sublinear_tf': best_norm['sublinear_tf'],\n",
        "    'max_features': best_norm['max_features'],\n",
        "    'norm': best_norm['norm']\n",
        "}\n",
        "\n",
        "vectorizer5 = TfidfVectorizer(tokenizer=text_pipe, max_features=bestparam['max_features'], norm = bestparam['norm'], sublinear_tf=bestparam['sublinear_tf'])\n",
        "x_5 = vectorizer5.fit_transform(train_text)\n",
        "v_5 = vectorizer5.transform(val_text)\n",
        "cLR5 = LogisticRegression(random_state=36, C=bestparam['C'],max_iter=5000)\n",
        "cLR5.fit(x_5, mapped_labels_train)\n",
        "\n",
        "ypred5 = cLR5.predict(v_5)\n",
        "valscore5 = evaluation_models(mapped_labels_val, ypred5)\n",
        "print(\"Following are the results when I applied the best obtained parameters on pipeline:\")\n",
        "print(f\"Evaluating {param} -\")\n",
        "print(\"Accuracy\", valscore5[0])\n",
        "print(\"Precision\", valscore5[1])\n",
        "print(\"Recall\", valscore5[2])\n",
        "print(\"F1\", valscore5[3])"
      ]
    },
    {
      "cell_type": "code",
      "execution_count": null,
      "metadata": {
        "colab": {
          "base_uri": "https://localhost:8080/",
          "height": 81
        },
        "id": "HzSx5Wr1iip4",
        "outputId": "ae83e9e3-b9ae-4949-b92f-1f554be84a49"
      },
      "outputs": [
        {
          "output_type": "execute_result",
          "data": {
            "text/plain": [
              "                                          Parameters  Accuracy  Precision  \\\n",
              "0  'C': 1000, 'max_features': 5000, 'norm': 'l2',...     0.828       0.62   \n",
              "\n",
              "   Recall    F1  \n",
              "0   0.554  0.58  "
            ],
            "text/html": [
              "\n",
              "  <div id=\"df-4cd14582-0fbd-41f8-86cf-031c0c1ff1bf\">\n",
              "    <div class=\"colab-df-container\">\n",
              "      <div>\n",
              "<style scoped>\n",
              "    .dataframe tbody tr th:only-of-type {\n",
              "        vertical-align: middle;\n",
              "    }\n",
              "\n",
              "    .dataframe tbody tr th {\n",
              "        vertical-align: top;\n",
              "    }\n",
              "\n",
              "    .dataframe thead th {\n",
              "        text-align: right;\n",
              "    }\n",
              "</style>\n",
              "<table border=\"1\" class=\"dataframe\">\n",
              "  <thead>\n",
              "    <tr style=\"text-align: right;\">\n",
              "      <th></th>\n",
              "      <th>Parameters</th>\n",
              "      <th>Accuracy</th>\n",
              "      <th>Precision</th>\n",
              "      <th>Recall</th>\n",
              "      <th>F1</th>\n",
              "    </tr>\n",
              "  </thead>\n",
              "  <tbody>\n",
              "    <tr>\n",
              "      <th>0</th>\n",
              "      <td>'C': 1000, 'max_features': 5000, 'norm': 'l2',...</td>\n",
              "      <td>0.828</td>\n",
              "      <td>0.62</td>\n",
              "      <td>0.554</td>\n",
              "      <td>0.58</td>\n",
              "    </tr>\n",
              "  </tbody>\n",
              "</table>\n",
              "</div>\n",
              "      <button class=\"colab-df-convert\" onclick=\"convertToInteractive('df-4cd14582-0fbd-41f8-86cf-031c0c1ff1bf')\"\n",
              "              title=\"Convert this dataframe to an interactive table.\"\n",
              "              style=\"display:none;\">\n",
              "        \n",
              "  <svg xmlns=\"http://www.w3.org/2000/svg\" height=\"24px\"viewBox=\"0 0 24 24\"\n",
              "       width=\"24px\">\n",
              "    <path d=\"M0 0h24v24H0V0z\" fill=\"none\"/>\n",
              "    <path d=\"M18.56 5.44l.94 2.06.94-2.06 2.06-.94-2.06-.94-.94-2.06-.94 2.06-2.06.94zm-11 1L8.5 8.5l.94-2.06 2.06-.94-2.06-.94L8.5 2.5l-.94 2.06-2.06.94zm10 10l.94 2.06.94-2.06 2.06-.94-2.06-.94-.94-2.06-.94 2.06-2.06.94z\"/><path d=\"M17.41 7.96l-1.37-1.37c-.4-.4-.92-.59-1.43-.59-.52 0-1.04.2-1.43.59L10.3 9.45l-7.72 7.72c-.78.78-.78 2.05 0 2.83L4 21.41c.39.39.9.59 1.41.59.51 0 1.02-.2 1.41-.59l7.78-7.78 2.81-2.81c.8-.78.8-2.07 0-2.86zM5.41 20L4 18.59l7.72-7.72 1.47 1.35L5.41 20z\"/>\n",
              "  </svg>\n",
              "      </button>\n",
              "      \n",
              "  <style>\n",
              "    .colab-df-container {\n",
              "      display:flex;\n",
              "      flex-wrap:wrap;\n",
              "      gap: 12px;\n",
              "    }\n",
              "\n",
              "    .colab-df-convert {\n",
              "      background-color: #E8F0FE;\n",
              "      border: none;\n",
              "      border-radius: 50%;\n",
              "      cursor: pointer;\n",
              "      display: none;\n",
              "      fill: #1967D2;\n",
              "      height: 32px;\n",
              "      padding: 0 0 0 0;\n",
              "      width: 32px;\n",
              "    }\n",
              "\n",
              "    .colab-df-convert:hover {\n",
              "      background-color: #E2EBFA;\n",
              "      box-shadow: 0px 1px 2px rgba(60, 64, 67, 0.3), 0px 1px 3px 1px rgba(60, 64, 67, 0.15);\n",
              "      fill: #174EA6;\n",
              "    }\n",
              "\n",
              "    [theme=dark] .colab-df-convert {\n",
              "      background-color: #3B4455;\n",
              "      fill: #D2E3FC;\n",
              "    }\n",
              "\n",
              "    [theme=dark] .colab-df-convert:hover {\n",
              "      background-color: #434B5C;\n",
              "      box-shadow: 0px 1px 3px 1px rgba(0, 0, 0, 0.15);\n",
              "      filter: drop-shadow(0px 1px 2px rgba(0, 0, 0, 0.3));\n",
              "      fill: #FFFFFF;\n",
              "    }\n",
              "  </style>\n",
              "\n",
              "      <script>\n",
              "        const buttonEl =\n",
              "          document.querySelector('#df-4cd14582-0fbd-41f8-86cf-031c0c1ff1bf button.colab-df-convert');\n",
              "        buttonEl.style.display =\n",
              "          google.colab.kernel.accessAllowed ? 'block' : 'none';\n",
              "\n",
              "        async function convertToInteractive(key) {\n",
              "          const element = document.querySelector('#df-4cd14582-0fbd-41f8-86cf-031c0c1ff1bf');\n",
              "          const dataTable =\n",
              "            await google.colab.kernel.invokeFunction('convertToInteractive',\n",
              "                                                     [key], {});\n",
              "          if (!dataTable) return;\n",
              "\n",
              "          const docLinkHtml = 'Like what you see? Visit the ' +\n",
              "            '<a target=\"_blank\" href=https://colab.research.google.com/notebooks/data_table.ipynb>data table notebook</a>'\n",
              "            + ' to learn more about interactive tables.';\n",
              "          element.innerHTML = '';\n",
              "          dataTable['output_type'] = 'display_data';\n",
              "          await google.colab.output.renderOutput(dataTable, element);\n",
              "          const docLink = document.createElement('div');\n",
              "          docLink.innerHTML = docLinkHtml;\n",
              "          element.appendChild(docLink);\n",
              "        }\n",
              "      </script>\n",
              "    </div>\n",
              "  </div>\n",
              "  "
            ]
          },
          "metadata": {},
          "execution_count": 45
        }
      ],
      "source": [
        "cols2 = ['Parameters', 'Accuracy', 'Precision', 'Recall', 'F1']\n",
        "best_p = '\\'C\\': 1000, \\'max_features\\': 5000, \\'norm\\': \\'l2\\', \\'sublinear_tf\\': False'\n",
        "valscore_values = list(valscore5)\n",
        "paramdf = pd.DataFrame(columns=cols2)\n",
        "paramdf.loc[0] = [best_p] + [round(v, 3) for v in valscore_values]\n",
        "paramdf"
      ]
    },
    {
      "cell_type": "markdown",
      "metadata": {
        "id": "aa4zlakbUHfK"
      },
      "source": [
        "# Context vectors using BERT"
      ]
    },
    {
      "cell_type": "markdown",
      "metadata": {
        "id": "Oq7oMhwfU_m0"
      },
      "source": [
        "In this section, I will:\n",
        "\n",
        "(a) Encode the text using the ‘feature-extraction’ pipeline from the HuggingFace library with the\n",
        "‘roberta_base’ model.\n",
        "Pass the context vectors (without any other previous features) into a LogisticRegression classifier from scikit-learn\n",
        "and train using the training set.\n",
        "\n",
        "(b) Train an end-to-end classifier using the ‘trainer’ function from the HuggingFace library, again using the\n",
        "‘roberta_base’ model. Using a learning rate = 1e-4, epochs = 1, batch_size = 16 and no weight decay.\n",
        "\n",
        "(c) Try different values for the model, learning_rate, epochs and batch_size."
      ]
    },
    {
      "cell_type": "code",
      "execution_count": null,
      "metadata": {
        "id": "unHHU3s1Jhpv"
      },
      "outputs": [],
      "source": [
        "import locale\n",
        "def getutf(do_setlocale = True):\n",
        "  return('UTF-8')\n",
        "locale.getpreferredencoding = getutf"
      ]
    },
    {
      "cell_type": "code",
      "execution_count": null,
      "metadata": {
        "colab": {
          "base_uri": "https://localhost:8080/"
        },
        "id": "2rT2_f1yKvgy",
        "outputId": "1bac1b9d-35e1-4150-9283-b32bdeec415a"
      },
      "outputs": [
        {
          "output_type": "stream",
          "name": "stdout",
          "text": [
            "Looking in indexes: https://pypi.org/simple, https://us-python.pkg.dev/colab-wheels/public/simple/\n",
            "Collecting transformers\n",
            "  Downloading transformers-4.27.1-py3-none-any.whl (6.7 MB)\n",
            "\u001b[2K     \u001b[90m━━━━━━━━━━━━━━━━━━━━━━━━━━━━━━━━━━━━━━━━\u001b[0m \u001b[32m6.7/6.7 MB\u001b[0m \u001b[31m91.8 MB/s\u001b[0m eta \u001b[36m0:00:00\u001b[0m\n",
            "\u001b[?25hRequirement already satisfied: numpy>=1.17 in /usr/local/lib/python3.9/dist-packages (from transformers) (1.22.4)\n",
            "Requirement already satisfied: requests in /usr/local/lib/python3.9/dist-packages (from transformers) (2.27.1)\n",
            "Requirement already satisfied: packaging>=20.0 in /usr/local/lib/python3.9/dist-packages (from transformers) (23.0)\n",
            "Collecting tokenizers!=0.11.3,<0.14,>=0.11.1\n",
            "  Downloading tokenizers-0.13.2-cp39-cp39-manylinux_2_17_x86_64.manylinux2014_x86_64.whl (7.6 MB)\n",
            "\u001b[2K     \u001b[90m━━━━━━━━━━━━━━━━━━━━━━━━━━━━━━━━━━━━━━━━\u001b[0m \u001b[32m7.6/7.6 MB\u001b[0m \u001b[31m103.7 MB/s\u001b[0m eta \u001b[36m0:00:00\u001b[0m\n",
            "\u001b[?25hRequirement already satisfied: pyyaml>=5.1 in /usr/local/lib/python3.9/dist-packages (from transformers) (6.0)\n",
            "Requirement already satisfied: regex!=2019.12.17 in /usr/local/lib/python3.9/dist-packages (from transformers) (2022.10.31)\n",
            "Collecting huggingface-hub<1.0,>=0.11.0\n",
            "  Downloading huggingface_hub-0.13.2-py3-none-any.whl (199 kB)\n",
            "\u001b[2K     \u001b[90m━━━━━━━━━━━━━━━━━━━━━━━━━━━━━━━━━━━━━━\u001b[0m \u001b[32m199.2/199.2 KB\u001b[0m \u001b[31m28.0 MB/s\u001b[0m eta \u001b[36m0:00:00\u001b[0m\n",
            "\u001b[?25hRequirement already satisfied: tqdm>=4.27 in /usr/local/lib/python3.9/dist-packages (from transformers) (4.65.0)\n",
            "Requirement already satisfied: filelock in /usr/local/lib/python3.9/dist-packages (from transformers) (3.10.0)\n",
            "Requirement already satisfied: typing-extensions>=3.7.4.3 in /usr/local/lib/python3.9/dist-packages (from huggingface-hub<1.0,>=0.11.0->transformers) (4.5.0)\n",
            "Requirement already satisfied: charset-normalizer~=2.0.0 in /usr/local/lib/python3.9/dist-packages (from requests->transformers) (2.0.12)\n",
            "Requirement already satisfied: idna<4,>=2.5 in /usr/local/lib/python3.9/dist-packages (from requests->transformers) (3.4)\n",
            "Requirement already satisfied: certifi>=2017.4.17 in /usr/local/lib/python3.9/dist-packages (from requests->transformers) (2022.12.7)\n",
            "Requirement already satisfied: urllib3<1.27,>=1.21.1 in /usr/local/lib/python3.9/dist-packages (from requests->transformers) (1.26.15)\n",
            "Installing collected packages: tokenizers, huggingface-hub, transformers\n",
            "Successfully installed huggingface-hub-0.13.2 tokenizers-0.13.2 transformers-4.27.1\n"
          ]
        }
      ],
      "source": [
        "!pip install transformers"
      ]
    },
    {
      "cell_type": "code",
      "execution_count": null,
      "metadata": {
        "id": "q40aVKopG4My"
      },
      "outputs": [],
      "source": [
        "from transformers import pipeline\n",
        "from transformers import RobertaTokenizer, TFRobertaModel\n",
        "from sklearn.linear_model import LogisticRegression"
      ]
    },
    {
      "cell_type": "code",
      "execution_count": null,
      "metadata": {
        "id": "o-o6UdwlJZcO",
        "colab": {
          "base_uri": "https://localhost:8080/",
          "height": 113,
          "referenced_widgets": [
            "7eaee0f58a084a6d8a0d513a9192f0a0",
            "5afb6d784d9f454fa423c99488daa267",
            "3113440c207b47bfbde584ef5d1d175d",
            "59e7a42f52f14672b4b1c489373d98ed",
            "c1ca52706ddb437daba1e478e49d0d02",
            "098d7414a7e04792960061e607e0999a",
            "93779f71921b4f24bf5c8b20068237a7",
            "81fc264f2c404257a1efa72566872490",
            "c3985a70452b47ce8b1a3cc53f548507",
            "86e65cab1bde42099c9aad4a4bcc43ce",
            "9a145b60f880458eb6f2e50994dd576f",
            "ef844b8a875f4a9490f7963d61d3e31a",
            "c00863a886164447a3773f7cca58827f",
            "0d2d15e3f3834f15a15086fd1f11e3df",
            "ed56705014174a5096a3b6ae29c5d810",
            "9ba9f4f5a60b444fa2741046a083c74d",
            "effeec4ef1214424aab091b48b613519",
            "39e4acc4a5a94c0190fa1b68592362b1",
            "c9e2bc6b026042308648efe97c833422",
            "3dc1233330e64777a023a5355d59e161",
            "419a49a2739f42a6afe17a207f0ccef0",
            "6bfa6487ce8b46c3921410fda4249ef1",
            "14a28d849fbb4e90b6f529e58f05de4b",
            "7c877b3f610c416cbd464c20fa6d689c",
            "af3f38b5dc624d6d87abedbf9232646c",
            "1d7ae9332a7c4a57884c1d295bfd7b2a",
            "590dcc5130ad43199118544a333c81d0",
            "503529f078044f16a254f142aacc6e48",
            "a6edc4bd317b4db890c82f32fc269390",
            "3146c8bd3522452bb6c68646bae7d958",
            "f7cd414176dd486db557c2cbac3b5050",
            "0f2dbf3fc81142d59ef319d2baf9b1c0",
            "d56bc3c47b10446fae1e7cedc795b83a"
          ]
        },
        "outputId": "d1e80593-3c46-43c1-b60c-703e07b596c9"
      },
      "outputs": [
        {
          "output_type": "display_data",
          "data": {
            "text/plain": [
              "Downloading (…)olve/main/vocab.json:   0%|          | 0.00/899k [00:00<?, ?B/s]"
            ],
            "application/vnd.jupyter.widget-view+json": {
              "version_major": 2,
              "version_minor": 0,
              "model_id": "7eaee0f58a084a6d8a0d513a9192f0a0"
            }
          },
          "metadata": {}
        },
        {
          "output_type": "display_data",
          "data": {
            "text/plain": [
              "Downloading (…)olve/main/merges.txt:   0%|          | 0.00/456k [00:00<?, ?B/s]"
            ],
            "application/vnd.jupyter.widget-view+json": {
              "version_major": 2,
              "version_minor": 0,
              "model_id": "ef844b8a875f4a9490f7963d61d3e31a"
            }
          },
          "metadata": {}
        },
        {
          "output_type": "display_data",
          "data": {
            "text/plain": [
              "Downloading (…)lve/main/config.json:   0%|          | 0.00/481 [00:00<?, ?B/s]"
            ],
            "application/vnd.jupyter.widget-view+json": {
              "version_major": 2,
              "version_minor": 0,
              "model_id": "14a28d849fbb4e90b6f529e58f05de4b"
            }
          },
          "metadata": {}
        }
      ],
      "source": [
        "roberta_tokenizer = RobertaTokenizer.from_pretrained(\"roberta-base\")"
      ]
    },
    {
      "cell_type": "code",
      "execution_count": null,
      "metadata": {
        "colab": {
          "base_uri": "https://localhost:8080/",
          "height": 210,
          "referenced_widgets": [
            "3c5957f856f8403c8768f9a7315add97",
            "28553b762468411cad716e5207b78817",
            "1a3aecf4cf684383b7943c007722d137",
            "7ed38a4cd73b405d889d104e04ababd8",
            "9b88e504941844258ffb3943a736a0c6",
            "a117ed50c36745779543e77411b3309e",
            "5c0ec9f9a6504078a04b07a80ec3d733",
            "86a8cc62f907443fb6387a304185c7e3",
            "3c4aed3e18df426cb20d0cfba2fbed92",
            "9166038509cd4356be3b57d9a7c30839",
            "0f28b5c7f9274aea9d9c7f532af5ae32",
            "f8c689474b5642b18e5aa5d32d78c802",
            "51f7db53902e4d6cae481c6c41e72d11",
            "0b2322e6e80d4c7686ef3ceedc3ec815",
            "1571a7bb33a24194beda26a0c50c6a10",
            "1a3e71b0be7947a6b387b8c4a00bbe29",
            "8f0a47b4073c4fc086b06f8cbff9fc99",
            "8b6b403beece43049a756f5288473de7",
            "4421ec9ecd3a4bb48b80602e70f1a5a0",
            "895834a7a6514b0ba3e909af373a70c8",
            "2b1335b5fdaf4f41b74c7d3c99f9ebd3",
            "95c9f3a14bb54d3aa6db6c8956ddb9ce"
          ]
        },
        "id": "9ws5lTvcUXVl",
        "outputId": "cf3fd6a1-a74c-4943-a5e4-61305bdacc37"
      },
      "outputs": [
        {
          "output_type": "display_data",
          "data": {
            "text/plain": [
              "Downloading pytorch_model.bin:   0%|          | 0.00/501M [00:00<?, ?B/s]"
            ],
            "application/vnd.jupyter.widget-view+json": {
              "version_major": 2,
              "version_minor": 0,
              "model_id": "3c5957f856f8403c8768f9a7315add97"
            }
          },
          "metadata": {}
        },
        {
          "output_type": "stream",
          "name": "stderr",
          "text": [
            "Some weights of the model checkpoint at roberta-base were not used when initializing RobertaModel: ['lm_head.layer_norm.bias', 'lm_head.bias', 'lm_head.dense.bias', 'lm_head.dense.weight', 'lm_head.decoder.weight', 'lm_head.layer_norm.weight']\n",
            "- This IS expected if you are initializing RobertaModel from the checkpoint of a model trained on another task or with another architecture (e.g. initializing a BertForSequenceClassification model from a BertForPreTraining model).\n",
            "- This IS NOT expected if you are initializing RobertaModel from the checkpoint of a model that you expect to be exactly identical (initializing a BertForSequenceClassification model from a BertForSequenceClassification model).\n"
          ]
        },
        {
          "output_type": "display_data",
          "data": {
            "text/plain": [
              "Downloading (…)/main/tokenizer.json:   0%|          | 0.00/1.36M [00:00<?, ?B/s]"
            ],
            "application/vnd.jupyter.widget-view+json": {
              "version_major": 2,
              "version_minor": 0,
              "model_id": "f8c689474b5642b18e5aa5d32d78c802"
            }
          },
          "metadata": {}
        },
        {
          "output_type": "stream",
          "name": "stderr",
          "text": [
            "Some weights of the model checkpoint at roberta-base were not used when initializing RobertaModel: ['lm_head.layer_norm.bias', 'lm_head.bias', 'lm_head.dense.bias', 'lm_head.dense.weight', 'lm_head.decoder.weight', 'lm_head.layer_norm.weight']\n",
            "- This IS expected if you are initializing RobertaModel from the checkpoint of a model trained on another task or with another architecture (e.g. initializing a BertForSequenceClassification model from a BertForPreTraining model).\n",
            "- This IS NOT expected if you are initializing RobertaModel from the checkpoint of a model that you expect to be exactly identical (initializing a BertForSequenceClassification model from a BertForSequenceClassification model).\n"
          ]
        }
      ],
      "source": [
        "train_features = pipeline(task='feature-extraction', model='roberta-base', max_length=1024, truncation=True, padding=True)(train_text.tolist())\n",
        "val_features = pipeline(task='feature-extraction', model='roberta-base', max_length=1024, truncation=True, padding=True)(val_text.tolist())"
      ]
    },
    {
      "cell_type": "code",
      "execution_count": null,
      "metadata": {
        "id": "RU3sMS1LmLmm"
      },
      "outputs": [],
      "source": [
        "train_feat = np.array([features[0][0] for features in train_features])\n",
        "val_feat = np.array([features[0][0] for features in val_features])"
      ]
    },
    {
      "cell_type": "code",
      "execution_count": null,
      "metadata": {
        "colab": {
          "base_uri": "https://localhost:8080/",
          "height": 74
        },
        "id": "AtVrIwszgvyu",
        "outputId": "7ed33562-6052-4d88-b082-051ee724b191"
      },
      "outputs": [
        {
          "output_type": "execute_result",
          "data": {
            "text/plain": [
              "LogisticRegression(max_iter=2500)"
            ],
            "text/html": [
              "<style>#sk-container-id-1 {color: black;background-color: white;}#sk-container-id-1 pre{padding: 0;}#sk-container-id-1 div.sk-toggleable {background-color: white;}#sk-container-id-1 label.sk-toggleable__label {cursor: pointer;display: block;width: 100%;margin-bottom: 0;padding: 0.3em;box-sizing: border-box;text-align: center;}#sk-container-id-1 label.sk-toggleable__label-arrow:before {content: \"▸\";float: left;margin-right: 0.25em;color: #696969;}#sk-container-id-1 label.sk-toggleable__label-arrow:hover:before {color: black;}#sk-container-id-1 div.sk-estimator:hover label.sk-toggleable__label-arrow:before {color: black;}#sk-container-id-1 div.sk-toggleable__content {max-height: 0;max-width: 0;overflow: hidden;text-align: left;background-color: #f0f8ff;}#sk-container-id-1 div.sk-toggleable__content pre {margin: 0.2em;color: black;border-radius: 0.25em;background-color: #f0f8ff;}#sk-container-id-1 input.sk-toggleable__control:checked~div.sk-toggleable__content {max-height: 200px;max-width: 100%;overflow: auto;}#sk-container-id-1 input.sk-toggleable__control:checked~label.sk-toggleable__label-arrow:before {content: \"▾\";}#sk-container-id-1 div.sk-estimator input.sk-toggleable__control:checked~label.sk-toggleable__label {background-color: #d4ebff;}#sk-container-id-1 div.sk-label input.sk-toggleable__control:checked~label.sk-toggleable__label {background-color: #d4ebff;}#sk-container-id-1 input.sk-hidden--visually {border: 0;clip: rect(1px 1px 1px 1px);clip: rect(1px, 1px, 1px, 1px);height: 1px;margin: -1px;overflow: hidden;padding: 0;position: absolute;width: 1px;}#sk-container-id-1 div.sk-estimator {font-family: monospace;background-color: #f0f8ff;border: 1px dotted black;border-radius: 0.25em;box-sizing: border-box;margin-bottom: 0.5em;}#sk-container-id-1 div.sk-estimator:hover {background-color: #d4ebff;}#sk-container-id-1 div.sk-parallel-item::after {content: \"\";width: 100%;border-bottom: 1px solid gray;flex-grow: 1;}#sk-container-id-1 div.sk-label:hover label.sk-toggleable__label {background-color: #d4ebff;}#sk-container-id-1 div.sk-serial::before {content: \"\";position: absolute;border-left: 1px solid gray;box-sizing: border-box;top: 0;bottom: 0;left: 50%;z-index: 0;}#sk-container-id-1 div.sk-serial {display: flex;flex-direction: column;align-items: center;background-color: white;padding-right: 0.2em;padding-left: 0.2em;position: relative;}#sk-container-id-1 div.sk-item {position: relative;z-index: 1;}#sk-container-id-1 div.sk-parallel {display: flex;align-items: stretch;justify-content: center;background-color: white;position: relative;}#sk-container-id-1 div.sk-item::before, #sk-container-id-1 div.sk-parallel-item::before {content: \"\";position: absolute;border-left: 1px solid gray;box-sizing: border-box;top: 0;bottom: 0;left: 50%;z-index: -1;}#sk-container-id-1 div.sk-parallel-item {display: flex;flex-direction: column;z-index: 1;position: relative;background-color: white;}#sk-container-id-1 div.sk-parallel-item:first-child::after {align-self: flex-end;width: 50%;}#sk-container-id-1 div.sk-parallel-item:last-child::after {align-self: flex-start;width: 50%;}#sk-container-id-1 div.sk-parallel-item:only-child::after {width: 0;}#sk-container-id-1 div.sk-dashed-wrapped {border: 1px dashed gray;margin: 0 0.4em 0.5em 0.4em;box-sizing: border-box;padding-bottom: 0.4em;background-color: white;}#sk-container-id-1 div.sk-label label {font-family: monospace;font-weight: bold;display: inline-block;line-height: 1.2em;}#sk-container-id-1 div.sk-label-container {text-align: center;}#sk-container-id-1 div.sk-container {/* jupyter's `normalize.less` sets `[hidden] { display: none; }` but bootstrap.min.css set `[hidden] { display: none !important; }` so we also need the `!important` here to be able to override the default hidden behavior on the sphinx rendered scikit-learn.org. See: https://github.com/scikit-learn/scikit-learn/issues/21755 */display: inline-block !important;position: relative;}#sk-container-id-1 div.sk-text-repr-fallback {display: none;}</style><div id=\"sk-container-id-1\" class=\"sk-top-container\"><div class=\"sk-text-repr-fallback\"><pre>LogisticRegression(max_iter=2500)</pre><b>In a Jupyter environment, please rerun this cell to show the HTML representation or trust the notebook. <br />On GitHub, the HTML representation is unable to render, please try loading this page with nbviewer.org.</b></div><div class=\"sk-container\" hidden><div class=\"sk-item\"><div class=\"sk-estimator sk-toggleable\"><input class=\"sk-toggleable__control sk-hidden--visually\" id=\"sk-estimator-id-1\" type=\"checkbox\" checked><label for=\"sk-estimator-id-1\" class=\"sk-toggleable__label sk-toggleable__label-arrow\">LogisticRegression</label><div class=\"sk-toggleable__content\"><pre>LogisticRegression(max_iter=2500)</pre></div></div></div></div></div>"
            ]
          },
          "metadata": {},
          "execution_count": 52
        }
      ],
      "source": [
        "lr = LogisticRegression(max_iter = 2500)\n",
        "lr.fit(train_feat, mapped_labels_train)"
      ]
    },
    {
      "cell_type": "code",
      "execution_count": null,
      "metadata": {
        "colab": {
          "base_uri": "https://localhost:8080/"
        },
        "id": "1vuuZRHSg8qO",
        "outputId": "d13b9711-f2d2-4623-f105-57aeefb4e244"
      },
      "outputs": [
        {
          "output_type": "stream",
          "name": "stdout",
          "text": [
            "              precision    recall  f1-score   support\n",
            "\n",
            "           0       0.90      0.99      0.94       791\n",
            "           1       0.79      0.63      0.70       139\n",
            "           2       0.58      0.16      0.25        70\n",
            "\n",
            "    accuracy                           0.88      1000\n",
            "   macro avg       0.76      0.59      0.63      1000\n",
            "weighted avg       0.86      0.88      0.86      1000\n",
            "\n"
          ]
        }
      ],
      "source": [
        "val_preds = lr.predict(val_feat)\n",
        "print(classification_report(mapped_labels_val, val_preds))"
      ]
    },
    {
      "cell_type": "code",
      "execution_count": null,
      "metadata": {
        "colab": {
          "base_uri": "https://localhost:8080/"
        },
        "id": "XW4Kt66nspdX",
        "outputId": "66a4f1e5-f061-4e48-c14b-75d7cf9d3389"
      },
      "outputs": [
        {
          "output_type": "stream",
          "name": "stdout",
          "text": [
            "Looking in indexes: https://pypi.org/simple, https://us-python.pkg.dev/colab-wheels/public/simple/\n",
            "Collecting datasets\n",
            "  Downloading datasets-2.10.1-py3-none-any.whl (469 kB)\n",
            "\u001b[2K     \u001b[90m━━━━━━━━━━━━━━━━━━━━━━━━━━━━━━━━━━━━━━\u001b[0m \u001b[32m469.0/469.0 KB\u001b[0m \u001b[31m31.3 MB/s\u001b[0m eta \u001b[36m0:00:00\u001b[0m\n",
            "\u001b[?25hCollecting xxhash\n",
            "  Downloading xxhash-3.2.0-cp39-cp39-manylinux_2_17_x86_64.manylinux2014_x86_64.whl (212 kB)\n",
            "\u001b[2K     \u001b[90m━━━━━━━━━━━━━━━━━━━━━━━━━━━━━━━━━━━━━━\u001b[0m \u001b[32m212.2/212.2 KB\u001b[0m \u001b[31m30.1 MB/s\u001b[0m eta \u001b[36m0:00:00\u001b[0m\n",
            "\u001b[?25hRequirement already satisfied: pandas in /usr/local/lib/python3.9/dist-packages (from datasets) (1.4.4)\n",
            "Collecting dill<0.3.7,>=0.3.0\n",
            "  Downloading dill-0.3.6-py3-none-any.whl (110 kB)\n",
            "\u001b[2K     \u001b[90m━━━━━━━━━━━━━━━━━━━━━━━━━━━━━━━━━━━━━━\u001b[0m \u001b[32m110.5/110.5 KB\u001b[0m \u001b[31m16.3 MB/s\u001b[0m eta \u001b[36m0:00:00\u001b[0m\n",
            "\u001b[?25hCollecting aiohttp\n",
            "  Downloading aiohttp-3.8.4-cp39-cp39-manylinux_2_17_x86_64.manylinux2014_x86_64.whl (1.0 MB)\n",
            "\u001b[2K     \u001b[90m━━━━━━━━━━━━━━━━━━━━━━━━━━━━━━━━━━━━━━━━\u001b[0m \u001b[32m1.0/1.0 MB\u001b[0m \u001b[31m65.0 MB/s\u001b[0m eta \u001b[36m0:00:00\u001b[0m\n",
            "\u001b[?25hRequirement already satisfied: fsspec[http]>=2021.11.1 in /usr/local/lib/python3.9/dist-packages (from datasets) (2023.3.0)\n",
            "Requirement already satisfied: pyarrow>=6.0.0 in /usr/local/lib/python3.9/dist-packages (from datasets) (9.0.0)\n",
            "Requirement already satisfied: numpy>=1.17 in /usr/local/lib/python3.9/dist-packages (from datasets) (1.22.4)\n",
            "Requirement already satisfied: huggingface-hub<1.0.0,>=0.2.0 in /usr/local/lib/python3.9/dist-packages (from datasets) (0.13.2)\n",
            "Requirement already satisfied: packaging in /usr/local/lib/python3.9/dist-packages (from datasets) (23.0)\n",
            "Collecting responses<0.19\n",
            "  Downloading responses-0.18.0-py3-none-any.whl (38 kB)\n",
            "Requirement already satisfied: tqdm>=4.62.1 in /usr/local/lib/python3.9/dist-packages (from datasets) (4.65.0)\n",
            "Collecting multiprocess\n",
            "  Downloading multiprocess-0.70.14-py39-none-any.whl (132 kB)\n",
            "\u001b[2K     \u001b[90m━━━━━━━━━━━━━━━━━━━━━━━━━━━━━━━━━━━━━━\u001b[0m \u001b[32m132.9/132.9 KB\u001b[0m \u001b[31m19.3 MB/s\u001b[0m eta \u001b[36m0:00:00\u001b[0m\n",
            "\u001b[?25hRequirement already satisfied: requests>=2.19.0 in /usr/local/lib/python3.9/dist-packages (from datasets) (2.27.1)\n",
            "Requirement already satisfied: pyyaml>=5.1 in /usr/local/lib/python3.9/dist-packages (from datasets) (6.0)\n",
            "Requirement already satisfied: charset-normalizer<4.0,>=2.0 in /usr/local/lib/python3.9/dist-packages (from aiohttp->datasets) (2.0.12)\n",
            "Requirement already satisfied: attrs>=17.3.0 in /usr/local/lib/python3.9/dist-packages (from aiohttp->datasets) (22.2.0)\n",
            "Collecting aiosignal>=1.1.2\n",
            "  Downloading aiosignal-1.3.1-py3-none-any.whl (7.6 kB)\n",
            "Collecting multidict<7.0,>=4.5\n",
            "  Downloading multidict-6.0.4-cp39-cp39-manylinux_2_17_x86_64.manylinux2014_x86_64.whl (114 kB)\n",
            "\u001b[2K     \u001b[90m━━━━━━━━━━━━━━━━━━━━━━━━━━━━━━━━━━━━━━\u001b[0m \u001b[32m114.2/114.2 KB\u001b[0m \u001b[31m18.0 MB/s\u001b[0m eta \u001b[36m0:00:00\u001b[0m\n",
            "\u001b[?25hCollecting async-timeout<5.0,>=4.0.0a3\n",
            "  Downloading async_timeout-4.0.2-py3-none-any.whl (5.8 kB)\n",
            "Collecting frozenlist>=1.1.1\n",
            "  Downloading frozenlist-1.3.3-cp39-cp39-manylinux_2_5_x86_64.manylinux1_x86_64.manylinux_2_17_x86_64.manylinux2014_x86_64.whl (158 kB)\n",
            "\u001b[2K     \u001b[90m━━━━━━━━━━━━━━━━━━━━━━━━━━━━━━━━━━━━━━\u001b[0m \u001b[32m158.8/158.8 KB\u001b[0m \u001b[31m24.3 MB/s\u001b[0m eta \u001b[36m0:00:00\u001b[0m\n",
            "\u001b[?25hCollecting yarl<2.0,>=1.0\n",
            "  Downloading yarl-1.8.2-cp39-cp39-manylinux_2_17_x86_64.manylinux2014_x86_64.whl (264 kB)\n",
            "\u001b[2K     \u001b[90m━━━━━━━━━━━━━━━━━━━━━━━━━━━━━━━━━━━━━━\u001b[0m \u001b[32m264.6/264.6 KB\u001b[0m \u001b[31m37.2 MB/s\u001b[0m eta \u001b[36m0:00:00\u001b[0m\n",
            "\u001b[?25hRequirement already satisfied: filelock in /usr/local/lib/python3.9/dist-packages (from huggingface-hub<1.0.0,>=0.2.0->datasets) (3.10.0)\n",
            "Requirement already satisfied: typing-extensions>=3.7.4.3 in /usr/local/lib/python3.9/dist-packages (from huggingface-hub<1.0.0,>=0.2.0->datasets) (4.5.0)\n",
            "Requirement already satisfied: idna<4,>=2.5 in /usr/local/lib/python3.9/dist-packages (from requests>=2.19.0->datasets) (3.4)\n",
            "Requirement already satisfied: certifi>=2017.4.17 in /usr/local/lib/python3.9/dist-packages (from requests>=2.19.0->datasets) (2022.12.7)\n",
            "Requirement already satisfied: urllib3<1.27,>=1.21.1 in /usr/local/lib/python3.9/dist-packages (from requests>=2.19.0->datasets) (1.26.15)\n",
            "Requirement already satisfied: python-dateutil>=2.8.1 in /usr/local/lib/python3.9/dist-packages (from pandas->datasets) (2.8.2)\n",
            "Requirement already satisfied: pytz>=2020.1 in /usr/local/lib/python3.9/dist-packages (from pandas->datasets) (2022.7.1)\n",
            "Requirement already satisfied: six>=1.5 in /usr/local/lib/python3.9/dist-packages (from python-dateutil>=2.8.1->pandas->datasets) (1.15.0)\n",
            "Installing collected packages: xxhash, multidict, frozenlist, dill, async-timeout, yarl, responses, multiprocess, aiosignal, aiohttp, datasets\n",
            "Successfully installed aiohttp-3.8.4 aiosignal-1.3.1 async-timeout-4.0.2 datasets-2.10.1 dill-0.3.6 frozenlist-1.3.3 multidict-6.0.4 multiprocess-0.70.14 responses-0.18.0 xxhash-3.2.0 yarl-1.8.2\n"
          ]
        }
      ],
      "source": [
        "!pip install datasets"
      ]
    },
    {
      "cell_type": "code",
      "execution_count": null,
      "metadata": {
        "id": "9ZBVA7y8njzk"
      },
      "outputs": [],
      "source": [
        "from transformers import RobertaTokenizer, RobertaForSequenceClassification, Trainer, TrainingArguments\n",
        "from sklearn.metrics import accuracy_score, precision_recall_fscore_support\n",
        "from datasets import Dataset"
      ]
    },
    {
      "cell_type": "code",
      "execution_count": null,
      "metadata": {
        "id": "A-XsfRR1ZK0x"
      },
      "outputs": [],
      "source": [
        "import torch.nn as nn"
      ]
    },
    {
      "cell_type": "code",
      "execution_count": null,
      "metadata": {
        "colab": {
          "base_uri": "https://localhost:8080/"
        },
        "id": "eGcyQY4jnpZ7",
        "outputId": "e8e53057-7b8a-4065-db45-560c1a9a7643"
      },
      "outputs": [
        {
          "output_type": "stream",
          "name": "stderr",
          "text": [
            "Some weights of the model checkpoint at roberta-base were not used when initializing RobertaForSequenceClassification: ['roberta.pooler.dense.weight', 'roberta.pooler.dense.bias', 'lm_head.layer_norm.bias', 'lm_head.bias', 'lm_head.dense.bias', 'lm_head.dense.weight', 'lm_head.decoder.weight', 'lm_head.layer_norm.weight']\n",
            "- This IS expected if you are initializing RobertaForSequenceClassification from the checkpoint of a model trained on another task or with another architecture (e.g. initializing a BertForSequenceClassification model from a BertForPreTraining model).\n",
            "- This IS NOT expected if you are initializing RobertaForSequenceClassification from the checkpoint of a model that you expect to be exactly identical (initializing a BertForSequenceClassification model from a BertForSequenceClassification model).\n",
            "Some weights of RobertaForSequenceClassification were not initialized from the model checkpoint at roberta-base and are newly initialized: ['classifier.out_proj.weight', 'classifier.dense.bias', 'classifier.dense.weight', 'classifier.out_proj.bias']\n",
            "You should probably TRAIN this model on a down-stream task to be able to use it for predictions and inference.\n"
          ]
        }
      ],
      "source": [
        "# Load the pre-trained RoBERTa model\n",
        "model = RobertaForSequenceClassification.from_pretrained('roberta-base', num_labels=5)\n",
        "\n",
        "# Define the training arguments\n",
        "training_args = TrainingArguments(\n",
        "    output_dir='./results',\n",
        "    evaluation_strategy='epoch',\n",
        "    learning_rate=1e-4,\n",
        "    per_device_train_batch_size=16,\n",
        "    per_device_eval_batch_size=16,\n",
        "    num_train_epochs=1,\n",
        "    weight_decay=0,\n",
        ")\n",
        "\n",
        "train_encodings = roberta_tokenizer(train_text.tolist(), truncation=True, padding=True)\n",
        "train_encodings['labels'] = mapped_labels_train\n",
        "val_encodings = roberta_tokenizer(val_text.tolist(), truncation=True, padding=True)\n",
        "val_encodings['labels'] = mapped_labels_val\n",
        "train_dataset = Dataset.from_dict(train_encodings)\n",
        "valid_dataset = Dataset.from_dict(val_encodings)\n",
        "\n",
        "# Define the trainer\n",
        "trainer = Trainer(\n",
        "    model=model,\n",
        "    args=training_args,\n",
        "    train_dataset=train_dataset,\n",
        "    eval_dataset=valid_dataset,\n",
        "    compute_metrics=lambda pred: {\n",
        "        'accuracy': accuracy_score(pred.label_ids, pred.predictions.argmax(-1)),\n",
        "        'precision': precision_score(pred.label_ids, pred.predictions.argmax(-1), average='macro'),\n",
        "        'recall': recall_score(pred.label_ids, pred.predictions.argmax(-1), average='macro'),\n",
        "        'f1': f1_score(pred.label_ids, pred.predictions.argmax(-1), average='macro')\n",
        "      },\n",
        ")"
      ]
    },
    {
      "cell_type": "code",
      "execution_count": null,
      "metadata": {
        "colab": {
          "base_uri": "https://localhost:8080/",
          "height": 235
        },
        "id": "P4ActB38aLJZ",
        "outputId": "84aa5568-fb31-4989-d42e-9c2b8ee7f0dc"
      },
      "outputs": [
        {
          "output_type": "stream",
          "name": "stderr",
          "text": [
            "/usr/local/lib/python3.9/dist-packages/transformers/optimization.py:391: FutureWarning: This implementation of AdamW is deprecated and will be removed in a future version. Use the PyTorch implementation torch.optim.AdamW instead, or set `no_deprecation_warning=True` to disable this warning\n",
            "  warnings.warn(\n"
          ]
        },
        {
          "output_type": "display_data",
          "data": {
            "text/plain": [
              "<IPython.core.display.HTML object>"
            ],
            "text/html": [
              "\n",
              "    <div>\n",
              "      \n",
              "      <progress value='188' max='188' style='width:300px; height:20px; vertical-align: middle;'></progress>\n",
              "      [188/188 01:18, Epoch 1/1]\n",
              "    </div>\n",
              "    <table border=\"1\" class=\"dataframe\">\n",
              "  <thead>\n",
              " <tr style=\"text-align: left;\">\n",
              "      <th>Epoch</th>\n",
              "      <th>Training Loss</th>\n",
              "      <th>Validation Loss</th>\n",
              "      <th>Accuracy</th>\n",
              "      <th>Precision</th>\n",
              "      <th>Recall</th>\n",
              "      <th>F1</th>\n",
              "    </tr>\n",
              "  </thead>\n",
              "  <tbody>\n",
              "    <tr>\n",
              "      <td>1</td>\n",
              "      <td>No log</td>\n",
              "      <td>0.646508</td>\n",
              "      <td>0.791000</td>\n",
              "      <td>0.263667</td>\n",
              "      <td>0.333333</td>\n",
              "      <td>0.294435</td>\n",
              "    </tr>\n",
              "  </tbody>\n",
              "</table><p>"
            ]
          },
          "metadata": {}
        },
        {
          "output_type": "stream",
          "name": "stderr",
          "text": [
            "/usr/local/lib/python3.9/dist-packages/sklearn/metrics/_classification.py:1344: UndefinedMetricWarning: Precision is ill-defined and being set to 0.0 in labels with no predicted samples. Use `zero_division` parameter to control this behavior.\n",
            "  _warn_prf(average, modifier, msg_start, len(result))\n"
          ]
        },
        {
          "output_type": "execute_result",
          "data": {
            "text/plain": [
              "TrainOutput(global_step=188, training_loss=0.7017381546345163, metrics={'train_runtime': 82.2711, 'train_samples_per_second': 36.453, 'train_steps_per_second': 2.285, 'total_flos': 789091309249536.0, 'train_loss': 0.7017381546345163, 'epoch': 1.0})"
            ]
          },
          "metadata": {},
          "execution_count": 58
        }
      ],
      "source": [
        "# Train the model\n",
        "trainer.train()"
      ]
    },
    {
      "cell_type": "code",
      "execution_count": null,
      "metadata": {
        "colab": {
          "base_uri": "https://localhost:8080/",
          "height": 257
        },
        "id": "i9EiJQvyrZHk",
        "outputId": "797e3f44-9264-4c57-e093-f71cec8314e9"
      },
      "outputs": [
        {
          "output_type": "display_data",
          "data": {
            "text/plain": [
              "<IPython.core.display.HTML object>"
            ],
            "text/html": [
              "\n",
              "    <div>\n",
              "      \n",
              "      <progress value='63' max='63' style='width:300px; height:20px; vertical-align: middle;'></progress>\n",
              "      [63/63 00:07]\n",
              "    </div>\n",
              "    "
            ]
          },
          "metadata": {}
        },
        {
          "output_type": "stream",
          "name": "stderr",
          "text": [
            "/usr/local/lib/python3.9/dist-packages/sklearn/metrics/_classification.py:1344: UndefinedMetricWarning: Precision is ill-defined and being set to 0.0 in labels with no predicted samples. Use `zero_division` parameter to control this behavior.\n",
            "  _warn_prf(average, modifier, msg_start, len(result))\n"
          ]
        },
        {
          "output_type": "execute_result",
          "data": {
            "text/plain": [
              "{'eval_loss': 0.6465083956718445,\n",
              " 'eval_accuracy': 0.791,\n",
              " 'eval_precision': 0.26366666666666666,\n",
              " 'eval_recall': 0.3333333333333333,\n",
              " 'eval_f1': 0.2944351386562442,\n",
              " 'eval_runtime': 7.6714,\n",
              " 'eval_samples_per_second': 130.355,\n",
              " 'eval_steps_per_second': 8.212,\n",
              " 'epoch': 1.0}"
            ]
          },
          "metadata": {},
          "execution_count": 59
        }
      ],
      "source": [
        "val_preds = trainer.evaluate(valid_dataset)\n",
        "val_preds"
      ]
    },
    {
      "cell_type": "code",
      "execution_count": null,
      "metadata": {
        "id": "2NvlQXaWch-m"
      },
      "outputs": [],
      "source": [
        "training_args1 = TrainingArguments(\n",
        "    output_dir='./results',\n",
        "    evaluation_strategy='epoch',\n",
        "    learning_rate=2e-4,\n",
        "    per_device_train_batch_size=16,\n",
        "    per_device_eval_batch_size=32,\n",
        "    num_train_epochs=2,\n",
        "    weight_decay=0,\n",
        ")\n",
        "\n",
        "trainer1 = Trainer(\n",
        "    model=model,\n",
        "    args=training_args1,\n",
        "    train_dataset=train_dataset,\n",
        "    eval_dataset=valid_dataset,\n",
        "    compute_metrics=lambda pred: {\n",
        "        'accuracy': accuracy_score(pred.label_ids, pred.predictions.argmax(-1)),\n",
        "        'precision': precision_score(pred.label_ids, pred.predictions.argmax(-1), average='macro'),\n",
        "        'recall': recall_score(pred.label_ids, pred.predictions.argmax(-1), average='macro'),\n",
        "        'f1': f1_score(pred.label_ids, pred.predictions.argmax(-1), average='macro')\n",
        "      },\n",
        ")"
      ]
    },
    {
      "cell_type": "code",
      "execution_count": null,
      "metadata": {
        "colab": {
          "base_uri": "https://localhost:8080/",
          "height": 303
        },
        "id": "3L_M4uzLd-xY",
        "outputId": "a3373e33-2a73-4ce8-ce2b-6360e780bfc0"
      },
      "outputs": [
        {
          "output_type": "stream",
          "name": "stderr",
          "text": [
            "/usr/local/lib/python3.9/dist-packages/transformers/optimization.py:391: FutureWarning: This implementation of AdamW is deprecated and will be removed in a future version. Use the PyTorch implementation torch.optim.AdamW instead, or set `no_deprecation_warning=True` to disable this warning\n",
            "  warnings.warn(\n"
          ]
        },
        {
          "output_type": "display_data",
          "data": {
            "text/plain": [
              "<IPython.core.display.HTML object>"
            ],
            "text/html": [
              "\n",
              "    <div>\n",
              "      \n",
              "      <progress value='376' max='376' style='width:300px; height:20px; vertical-align: middle;'></progress>\n",
              "      [376/376 02:36, Epoch 2/2]\n",
              "    </div>\n",
              "    <table border=\"1\" class=\"dataframe\">\n",
              "  <thead>\n",
              " <tr style=\"text-align: left;\">\n",
              "      <th>Epoch</th>\n",
              "      <th>Training Loss</th>\n",
              "      <th>Validation Loss</th>\n",
              "      <th>Accuracy</th>\n",
              "      <th>Precision</th>\n",
              "      <th>Recall</th>\n",
              "      <th>F1</th>\n",
              "    </tr>\n",
              "  </thead>\n",
              "  <tbody>\n",
              "    <tr>\n",
              "      <td>1</td>\n",
              "      <td>No log</td>\n",
              "      <td>0.652466</td>\n",
              "      <td>0.791000</td>\n",
              "      <td>0.263667</td>\n",
              "      <td>0.333333</td>\n",
              "      <td>0.294435</td>\n",
              "    </tr>\n",
              "    <tr>\n",
              "      <td>2</td>\n",
              "      <td>No log</td>\n",
              "      <td>0.646546</td>\n",
              "      <td>0.791000</td>\n",
              "      <td>0.263667</td>\n",
              "      <td>0.333333</td>\n",
              "      <td>0.294435</td>\n",
              "    </tr>\n",
              "  </tbody>\n",
              "</table><p>"
            ]
          },
          "metadata": {}
        },
        {
          "output_type": "stream",
          "name": "stderr",
          "text": [
            "/usr/local/lib/python3.9/dist-packages/sklearn/metrics/_classification.py:1344: UndefinedMetricWarning: Precision is ill-defined and being set to 0.0 in labels with no predicted samples. Use `zero_division` parameter to control this behavior.\n",
            "  _warn_prf(average, modifier, msg_start, len(result))\n",
            "/usr/local/lib/python3.9/dist-packages/sklearn/metrics/_classification.py:1344: UndefinedMetricWarning: Precision is ill-defined and being set to 0.0 in labels with no predicted samples. Use `zero_division` parameter to control this behavior.\n",
            "  _warn_prf(average, modifier, msg_start, len(result))\n"
          ]
        },
        {
          "output_type": "execute_result",
          "data": {
            "text/plain": [
              "TrainOutput(global_step=376, training_loss=0.6926398581646859, metrics={'train_runtime': 157.1732, 'train_samples_per_second': 38.162, 'train_steps_per_second': 2.392, 'total_flos': 1578182618499072.0, 'train_loss': 0.6926398581646859, 'epoch': 2.0})"
            ]
          },
          "metadata": {},
          "execution_count": 61
        }
      ],
      "source": [
        "trainer1.train()"
      ]
    },
    {
      "cell_type": "code",
      "execution_count": null,
      "metadata": {
        "id": "Pwepwg6VeAgp"
      },
      "outputs": [],
      "source": [
        "training_args2 = TrainingArguments(\n",
        "    output_dir='./results',\n",
        "    evaluation_strategy='epoch',\n",
        "    learning_rate=2e-4,\n",
        "    per_device_train_batch_size=32,\n",
        "    per_device_eval_batch_size=16,\n",
        "    num_train_epochs=2,\n",
        "    weight_decay=0,\n",
        ")\n",
        "\n",
        "trainer2 = Trainer(\n",
        "    model=model,\n",
        "    args=training_args2,\n",
        "    train_dataset=train_dataset,\n",
        "    eval_dataset=valid_dataset,\n",
        "    compute_metrics=lambda pred: {\n",
        "        'accuracy': accuracy_score(pred.label_ids, pred.predictions.argmax(-1)),\n",
        "        'precision': precision_score(pred.label_ids, pred.predictions.argmax(-1), average='macro'),\n",
        "        'recall': recall_score(pred.label_ids, pred.predictions.argmax(-1), average='macro'),\n",
        "        'f1': f1_score(pred.label_ids, pred.predictions.argmax(-1), average='macro')\n",
        "      },\n",
        ")"
      ]
    },
    {
      "cell_type": "code",
      "execution_count": null,
      "metadata": {
        "colab": {
          "base_uri": "https://localhost:8080/",
          "height": 303
        },
        "id": "urC1OiAVe8me",
        "outputId": "6db72865-7d5e-4b33-8e23-afc7592c1145"
      },
      "outputs": [
        {
          "output_type": "stream",
          "name": "stderr",
          "text": [
            "/usr/local/lib/python3.9/dist-packages/transformers/optimization.py:391: FutureWarning: This implementation of AdamW is deprecated and will be removed in a future version. Use the PyTorch implementation torch.optim.AdamW instead, or set `no_deprecation_warning=True` to disable this warning\n",
            "  warnings.warn(\n"
          ]
        },
        {
          "output_type": "display_data",
          "data": {
            "text/plain": [
              "<IPython.core.display.HTML object>"
            ],
            "text/html": [
              "\n",
              "    <div>\n",
              "      \n",
              "      <progress value='188' max='188' style='width:300px; height:20px; vertical-align: middle;'></progress>\n",
              "      [188/188 02:27, Epoch 2/2]\n",
              "    </div>\n",
              "    <table border=\"1\" class=\"dataframe\">\n",
              "  <thead>\n",
              " <tr style=\"text-align: left;\">\n",
              "      <th>Epoch</th>\n",
              "      <th>Training Loss</th>\n",
              "      <th>Validation Loss</th>\n",
              "      <th>Accuracy</th>\n",
              "      <th>Precision</th>\n",
              "      <th>Recall</th>\n",
              "      <th>F1</th>\n",
              "    </tr>\n",
              "  </thead>\n",
              "  <tbody>\n",
              "    <tr>\n",
              "      <td>1</td>\n",
              "      <td>No log</td>\n",
              "      <td>0.673935</td>\n",
              "      <td>0.791000</td>\n",
              "      <td>0.263667</td>\n",
              "      <td>0.333333</td>\n",
              "      <td>0.294435</td>\n",
              "    </tr>\n",
              "    <tr>\n",
              "      <td>2</td>\n",
              "      <td>No log</td>\n",
              "      <td>0.646352</td>\n",
              "      <td>0.791000</td>\n",
              "      <td>0.263667</td>\n",
              "      <td>0.333333</td>\n",
              "      <td>0.294435</td>\n",
              "    </tr>\n",
              "  </tbody>\n",
              "</table><p>"
            ]
          },
          "metadata": {}
        },
        {
          "output_type": "stream",
          "name": "stderr",
          "text": [
            "/usr/local/lib/python3.9/dist-packages/sklearn/metrics/_classification.py:1344: UndefinedMetricWarning: Precision is ill-defined and being set to 0.0 in labels with no predicted samples. Use `zero_division` parameter to control this behavior.\n",
            "  _warn_prf(average, modifier, msg_start, len(result))\n",
            "/usr/local/lib/python3.9/dist-packages/sklearn/metrics/_classification.py:1344: UndefinedMetricWarning: Precision is ill-defined and being set to 0.0 in labels with no predicted samples. Use `zero_division` parameter to control this behavior.\n",
            "  _warn_prf(average, modifier, msg_start, len(result))\n"
          ]
        },
        {
          "output_type": "execute_result",
          "data": {
            "text/plain": [
              "TrainOutput(global_step=188, training_loss=0.6843756817756815, metrics={'train_runtime': 148.3917, 'train_samples_per_second': 40.42, 'train_steps_per_second': 1.267, 'total_flos': 1578182618499072.0, 'train_loss': 0.6843756817756815, 'epoch': 2.0})"
            ]
          },
          "metadata": {},
          "execution_count": 63
        }
      ],
      "source": [
        "trainer2.train()"
      ]
    },
    {
      "cell_type": "code",
      "execution_count": null,
      "metadata": {
        "id": "f_qEf_yme-bl"
      },
      "outputs": [],
      "source": [
        "training_args3 = TrainingArguments(\n",
        "    output_dir='./results',\n",
        "    evaluation_strategy='epoch',\n",
        "    learning_rate=4e-5,\n",
        "    per_device_train_batch_size=32,\n",
        "    per_device_eval_batch_size=15,\n",
        "    num_train_epochs=3,\n",
        "    weight_decay=0,\n",
        ")\n",
        "\n",
        "trainer3 = Trainer(\n",
        "    model=model,\n",
        "    args=training_args3,\n",
        "    train_dataset=train_dataset,\n",
        "    eval_dataset=valid_dataset,\n",
        "    compute_metrics=lambda pred: {\n",
        "        'accuracy': accuracy_score(pred.label_ids, pred.predictions.argmax(-1)),\n",
        "        'precision': precision_score(pred.label_ids, pred.predictions.argmax(-1), average='macro'),\n",
        "        'recall': recall_score(pred.label_ids, pred.predictions.argmax(-1), average='macro'),\n",
        "        'f1': f1_score(pred.label_ids, pred.predictions.argmax(-1), average='macro')\n",
        "      },\n",
        ")"
      ]
    },
    {
      "cell_type": "code",
      "execution_count": null,
      "metadata": {
        "colab": {
          "base_uri": "https://localhost:8080/",
          "height": 371
        },
        "id": "t3SeirtbgDKF",
        "outputId": "59b3bed7-0506-4d2f-bb4b-f2fffadefc79"
      },
      "outputs": [
        {
          "output_type": "stream",
          "name": "stderr",
          "text": [
            "/usr/local/lib/python3.9/dist-packages/transformers/optimization.py:391: FutureWarning: This implementation of AdamW is deprecated and will be removed in a future version. Use the PyTorch implementation torch.optim.AdamW instead, or set `no_deprecation_warning=True` to disable this warning\n",
            "  warnings.warn(\n"
          ]
        },
        {
          "output_type": "display_data",
          "data": {
            "text/plain": [
              "<IPython.core.display.HTML object>"
            ],
            "text/html": [
              "\n",
              "    <div>\n",
              "      \n",
              "      <progress value='282' max='282' style='width:300px; height:20px; vertical-align: middle;'></progress>\n",
              "      [282/282 03:41, Epoch 3/3]\n",
              "    </div>\n",
              "    <table border=\"1\" class=\"dataframe\">\n",
              "  <thead>\n",
              " <tr style=\"text-align: left;\">\n",
              "      <th>Epoch</th>\n",
              "      <th>Training Loss</th>\n",
              "      <th>Validation Loss</th>\n",
              "      <th>Accuracy</th>\n",
              "      <th>Precision</th>\n",
              "      <th>Recall</th>\n",
              "      <th>F1</th>\n",
              "    </tr>\n",
              "  </thead>\n",
              "  <tbody>\n",
              "    <tr>\n",
              "      <td>1</td>\n",
              "      <td>No log</td>\n",
              "      <td>0.652298</td>\n",
              "      <td>0.791000</td>\n",
              "      <td>0.263667</td>\n",
              "      <td>0.333333</td>\n",
              "      <td>0.294435</td>\n",
              "    </tr>\n",
              "    <tr>\n",
              "      <td>2</td>\n",
              "      <td>No log</td>\n",
              "      <td>0.645908</td>\n",
              "      <td>0.791000</td>\n",
              "      <td>0.263667</td>\n",
              "      <td>0.333333</td>\n",
              "      <td>0.294435</td>\n",
              "    </tr>\n",
              "    <tr>\n",
              "      <td>3</td>\n",
              "      <td>No log</td>\n",
              "      <td>0.646526</td>\n",
              "      <td>0.791000</td>\n",
              "      <td>0.263667</td>\n",
              "      <td>0.333333</td>\n",
              "      <td>0.294435</td>\n",
              "    </tr>\n",
              "  </tbody>\n",
              "</table><p>"
            ]
          },
          "metadata": {}
        },
        {
          "output_type": "stream",
          "name": "stderr",
          "text": [
            "/usr/local/lib/python3.9/dist-packages/sklearn/metrics/_classification.py:1344: UndefinedMetricWarning: Precision is ill-defined and being set to 0.0 in labels with no predicted samples. Use `zero_division` parameter to control this behavior.\n",
            "  _warn_prf(average, modifier, msg_start, len(result))\n",
            "/usr/local/lib/python3.9/dist-packages/sklearn/metrics/_classification.py:1344: UndefinedMetricWarning: Precision is ill-defined and being set to 0.0 in labels with no predicted samples. Use `zero_division` parameter to control this behavior.\n",
            "  _warn_prf(average, modifier, msg_start, len(result))\n",
            "/usr/local/lib/python3.9/dist-packages/sklearn/metrics/_classification.py:1344: UndefinedMetricWarning: Precision is ill-defined and being set to 0.0 in labels with no predicted samples. Use `zero_division` parameter to control this behavior.\n",
            "  _warn_prf(average, modifier, msg_start, len(result))\n"
          ]
        },
        {
          "output_type": "execute_result",
          "data": {
            "text/plain": [
              "TrainOutput(global_step=282, training_loss=0.6721632396075743, metrics={'train_runtime': 221.91, 'train_samples_per_second': 40.543, 'train_steps_per_second': 1.271, 'total_flos': 2367273927748608.0, 'train_loss': 0.6721632396075743, 'epoch': 3.0})"
            ]
          },
          "metadata": {},
          "execution_count": 65
        }
      ],
      "source": [
        "trainer3.train()"
      ]
    },
    {
      "cell_type": "markdown",
      "metadata": {
        "id": "8FV7vvqoztK7"
      },
      "source": [
        "# Best Model on Test Data"
      ]
    },
    {
      "cell_type": "code",
      "execution_count": null,
      "metadata": {
        "id": "X8dJpEnIz0al"
      },
      "outputs": [],
      "source": [
        "X_test = roberta_tokenizer(x_test[:,3].tolist(),truncation=True,padding=True)\n",
        "X_test[\"labels\"] = mapped_labels_test\n",
        "test_dataset = Dataset.from_dict(X_test)"
      ]
    },
    {
      "cell_type": "code",
      "execution_count": null,
      "metadata": {
        "colab": {
          "base_uri": "https://localhost:8080/",
          "height": 73
        },
        "id": "IKJwVdoJ3NHm",
        "outputId": "4386f911-7295-4e37-9ba5-af997be9f7f7"
      },
      "outputs": [
        {
          "output_type": "display_data",
          "data": {
            "text/plain": [
              "<IPython.core.display.HTML object>"
            ],
            "text/html": []
          },
          "metadata": {}
        },
        {
          "output_type": "stream",
          "name": "stderr",
          "text": [
            "/usr/local/lib/python3.9/dist-packages/sklearn/metrics/_classification.py:1344: UndefinedMetricWarning: Precision is ill-defined and being set to 0.0 in labels with no predicted samples. Use `zero_division` parameter to control this behavior.\n",
            "  _warn_prf(average, modifier, msg_start, len(result))\n"
          ]
        }
      ],
      "source": [
        "p, label_ids, m = trainer1.predict(test_dataset)"
      ]
    },
    {
      "cell_type": "code",
      "execution_count": null,
      "metadata": {
        "colab": {
          "base_uri": "https://localhost:8080/",
          "height": 297
        },
        "id": "NdKww3ai3Xw2",
        "outputId": "b0dfcda0-24c8-4bff-c2f6-51d2b04bc52f"
      },
      "outputs": [
        {
          "output_type": "execute_result",
          "data": {
            "text/plain": [
              "<sklearn.metrics._plot.confusion_matrix.ConfusionMatrixDisplay at 0x7fc204c47a60>"
            ]
          },
          "metadata": {},
          "execution_count": 69
        },
        {
          "output_type": "display_data",
          "data": {
            "text/plain": [
              "<Figure size 432x288 with 2 Axes>"
            ],
            "image/png": "[encoded data removed]"
          },
          "metadata": {
            "needs_background": "light"
          }
        }
      ],
      "source": [
        "predicted_labels = p.argmax(axis=1)\n",
        "true_labels = label_ids\n",
        "ConfusionMatrixDisplay(confusion_matrix=confusion_matrix(true_labels, predicted_labels)).plot()"
      ]
    },
    {
      "cell_type": "code",
      "source": [],
      "metadata": {
        "id": "SDWjAhTZn914"
      },
      "execution_count": null,
      "outputs": []
    }
  ],
  "metadata": {
    "accelerator": "GPU",
    "colab": {
      "provenance": [],
      "gpuClass": "premium"
    },
    "gpuClass": "premium",
    "kernelspec": {
      "display_name": "Python 3",
      "language": "python",
      "name": "python3"
    },
    "language_info": {
      "codemirror_mode": {
        "name": "ipython",
        "version": 3
      },
      "file_extension": ".py",
      "mimetype": "text/x-python",
      "name": "python",
      "nbconvert_exporter": "python",
      "pygments_lexer": "ipython3",
      "version": "3.8.5"
    },
    "widgets": {
      "application/vnd.jupyter.widget-state+json": {
        "7eaee0f58a084a6d8a0d513a9192f0a0": {
          "model_module": "@jupyter-widgets/controls",
          "model_name": "HBoxModel",
          "model_module_version": "1.5.0",
          "state": {
            "_dom_classes": [],
            "_model_module": "@jupyter-widgets/controls",
            "_model_module_version": "1.5.0",
            "_model_name": "HBoxModel",
            "_view_count": null,
            "_view_module": "@jupyter-widgets/controls",
            "_view_module_version": "1.5.0",
            "_view_name": "HBoxView",
            "box_style": "",
            "children": [
              "IPY_MODEL_5afb6d784d9f454fa423c99488daa267",
              "IPY_MODEL_3113440c207b47bfbde584ef5d1d175d",
              "IPY_MODEL_59e7a42f52f14672b4b1c489373d98ed"
            ],
            "layout": "IPY_MODEL_c1ca52706ddb437daba1e478e49d0d02"
          }
        },
        "5afb6d784d9f454fa423c99488daa267": {
          "model_module": "@jupyter-widgets/controls",
          "model_name": "HTMLModel",
          "model_module_version": "1.5.0",
          "state": {
            "_dom_classes": [],
            "_model_module": "@jupyter-widgets/controls",
            "_model_module_version": "1.5.0",
            "_model_name": "HTMLModel",
            "_view_count": null,
            "_view_module": "@jupyter-widgets/controls",
            "_view_module_version": "1.5.0",
            "_view_name": "HTMLView",
            "description": "",
            "description_tooltip": null,
            "layout": "IPY_MODEL_098d7414a7e04792960061e607e0999a",
            "placeholder": "​",
            "style": "IPY_MODEL_93779f71921b4f24bf5c8b20068237a7",
            "value": "Downloading (…)olve/main/vocab.json: 100%"
          }
        },
        "3113440c207b47bfbde584ef5d1d175d": {
          "model_module": "@jupyter-widgets/controls",
          "model_name": "FloatProgressModel",
          "model_module_version": "1.5.0",
          "state": {
            "_dom_classes": [],
            "_model_module": "@jupyter-widgets/controls",
            "_model_module_version": "1.5.0",
            "_model_name": "FloatProgressModel",
            "_view_count": null,
            "_view_module": "@jupyter-widgets/controls",
            "_view_module_version": "1.5.0",
            "_view_name": "ProgressView",
            "bar_style": "success",
            "description": "",
            "description_tooltip": null,
            "layout": "IPY_MODEL_81fc264f2c404257a1efa72566872490",
            "max": 898823,
            "min": 0,
            "orientation": "horizontal",
            "style": "IPY_MODEL_c3985a70452b47ce8b1a3cc53f548507",
            "value": 898823
          }
        },
        "59e7a42f52f14672b4b1c489373d98ed": {
          "model_module": "@jupyter-widgets/controls",
          "model_name": "HTMLModel",
          "model_module_version": "1.5.0",
          "state": {
            "_dom_classes": [],
            "_model_module": "@jupyter-widgets/controls",
            "_model_module_version": "1.5.0",
            "_model_name": "HTMLModel",
            "_view_count": null,
            "_view_module": "@jupyter-widgets/controls",
            "_view_module_version": "1.5.0",
            "_view_name": "HTMLView",
            "description": "",
            "description_tooltip": null,
            "layout": "IPY_MODEL_86e65cab1bde42099c9aad4a4bcc43ce",
            "placeholder": "​",
            "style": "IPY_MODEL_9a145b60f880458eb6f2e50994dd576f",
            "value": " 899k/899k [00:01&lt;00:00, 781kB/s]"
          }
        },
        "c1ca52706ddb437daba1e478e49d0d02": {
          "model_module": "@jupyter-widgets/base",
          "model_name": "LayoutModel",
          "model_module_version": "1.2.0",
          "state": {
            "_model_module": "@jupyter-widgets/base",
            "_model_module_version": "1.2.0",
            "_model_name": "LayoutModel",
            "_view_count": null,
            "_view_module": "@jupyter-widgets/base",
            "_view_module_version": "1.2.0",
            "_view_name": "LayoutView",
            "align_content": null,
            "align_items": null,
            "align_self": null,
            "border": null,
            "bottom": null,
            "display": null,
            "flex": null,
            "flex_flow": null,
            "grid_area": null,
            "grid_auto_columns": null,
            "grid_auto_flow": null,
            "grid_auto_rows": null,
            "grid_column": null,
            "grid_gap": null,
            "grid_row": null,
            "grid_template_areas": null,
            "grid_template_columns": null,
            "grid_template_rows": null,
            "height": null,
            "justify_content": null,
            "justify_items": null,
            "left": null,
            "margin": null,
            "max_height": null,
            "max_width": null,
            "min_height": null,
            "min_width": null,
            "object_fit": null,
            "object_position": null,
            "order": null,
            "overflow": null,
            "overflow_x": null,
            "overflow_y": null,
            "padding": null,
            "right": null,
            "top": null,
            "visibility": null,
            "width": null
          }
        },
        "098d7414a7e04792960061e607e0999a": {
          "model_module": "@jupyter-widgets/base",
          "model_name": "LayoutModel",
          "model_module_version": "1.2.0",
          "state": {
            "_model_module": "@jupyter-widgets/base",
            "_model_module_version": "1.2.0",
            "_model_name": "LayoutModel",
            "_view_count": null,
            "_view_module": "@jupyter-widgets/base",
            "_view_module_version": "1.2.0",
            "_view_name": "LayoutView",
            "align_content": null,
            "align_items": null,
            "align_self": null,
            "border": null,
            "bottom": null,
            "display": null,
            "flex": null,
            "flex_flow": null,
            "grid_area": null,
            "grid_auto_columns": null,
            "grid_auto_flow": null,
            "grid_auto_rows": null,
            "grid_column": null,
            "grid_gap": null,
            "grid_row": null,
            "grid_template_areas": null,
            "grid_template_columns": null,
            "grid_template_rows": null,
            "height": null,
            "justify_content": null,
            "justify_items": null,
            "left": null,
            "margin": null,
            "max_height": null,
            "max_width": null,
            "min_height": null,
            "min_width": null,
            "object_fit": null,
            "object_position": null,
            "order": null,
            "overflow": null,
            "overflow_x": null,
            "overflow_y": null,
            "padding": null,
            "right": null,
            "top": null,
            "visibility": null,
            "width": null
          }
        },
        "93779f71921b4f24bf5c8b20068237a7": {
          "model_module": "@jupyter-widgets/controls",
          "model_name": "DescriptionStyleModel",
          "model_module_version": "1.5.0",
          "state": {
            "_model_module": "@jupyter-widgets/controls",
            "_model_module_version": "1.5.0",
            "_model_name": "DescriptionStyleModel",
            "_view_count": null,
            "_view_module": "@jupyter-widgets/base",
            "_view_module_version": "1.2.0",
            "_view_name": "StyleView",
            "description_width": ""
          }
        },
        "81fc264f2c404257a1efa72566872490": {
          "model_module": "@jupyter-widgets/base",
          "model_name": "LayoutModel",
          "model_module_version": "1.2.0",
          "state": {
            "_model_module": "@jupyter-widgets/base",
            "_model_module_version": "1.2.0",
            "_model_name": "LayoutModel",
            "_view_count": null,
            "_view_module": "@jupyter-widgets/base",
            "_view_module_version": "1.2.0",
            "_view_name": "LayoutView",
            "align_content": null,
            "align_items": null,
            "align_self": null,
            "border": null,
            "bottom": null,
            "display": null,
            "flex": null,
            "flex_flow": null,
            "grid_area": null,
            "grid_auto_columns": null,
            "grid_auto_flow": null,
            "grid_auto_rows": null,
            "grid_column": null,
            "grid_gap": null,
            "grid_row": null,
            "grid_template_areas": null,
            "grid_template_columns": null,
            "grid_template_rows": null,
            "height": null,
            "justify_content": null,
            "justify_items": null,
            "left": null,
            "margin": null,
            "max_height": null,
            "max_width": null,
            "min_height": null,
            "min_width": null,
            "object_fit": null,
            "object_position": null,
            "order": null,
            "overflow": null,
            "overflow_x": null,
            "overflow_y": null,
            "padding": null,
            "right": null,
            "top": null,
            "visibility": null,
            "width": null
          }
        },
        "c3985a70452b47ce8b1a3cc53f548507": {
          "model_module": "@jupyter-widgets/controls",
          "model_name": "ProgressStyleModel",
          "model_module_version": "1.5.0",
          "state": {
            "_model_module": "@jupyter-widgets/controls",
            "_model_module_version": "1.5.0",
            "_model_name": "ProgressStyleModel",
            "_view_count": null,
            "_view_module": "@jupyter-widgets/base",
            "_view_module_version": "1.2.0",
            "_view_name": "StyleView",
            "bar_color": null,
            "description_width": ""
          }
        },
        "86e65cab1bde42099c9aad4a4bcc43ce": {
          "model_module": "@jupyter-widgets/base",
          "model_name": "LayoutModel",
          "model_module_version": "1.2.0",
          "state": {
            "_model_module": "@jupyter-widgets/base",
            "_model_module_version": "1.2.0",
            "_model_name": "LayoutModel",
            "_view_count": null,
            "_view_module": "@jupyter-widgets/base",
            "_view_module_version": "1.2.0",
            "_view_name": "LayoutView",
            "align_content": null,
            "align_items": null,
            "align_self": null,
            "border": null,
            "bottom": null,
            "display": null,
            "flex": null,
            "flex_flow": null,
            "grid_area": null,
            "grid_auto_columns": null,
            "grid_auto_flow": null,
            "grid_auto_rows": null,
            "grid_column": null,
            "grid_gap": null,
            "grid_row": null,
            "grid_template_areas": null,
            "grid_template_columns": null,
            "grid_template_rows": null,
            "height": null,
            "justify_content": null,
            "justify_items": null,
            "left": null,
            "margin": null,
            "max_height": null,
            "max_width": null,
            "min_height": null,
            "min_width": null,
            "object_fit": null,
            "object_position": null,
            "order": null,
            "overflow": null,
            "overflow_x": null,
            "overflow_y": null,
            "padding": null,
            "right": null,
            "top": null,
            "visibility": null,
            "width": null
          }
        },
        "9a145b60f880458eb6f2e50994dd576f": {
          "model_module": "@jupyter-widgets/controls",
          "model_name": "DescriptionStyleModel",
          "model_module_version": "1.5.0",
          "state": {
            "_model_module": "@jupyter-widgets/controls",
            "_model_module_version": "1.5.0",
            "_model_name": "DescriptionStyleModel",
            "_view_count": null,
            "_view_module": "@jupyter-widgets/base",
            "_view_module_version": "1.2.0",
            "_view_name": "StyleView",
            "description_width": ""
          }
        },
        "ef844b8a875f4a9490f7963d61d3e31a": {
          "model_module": "@jupyter-widgets/controls",
          "model_name": "HBoxModel",
          "model_module_version": "1.5.0",
          "state": {
            "_dom_classes": [],
            "_model_module": "@jupyter-widgets/controls",
            "_model_module_version": "1.5.0",
            "_model_name": "HBoxModel",
            "_view_count": null,
            "_view_module": "@jupyter-widgets/controls",
            "_view_module_version": "1.5.0",
            "_view_name": "HBoxView",
            "box_style": "",
            "children": [
              "IPY_MODEL_c00863a886164447a3773f7cca58827f",
              "IPY_MODEL_0d2d15e3f3834f15a15086fd1f11e3df",
              "IPY_MODEL_ed56705014174a5096a3b6ae29c5d810"
            ],
            "layout": "IPY_MODEL_9ba9f4f5a60b444fa2741046a083c74d"
          }
        },
        "c00863a886164447a3773f7cca58827f": {
          "model_module": "@jupyter-widgets/controls",
          "model_name": "HTMLModel",
          "model_module_version": "1.5.0",
          "state": {
            "_dom_classes": [],
            "_model_module": "@jupyter-widgets/controls",
            "_model_module_version": "1.5.0",
            "_model_name": "HTMLModel",
            "_view_count": null,
            "_view_module": "@jupyter-widgets/controls",
            "_view_module_version": "1.5.0",
            "_view_name": "HTMLView",
            "description": "",
            "description_tooltip": null,
            "layout": "IPY_MODEL_effeec4ef1214424aab091b48b613519",
            "placeholder": "​",
            "style": "IPY_MODEL_39e4acc4a5a94c0190fa1b68592362b1",
            "value": "Downloading (…)olve/main/merges.txt: 100%"
          }
        },
        "0d2d15e3f3834f15a15086fd1f11e3df": {
          "model_module": "@jupyter-widgets/controls",
          "model_name": "FloatProgressModel",
          "model_module_version": "1.5.0",
          "state": {
            "_dom_classes": [],
            "_model_module": "@jupyter-widgets/controls",
            "_model_module_version": "1.5.0",
            "_model_name": "FloatProgressModel",
            "_view_count": null,
            "_view_module": "@jupyter-widgets/controls",
            "_view_module_version": "1.5.0",
            "_view_name": "ProgressView",
            "bar_style": "success",
            "description": "",
            "description_tooltip": null,
            "layout": "IPY_MODEL_c9e2bc6b026042308648efe97c833422",
            "max": 456318,
            "min": 0,
            "orientation": "horizontal",
            "style": "IPY_MODEL_3dc1233330e64777a023a5355d59e161",
            "value": 456318
          }
        },
        "ed56705014174a5096a3b6ae29c5d810": {
          "model_module": "@jupyter-widgets/controls",
          "model_name": "HTMLModel",
          "model_module_version": "1.5.0",
          "state": {
            "_dom_classes": [],
            "_model_module": "@jupyter-widgets/controls",
            "_model_module_version": "1.5.0",
            "_model_name": "HTMLModel",
            "_view_count": null,
            "_view_module": "@jupyter-widgets/controls",
            "_view_module_version": "1.5.0",
            "_view_name": "HTMLView",
            "description": "",
            "description_tooltip": null,
            "layout": "IPY_MODEL_419a49a2739f42a6afe17a207f0ccef0",
            "placeholder": "​",
            "style": "IPY_MODEL_6bfa6487ce8b46c3921410fda4249ef1",
            "value": " 456k/456k [00:00&lt;00:00, 502kB/s]"
          }
        },
        "9ba9f4f5a60b444fa2741046a083c74d": {
          "model_module": "@jupyter-widgets/base",
          "model_name": "LayoutModel",
          "model_module_version": "1.2.0",
          "state": {
            "_model_module": "@jupyter-widgets/base",
            "_model_module_version": "1.2.0",
            "_model_name": "LayoutModel",
            "_view_count": null,
            "_view_module": "@jupyter-widgets/base",
            "_view_module_version": "1.2.0",
            "_view_name": "LayoutView",
            "align_content": null,
            "align_items": null,
            "align_self": null,
            "border": null,
            "bottom": null,
            "display": null,
            "flex": null,
            "flex_flow": null,
            "grid_area": null,
            "grid_auto_columns": null,
            "grid_auto_flow": null,
            "grid_auto_rows": null,
            "grid_column": null,
            "grid_gap": null,
            "grid_row": null,
            "grid_template_areas": null,
            "grid_template_columns": null,
            "grid_template_rows": null,
            "height": null,
            "justify_content": null,
            "justify_items": null,
            "left": null,
            "margin": null,
            "max_height": null,
            "max_width": null,
            "min_height": null,
            "min_width": null,
            "object_fit": null,
            "object_position": null,
            "order": null,
            "overflow": null,
            "overflow_x": null,
            "overflow_y": null,
            "padding": null,
            "right": null,
            "top": null,
            "visibility": null,
            "width": null
          }
        },
        "effeec4ef1214424aab091b48b613519": {
          "model_module": "@jupyter-widgets/base",
          "model_name": "LayoutModel",
          "model_module_version": "1.2.0",
          "state": {
            "_model_module": "@jupyter-widgets/base",
            "_model_module_version": "1.2.0",
            "_model_name": "LayoutModel",
            "_view_count": null,
            "_view_module": "@jupyter-widgets/base",
            "_view_module_version": "1.2.0",
            "_view_name": "LayoutView",
            "align_content": null,
            "align_items": null,
            "align_self": null,
            "border": null,
            "bottom": null,
            "display": null,
            "flex": null,
            "flex_flow": null,
            "grid_area": null,
            "grid_auto_columns": null,
            "grid_auto_flow": null,
            "grid_auto_rows": null,
            "grid_column": null,
            "grid_gap": null,
            "grid_row": null,
            "grid_template_areas": null,
            "grid_template_columns": null,
            "grid_template_rows": null,
            "height": null,
            "justify_content": null,
            "justify_items": null,
            "left": null,
            "margin": null,
            "max_height": null,
            "max_width": null,
            "min_height": null,
            "min_width": null,
            "object_fit": null,
            "object_position": null,
            "order": null,
            "overflow": null,
            "overflow_x": null,
            "overflow_y": null,
            "padding": null,
            "right": null,
            "top": null,
            "visibility": null,
            "width": null
          }
        },
        "39e4acc4a5a94c0190fa1b68592362b1": {
          "model_module": "@jupyter-widgets/controls",
          "model_name": "DescriptionStyleModel",
          "model_module_version": "1.5.0",
          "state": {
            "_model_module": "@jupyter-widgets/controls",
            "_model_module_version": "1.5.0",
            "_model_name": "DescriptionStyleModel",
            "_view_count": null,
            "_view_module": "@jupyter-widgets/base",
            "_view_module_version": "1.2.0",
            "_view_name": "StyleView",
            "description_width": ""
          }
        },
        "c9e2bc6b026042308648efe97c833422": {
          "model_module": "@jupyter-widgets/base",
          "model_name": "LayoutModel",
          "model_module_version": "1.2.0",
          "state": {
            "_model_module": "@jupyter-widgets/base",
            "_model_module_version": "1.2.0",
            "_model_name": "LayoutModel",
            "_view_count": null,
            "_view_module": "@jupyter-widgets/base",
            "_view_module_version": "1.2.0",
            "_view_name": "LayoutView",
            "align_content": null,
            "align_items": null,
            "align_self": null,
            "border": null,
            "bottom": null,
            "display": null,
            "flex": null,
            "flex_flow": null,
            "grid_area": null,
            "grid_auto_columns": null,
            "grid_auto_flow": null,
            "grid_auto_rows": null,
            "grid_column": null,
            "grid_gap": null,
            "grid_row": null,
            "grid_template_areas": null,
            "grid_template_columns": null,
            "grid_template_rows": null,
            "height": null,
            "justify_content": null,
            "justify_items": null,
            "left": null,
            "margin": null,
            "max_height": null,
            "max_width": null,
            "min_height": null,
            "min_width": null,
            "object_fit": null,
            "object_position": null,
            "order": null,
            "overflow": null,
            "overflow_x": null,
            "overflow_y": null,
            "padding": null,
            "right": null,
            "top": null,
            "visibility": null,
            "width": null
          }
        },
        "3dc1233330e64777a023a5355d59e161": {
          "model_module": "@jupyter-widgets/controls",
          "model_name": "ProgressStyleModel",
          "model_module_version": "1.5.0",
          "state": {
            "_model_module": "@jupyter-widgets/controls",
            "_model_module_version": "1.5.0",
            "_model_name": "ProgressStyleModel",
            "_view_count": null,
            "_view_module": "@jupyter-widgets/base",
            "_view_module_version": "1.2.0",
            "_view_name": "StyleView",
            "bar_color": null,
            "description_width": ""
          }
        },
        "419a49a2739f42a6afe17a207f0ccef0": {
          "model_module": "@jupyter-widgets/base",
          "model_name": "LayoutModel",
          "model_module_version": "1.2.0",
          "state": {
            "_model_module": "@jupyter-widgets/base",
            "_model_module_version": "1.2.0",
            "_model_name": "LayoutModel",
            "_view_count": null,
            "_view_module": "@jupyter-widgets/base",
            "_view_module_version": "1.2.0",
            "_view_name": "LayoutView",
            "align_content": null,
            "align_items": null,
            "align_self": null,
            "border": null,
            "bottom": null,
            "display": null,
            "flex": null,
            "flex_flow": null,
            "grid_area": null,
            "grid_auto_columns": null,
            "grid_auto_flow": null,
            "grid_auto_rows": null,
            "grid_column": null,
            "grid_gap": null,
            "grid_row": null,
            "grid_template_areas": null,
            "grid_template_columns": null,
            "grid_template_rows": null,
            "height": null,
            "justify_content": null,
            "justify_items": null,
            "left": null,
            "margin": null,
            "max_height": null,
            "max_width": null,
            "min_height": null,
            "min_width": null,
            "object_fit": null,
            "object_position": null,
            "order": null,
            "overflow": null,
            "overflow_x": null,
            "overflow_y": null,
            "padding": null,
            "right": null,
            "top": null,
            "visibility": null,
            "width": null
          }
        },
        "6bfa6487ce8b46c3921410fda4249ef1": {
          "model_module": "@jupyter-widgets/controls",
          "model_name": "DescriptionStyleModel",
          "model_module_version": "1.5.0",
          "state": {
            "_model_module": "@jupyter-widgets/controls",
            "_model_module_version": "1.5.0",
            "_model_name": "DescriptionStyleModel",
            "_view_count": null,
            "_view_module": "@jupyter-widgets/base",
            "_view_module_version": "1.2.0",
            "_view_name": "StyleView",
            "description_width": ""
          }
        },
        "14a28d849fbb4e90b6f529e58f05de4b": {
          "model_module": "@jupyter-widgets/controls",
          "model_name": "HBoxModel",
          "model_module_version": "1.5.0",
          "state": {
            "_dom_classes": [],
            "_model_module": "@jupyter-widgets/controls",
            "_model_module_version": "1.5.0",
            "_model_name": "HBoxModel",
            "_view_count": null,
            "_view_module": "@jupyter-widgets/controls",
            "_view_module_version": "1.5.0",
            "_view_name": "HBoxView",
            "box_style": "",
            "children": [
              "IPY_MODEL_7c877b3f610c416cbd464c20fa6d689c",
              "IPY_MODEL_af3f38b5dc624d6d87abedbf9232646c",
              "IPY_MODEL_1d7ae9332a7c4a57884c1d295bfd7b2a"
            ],
            "layout": "IPY_MODEL_590dcc5130ad43199118544a333c81d0"
          }
        },
        "7c877b3f610c416cbd464c20fa6d689c": {
          "model_module": "@jupyter-widgets/controls",
          "model_name": "HTMLModel",
          "model_module_version": "1.5.0",
          "state": {
            "_dom_classes": [],
            "_model_module": "@jupyter-widgets/controls",
            "_model_module_version": "1.5.0",
            "_model_name": "HTMLModel",
            "_view_count": null,
            "_view_module": "@jupyter-widgets/controls",
            "_view_module_version": "1.5.0",
            "_view_name": "HTMLView",
            "description": "",
            "description_tooltip": null,
            "layout": "IPY_MODEL_503529f078044f16a254f142aacc6e48",
            "placeholder": "​",
            "style": "IPY_MODEL_a6edc4bd317b4db890c82f32fc269390",
            "value": "Downloading (…)lve/main/config.json: 100%"
          }
        },
        "af3f38b5dc624d6d87abedbf9232646c": {
          "model_module": "@jupyter-widgets/controls",
          "model_name": "FloatProgressModel",
          "model_module_version": "1.5.0",
          "state": {
            "_dom_classes": [],
            "_model_module": "@jupyter-widgets/controls",
            "_model_module_version": "1.5.0",
            "_model_name": "FloatProgressModel",
            "_view_count": null,
            "_view_module": "@jupyter-widgets/controls",
            "_view_module_version": "1.5.0",
            "_view_name": "ProgressView",
            "bar_style": "success",
            "description": "",
            "description_tooltip": null,
            "layout": "IPY_MODEL_3146c8bd3522452bb6c68646bae7d958",
            "max": 481,
            "min": 0,
            "orientation": "horizontal",
            "style": "IPY_MODEL_f7cd414176dd486db557c2cbac3b5050",
            "value": 481
          }
        },
        "1d7ae9332a7c4a57884c1d295bfd7b2a": {
          "model_module": "@jupyter-widgets/controls",
          "model_name": "HTMLModel",
          "model_module_version": "1.5.0",
          "state": {
            "_dom_classes": [],
            "_model_module": "@jupyter-widgets/controls",
            "_model_module_version": "1.5.0",
            "_model_name": "HTMLModel",
            "_view_count": null,
            "_view_module": "@jupyter-widgets/controls",
            "_view_module_version": "1.5.0",
            "_view_name": "HTMLView",
            "description": "",
            "description_tooltip": null,
            "layout": "IPY_MODEL_0f2dbf3fc81142d59ef319d2baf9b1c0",
            "placeholder": "​",
            "style": "IPY_MODEL_d56bc3c47b10446fae1e7cedc795b83a",
            "value": " 481/481 [00:00&lt;00:00, 32.6kB/s]"
          }
        },
        "590dcc5130ad43199118544a333c81d0": {
          "model_module": "@jupyter-widgets/base",
          "model_name": "LayoutModel",
          "model_module_version": "1.2.0",
          "state": {
            "_model_module": "@jupyter-widgets/base",
            "_model_module_version": "1.2.0",
            "_model_name": "LayoutModel",
            "_view_count": null,
            "_view_module": "@jupyter-widgets/base",
            "_view_module_version": "1.2.0",
            "_view_name": "LayoutView",
            "align_content": null,
            "align_items": null,
            "align_self": null,
            "border": null,
            "bottom": null,
            "display": null,
            "flex": null,
            "flex_flow": null,
            "grid_area": null,
            "grid_auto_columns": null,
            "grid_auto_flow": null,
            "grid_auto_rows": null,
            "grid_column": null,
            "grid_gap": null,
            "grid_row": null,
            "grid_template_areas": null,
            "grid_template_columns": null,
            "grid_template_rows": null,
            "height": null,
            "justify_content": null,
            "justify_items": null,
            "left": null,
            "margin": null,
            "max_height": null,
            "max_width": null,
            "min_height": null,
            "min_width": null,
            "object_fit": null,
            "object_position": null,
            "order": null,
            "overflow": null,
            "overflow_x": null,
            "overflow_y": null,
            "padding": null,
            "right": null,
            "top": null,
            "visibility": null,
            "width": null
          }
        },
        "503529f078044f16a254f142aacc6e48": {
          "model_module": "@jupyter-widgets/base",
          "model_name": "LayoutModel",
          "model_module_version": "1.2.0",
          "state": {
            "_model_module": "@jupyter-widgets/base",
            "_model_module_version": "1.2.0",
            "_model_name": "LayoutModel",
            "_view_count": null,
            "_view_module": "@jupyter-widgets/base",
            "_view_module_version": "1.2.0",
            "_view_name": "LayoutView",
            "align_content": null,
            "align_items": null,
            "align_self": null,
            "border": null,
            "bottom": null,
            "display": null,
            "flex": null,
            "flex_flow": null,
            "grid_area": null,
            "grid_auto_columns": null,
            "grid_auto_flow": null,
            "grid_auto_rows": null,
            "grid_column": null,
            "grid_gap": null,
            "grid_row": null,
            "grid_template_areas": null,
            "grid_template_columns": null,
            "grid_template_rows": null,
            "height": null,
            "justify_content": null,
            "justify_items": null,
            "left": null,
            "margin": null,
            "max_height": null,
            "max_width": null,
            "min_height": null,
            "min_width": null,
            "object_fit": null,
            "object_position": null,
            "order": null,
            "overflow": null,
            "overflow_x": null,
            "overflow_y": null,
            "padding": null,
            "right": null,
            "top": null,
            "visibility": null,
            "width": null
          }
        },
        "a6edc4bd317b4db890c82f32fc269390": {
          "model_module": "@jupyter-widgets/controls",
          "model_name": "DescriptionStyleModel",
          "model_module_version": "1.5.0",
          "state": {
            "_model_module": "@jupyter-widgets/controls",
            "_model_module_version": "1.5.0",
            "_model_name": "DescriptionStyleModel",
            "_view_count": null,
            "_view_module": "@jupyter-widgets/base",
            "_view_module_version": "1.2.0",
            "_view_name": "StyleView",
            "description_width": ""
          }
        },
        "3146c8bd3522452bb6c68646bae7d958": {
          "model_module": "@jupyter-widgets/base",
          "model_name": "LayoutModel",
          "model_module_version": "1.2.0",
          "state": {
            "_model_module": "@jupyter-widgets/base",
            "_model_module_version": "1.2.0",
            "_model_name": "LayoutModel",
            "_view_count": null,
            "_view_module": "@jupyter-widgets/base",
            "_view_module_version": "1.2.0",
            "_view_name": "LayoutView",
            "align_content": null,
            "align_items": null,
            "align_self": null,
            "border": null,
            "bottom": null,
            "display": null,
            "flex": null,
            "flex_flow": null,
            "grid_area": null,
            "grid_auto_columns": null,
            "grid_auto_flow": null,
            "grid_auto_rows": null,
            "grid_column": null,
            "grid_gap": null,
            "grid_row": null,
            "grid_template_areas": null,
            "grid_template_columns": null,
            "grid_template_rows": null,
            "height": null,
            "justify_content": null,
            "justify_items": null,
            "left": null,
            "margin": null,
            "max_height": null,
            "max_width": null,
            "min_height": null,
            "min_width": null,
            "object_fit": null,
            "object_position": null,
            "order": null,
            "overflow": null,
            "overflow_x": null,
            "overflow_y": null,
            "padding": null,
            "right": null,
            "top": null,
            "visibility": null,
            "width": null
          }
        },
        "f7cd414176dd486db557c2cbac3b5050": {
          "model_module": "@jupyter-widgets/controls",
          "model_name": "ProgressStyleModel",
          "model_module_version": "1.5.0",
          "state": {
            "_model_module": "@jupyter-widgets/controls",
            "_model_module_version": "1.5.0",
            "_model_name": "ProgressStyleModel",
            "_view_count": null,
            "_view_module": "@jupyter-widgets/base",
            "_view_module_version": "1.2.0",
            "_view_name": "StyleView",
            "bar_color": null,
            "description_width": ""
          }
        },
        "0f2dbf3fc81142d59ef319d2baf9b1c0": {
          "model_module": "@jupyter-widgets/base",
          "model_name": "LayoutModel",
          "model_module_version": "1.2.0",
          "state": {
            "_model_module": "@jupyter-widgets/base",
            "_model_module_version": "1.2.0",
            "_model_name": "LayoutModel",
            "_view_count": null,
            "_view_module": "@jupyter-widgets/base",
            "_view_module_version": "1.2.0",
            "_view_name": "LayoutView",
            "align_content": null,
            "align_items": null,
            "align_self": null,
            "border": null,
            "bottom": null,
            "display": null,
            "flex": null,
            "flex_flow": null,
            "grid_area": null,
            "grid_auto_columns": null,
            "grid_auto_flow": null,
            "grid_auto_rows": null,
            "grid_column": null,
            "grid_gap": null,
            "grid_row": null,
            "grid_template_areas": null,
            "grid_template_columns": null,
            "grid_template_rows": null,
            "height": null,
            "justify_content": null,
            "justify_items": null,
            "left": null,
            "margin": null,
            "max_height": null,
            "max_width": null,
            "min_height": null,
            "min_width": null,
            "object_fit": null,
            "object_position": null,
            "order": null,
            "overflow": null,
            "overflow_x": null,
            "overflow_y": null,
            "padding": null,
            "right": null,
            "top": null,
            "visibility": null,
            "width": null
          }
        },
        "d56bc3c47b10446fae1e7cedc795b83a": {
          "model_module": "@jupyter-widgets/controls",
          "model_name": "DescriptionStyleModel",
          "model_module_version": "1.5.0",
          "state": {
            "_model_module": "@jupyter-widgets/controls",
            "_model_module_version": "1.5.0",
            "_model_name": "DescriptionStyleModel",
            "_view_count": null,
            "_view_module": "@jupyter-widgets/base",
            "_view_module_version": "1.2.0",
            "_view_name": "StyleView",
            "description_width": ""
          }
        },
        "3c5957f856f8403c8768f9a7315add97": {
          "model_module": "@jupyter-widgets/controls",
          "model_name": "HBoxModel",
          "model_module_version": "1.5.0",
          "state": {
            "_dom_classes": [],
            "_model_module": "@jupyter-widgets/controls",
            "_model_module_version": "1.5.0",
            "_model_name": "HBoxModel",
            "_view_count": null,
            "_view_module": "@jupyter-widgets/controls",
            "_view_module_version": "1.5.0",
            "_view_name": "HBoxView",
            "box_style": "",
            "children": [
              "IPY_MODEL_28553b762468411cad716e5207b78817",
              "IPY_MODEL_1a3aecf4cf684383b7943c007722d137",
              "IPY_MODEL_7ed38a4cd73b405d889d104e04ababd8"
            ],
            "layout": "IPY_MODEL_9b88e504941844258ffb3943a736a0c6"
          }
        },
        "28553b762468411cad716e5207b78817": {
          "model_module": "@jupyter-widgets/controls",
          "model_name": "HTMLModel",
          "model_module_version": "1.5.0",
          "state": {
            "_dom_classes": [],
            "_model_module": "@jupyter-widgets/controls",
            "_model_module_version": "1.5.0",
            "_model_name": "HTMLModel",
            "_view_count": null,
            "_view_module": "@jupyter-widgets/controls",
            "_view_module_version": "1.5.0",
            "_view_name": "HTMLView",
            "description": "",
            "description_tooltip": null,
            "layout": "IPY_MODEL_a117ed50c36745779543e77411b3309e",
            "placeholder": "​",
            "style": "IPY_MODEL_5c0ec9f9a6504078a04b07a80ec3d733",
            "value": "Downloading pytorch_model.bin: 100%"
          }
        },
        "1a3aecf4cf684383b7943c007722d137": {
          "model_module": "@jupyter-widgets/controls",
          "model_name": "FloatProgressModel",
          "model_module_version": "1.5.0",
          "state": {
            "_dom_classes": [],
            "_model_module": "@jupyter-widgets/controls",
            "_model_module_version": "1.5.0",
            "_model_name": "FloatProgressModel",
            "_view_count": null,
            "_view_module": "@jupyter-widgets/controls",
            "_view_module_version": "1.5.0",
            "_view_name": "ProgressView",
            "bar_style": "success",
            "description": "",
            "description_tooltip": null,
            "layout": "IPY_MODEL_86a8cc62f907443fb6387a304185c7e3",
            "max": 501200538,
            "min": 0,
            "orientation": "horizontal",
            "style": "IPY_MODEL_3c4aed3e18df426cb20d0cfba2fbed92",
            "value": 501200538
          }
        },
        "7ed38a4cd73b405d889d104e04ababd8": {
          "model_module": "@jupyter-widgets/controls",
          "model_name": "HTMLModel",
          "model_module_version": "1.5.0",
          "state": {
            "_dom_classes": [],
            "_model_module": "@jupyter-widgets/controls",
            "_model_module_version": "1.5.0",
            "_model_name": "HTMLModel",
            "_view_count": null,
            "_view_module": "@jupyter-widgets/controls",
            "_view_module_version": "1.5.0",
            "_view_name": "HTMLView",
            "description": "",
            "description_tooltip": null,
            "layout": "IPY_MODEL_9166038509cd4356be3b57d9a7c30839",
            "placeholder": "​",
            "style": "IPY_MODEL_0f28b5c7f9274aea9d9c7f532af5ae32",
            "value": " 501M/501M [00:02&lt;00:00, 163MB/s]"
          }
        },
        "9b88e504941844258ffb3943a736a0c6": {
          "model_module": "@jupyter-widgets/base",
          "model_name": "LayoutModel",
          "model_module_version": "1.2.0",
          "state": {
            "_model_module": "@jupyter-widgets/base",
            "_model_module_version": "1.2.0",
            "_model_name": "LayoutModel",
            "_view_count": null,
            "_view_module": "@jupyter-widgets/base",
            "_view_module_version": "1.2.0",
            "_view_name": "LayoutView",
            "align_content": null,
            "align_items": null,
            "align_self": null,
            "border": null,
            "bottom": null,
            "display": null,
            "flex": null,
            "flex_flow": null,
            "grid_area": null,
            "grid_auto_columns": null,
            "grid_auto_flow": null,
            "grid_auto_rows": null,
            "grid_column": null,
            "grid_gap": null,
            "grid_row": null,
            "grid_template_areas": null,
            "grid_template_columns": null,
            "grid_template_rows": null,
            "height": null,
            "justify_content": null,
            "justify_items": null,
            "left": null,
            "margin": null,
            "max_height": null,
            "max_width": null,
            "min_height": null,
            "min_width": null,
            "object_fit": null,
            "object_position": null,
            "order": null,
            "overflow": null,
            "overflow_x": null,
            "overflow_y": null,
            "padding": null,
            "right": null,
            "top": null,
            "visibility": null,
            "width": null
          }
        },
        "a117ed50c36745779543e77411b3309e": {
          "model_module": "@jupyter-widgets/base",
          "model_name": "LayoutModel",
          "model_module_version": "1.2.0",
          "state": {
            "_model_module": "@jupyter-widgets/base",
            "_model_module_version": "1.2.0",
            "_model_name": "LayoutModel",
            "_view_count": null,
            "_view_module": "@jupyter-widgets/base",
            "_view_module_version": "1.2.0",
            "_view_name": "LayoutView",
            "align_content": null,
            "align_items": null,
            "align_self": null,
            "border": null,
            "bottom": null,
            "display": null,
            "flex": null,
            "flex_flow": null,
            "grid_area": null,
            "grid_auto_columns": null,
            "grid_auto_flow": null,
            "grid_auto_rows": null,
            "grid_column": null,
            "grid_gap": null,
            "grid_row": null,
            "grid_template_areas": null,
            "grid_template_columns": null,
            "grid_template_rows": null,
            "height": null,
            "justify_content": null,
            "justify_items": null,
            "left": null,
            "margin": null,
            "max_height": null,
            "max_width": null,
            "min_height": null,
            "min_width": null,
            "object_fit": null,
            "object_position": null,
            "order": null,
            "overflow": null,
            "overflow_x": null,
            "overflow_y": null,
            "padding": null,
            "right": null,
            "top": null,
            "visibility": null,
            "width": null
          }
        },
        "5c0ec9f9a6504078a04b07a80ec3d733": {
          "model_module": "@jupyter-widgets/controls",
          "model_name": "DescriptionStyleModel",
          "model_module_version": "1.5.0",
          "state": {
            "_model_module": "@jupyter-widgets/controls",
            "_model_module_version": "1.5.0",
            "_model_name": "DescriptionStyleModel",
            "_view_count": null,
            "_view_module": "@jupyter-widgets/base",
            "_view_module_version": "1.2.0",
            "_view_name": "StyleView",
            "description_width": ""
          }
        },
        "86a8cc62f907443fb6387a304185c7e3": {
          "model_module": "@jupyter-widgets/base",
          "model_name": "LayoutModel",
          "model_module_version": "1.2.0",
          "state": {
            "_model_module": "@jupyter-widgets/base",
            "_model_module_version": "1.2.0",
            "_model_name": "LayoutModel",
            "_view_count": null,
            "_view_module": "@jupyter-widgets/base",
            "_view_module_version": "1.2.0",
            "_view_name": "LayoutView",
            "align_content": null,
            "align_items": null,
            "align_self": null,
            "border": null,
            "bottom": null,
            "display": null,
            "flex": null,
            "flex_flow": null,
            "grid_area": null,
            "grid_auto_columns": null,
            "grid_auto_flow": null,
            "grid_auto_rows": null,
            "grid_column": null,
            "grid_gap": null,
            "grid_row": null,
            "grid_template_areas": null,
            "grid_template_columns": null,
            "grid_template_rows": null,
            "height": null,
            "justify_content": null,
            "justify_items": null,
            "left": null,
            "margin": null,
            "max_height": null,
            "max_width": null,
            "min_height": null,
            "min_width": null,
            "object_fit": null,
            "object_position": null,
            "order": null,
            "overflow": null,
            "overflow_x": null,
            "overflow_y": null,
            "padding": null,
            "right": null,
            "top": null,
            "visibility": null,
            "width": null
          }
        },
        "3c4aed3e18df426cb20d0cfba2fbed92": {
          "model_module": "@jupyter-widgets/controls",
          "model_name": "ProgressStyleModel",
          "model_module_version": "1.5.0",
          "state": {
            "_model_module": "@jupyter-widgets/controls",
            "_model_module_version": "1.5.0",
            "_model_name": "ProgressStyleModel",
            "_view_count": null,
            "_view_module": "@jupyter-widgets/base",
            "_view_module_version": "1.2.0",
            "_view_name": "StyleView",
            "bar_color": null,
            "description_width": ""
          }
        },
        "9166038509cd4356be3b57d9a7c30839": {
          "model_module": "@jupyter-widgets/base",
          "model_name": "LayoutModel",
          "model_module_version": "1.2.0",
          "state": {
            "_model_module": "@jupyter-widgets/base",
            "_model_module_version": "1.2.0",
            "_model_name": "LayoutModel",
            "_view_count": null,
            "_view_module": "@jupyter-widgets/base",
            "_view_module_version": "1.2.0",
            "_view_name": "LayoutView",
            "align_content": null,
            "align_items": null,
            "align_self": null,
            "border": null,
            "bottom": null,
            "display": null,
            "flex": null,
            "flex_flow": null,
            "grid_area": null,
            "grid_auto_columns": null,
            "grid_auto_flow": null,
            "grid_auto_rows": null,
            "grid_column": null,
            "grid_gap": null,
            "grid_row": null,
            "grid_template_areas": null,
            "grid_template_columns": null,
            "grid_template_rows": null,
            "height": null,
            "justify_content": null,
            "justify_items": null,
            "left": null,
            "margin": null,
            "max_height": null,
            "max_width": null,
            "min_height": null,
            "min_width": null,
            "object_fit": null,
            "object_position": null,
            "order": null,
            "overflow": null,
            "overflow_x": null,
            "overflow_y": null,
            "padding": null,
            "right": null,
            "top": null,
            "visibility": null,
            "width": null
          }
        },
        "0f28b5c7f9274aea9d9c7f532af5ae32": {
          "model_module": "@jupyter-widgets/controls",
          "model_name": "DescriptionStyleModel",
          "model_module_version": "1.5.0",
          "state": {
            "_model_module": "@jupyter-widgets/controls",
            "_model_module_version": "1.5.0",
            "_model_name": "DescriptionStyleModel",
            "_view_count": null,
            "_view_module": "@jupyter-widgets/base",
            "_view_module_version": "1.2.0",
            "_view_name": "StyleView",
            "description_width": ""
          }
        },
        "f8c689474b5642b18e5aa5d32d78c802": {
          "model_module": "@jupyter-widgets/controls",
          "model_name": "HBoxModel",
          "model_module_version": "1.5.0",
          "state": {
            "_dom_classes": [],
            "_model_module": "@jupyter-widgets/controls",
            "_model_module_version": "1.5.0",
            "_model_name": "HBoxModel",
            "_view_count": null,
            "_view_module": "@jupyter-widgets/controls",
            "_view_module_version": "1.5.0",
            "_view_name": "HBoxView",
            "box_style": "",
            "children": [
              "IPY_MODEL_51f7db53902e4d6cae481c6c41e72d11",
              "IPY_MODEL_0b2322e6e80d4c7686ef3ceedc3ec815",
              "IPY_MODEL_1571a7bb33a24194beda26a0c50c6a10"
            ],
            "layout": "IPY_MODEL_1a3e71b0be7947a6b387b8c4a00bbe29"
          }
        },
        "51f7db53902e4d6cae481c6c41e72d11": {
          "model_module": "@jupyter-widgets/controls",
          "model_name": "HTMLModel",
          "model_module_version": "1.5.0",
          "state": {
            "_dom_classes": [],
            "_model_module": "@jupyter-widgets/controls",
            "_model_module_version": "1.5.0",
            "_model_name": "HTMLModel",
            "_view_count": null,
            "_view_module": "@jupyter-widgets/controls",
            "_view_module_version": "1.5.0",
            "_view_name": "HTMLView",
            "description": "",
            "description_tooltip": null,
            "layout": "IPY_MODEL_8f0a47b4073c4fc086b06f8cbff9fc99",
            "placeholder": "​",
            "style": "IPY_MODEL_8b6b403beece43049a756f5288473de7",
            "value": "Downloading (…)/main/tokenizer.json: 100%"
          }
        },
        "0b2322e6e80d4c7686ef3ceedc3ec815": {
          "model_module": "@jupyter-widgets/controls",
          "model_name": "FloatProgressModel",
          "model_module_version": "1.5.0",
          "state": {
            "_dom_classes": [],
            "_model_module": "@jupyter-widgets/controls",
            "_model_module_version": "1.5.0",
            "_model_name": "FloatProgressModel",
            "_view_count": null,
            "_view_module": "@jupyter-widgets/controls",
            "_view_module_version": "1.5.0",
            "_view_name": "ProgressView",
            "bar_style": "success",
            "description": "",
            "description_tooltip": null,
            "layout": "IPY_MODEL_4421ec9ecd3a4bb48b80602e70f1a5a0",
            "max": 1355863,
            "min": 0,
            "orientation": "horizontal",
            "style": "IPY_MODEL_895834a7a6514b0ba3e909af373a70c8",
            "value": 1355863
          }
        },
        "1571a7bb33a24194beda26a0c50c6a10": {
          "model_module": "@jupyter-widgets/controls",
          "model_name": "HTMLModel",
          "model_module_version": "1.5.0",
          "state": {
            "_dom_classes": [],
            "_model_module": "@jupyter-widgets/controls",
            "_model_module_version": "1.5.0",
            "_model_name": "HTMLModel",
            "_view_count": null,
            "_view_module": "@jupyter-widgets/controls",
            "_view_module_version": "1.5.0",
            "_view_name": "HTMLView",
            "description": "",
            "description_tooltip": null,
            "layout": "IPY_MODEL_2b1335b5fdaf4f41b74c7d3c99f9ebd3",
            "placeholder": "​",
            "style": "IPY_MODEL_95c9f3a14bb54d3aa6db6c8956ddb9ce",
            "value": " 1.36M/1.36M [00:01&lt;00:00, 1.18MB/s]"
          }
        },
        "1a3e71b0be7947a6b387b8c4a00bbe29": {
          "model_module": "@jupyter-widgets/base",
          "model_name": "LayoutModel",
          "model_module_version": "1.2.0",
          "state": {
            "_model_module": "@jupyter-widgets/base",
            "_model_module_version": "1.2.0",
            "_model_name": "LayoutModel",
            "_view_count": null,
            "_view_module": "@jupyter-widgets/base",
            "_view_module_version": "1.2.0",
            "_view_name": "LayoutView",
            "align_content": null,
            "align_items": null,
            "align_self": null,
            "border": null,
            "bottom": null,
            "display": null,
            "flex": null,
            "flex_flow": null,
            "grid_area": null,
            "grid_auto_columns": null,
            "grid_auto_flow": null,
            "grid_auto_rows": null,
            "grid_column": null,
            "grid_gap": null,
            "grid_row": null,
            "grid_template_areas": null,
            "grid_template_columns": null,
            "grid_template_rows": null,
            "height": null,
            "justify_content": null,
            "justify_items": null,
            "left": null,
            "margin": null,
            "max_height": null,
            "max_width": null,
            "min_height": null,
            "min_width": null,
            "object_fit": null,
            "object_position": null,
            "order": null,
            "overflow": null,
            "overflow_x": null,
            "overflow_y": null,
            "padding": null,
            "right": null,
            "top": null,
            "visibility": null,
            "width": null
          }
        },
        "8f0a47b4073c4fc086b06f8cbff9fc99": {
          "model_module": "@jupyter-widgets/base",
          "model_name": "LayoutModel",
          "model_module_version": "1.2.0",
          "state": {
            "_model_module": "@jupyter-widgets/base",
            "_model_module_version": "1.2.0",
            "_model_name": "LayoutModel",
            "_view_count": null,
            "_view_module": "@jupyter-widgets/base",
            "_view_module_version": "1.2.0",
            "_view_name": "LayoutView",
            "align_content": null,
            "align_items": null,
            "align_self": null,
            "border": null,
            "bottom": null,
            "display": null,
            "flex": null,
            "flex_flow": null,
            "grid_area": null,
            "grid_auto_columns": null,
            "grid_auto_flow": null,
            "grid_auto_rows": null,
            "grid_column": null,
            "grid_gap": null,
            "grid_row": null,
            "grid_template_areas": null,
            "grid_template_columns": null,
            "grid_template_rows": null,
            "height": null,
            "justify_content": null,
            "justify_items": null,
            "left": null,
            "margin": null,
            "max_height": null,
            "max_width": null,
            "min_height": null,
            "min_width": null,
            "object_fit": null,
            "object_position": null,
            "order": null,
            "overflow": null,
            "overflow_x": null,
            "overflow_y": null,
            "padding": null,
            "right": null,
            "top": null,
            "visibility": null,
            "width": null
          }
        },
        "8b6b403beece43049a756f5288473de7": {
          "model_module": "@jupyter-widgets/controls",
          "model_name": "DescriptionStyleModel",
          "model_module_version": "1.5.0",
          "state": {
            "_model_module": "@jupyter-widgets/controls",
            "_model_module_version": "1.5.0",
            "_model_name": "DescriptionStyleModel",
            "_view_count": null,
            "_view_module": "@jupyter-widgets/base",
            "_view_module_version": "1.2.0",
            "_view_name": "StyleView",
            "description_width": ""
          }
        },
        "4421ec9ecd3a4bb48b80602e70f1a5a0": {
          "model_module": "@jupyter-widgets/base",
          "model_name": "LayoutModel",
          "model_module_version": "1.2.0",
          "state": {
            "_model_module": "@jupyter-widgets/base",
            "_model_module_version": "1.2.0",
            "_model_name": "LayoutModel",
            "_view_count": null,
            "_view_module": "@jupyter-widgets/base",
            "_view_module_version": "1.2.0",
            "_view_name": "LayoutView",
            "align_content": null,
            "align_items": null,
            "align_self": null,
            "border": null,
            "bottom": null,
            "display": null,
            "flex": null,
            "flex_flow": null,
            "grid_area": null,
            "grid_auto_columns": null,
            "grid_auto_flow": null,
            "grid_auto_rows": null,
            "grid_column": null,
            "grid_gap": null,
            "grid_row": null,
            "grid_template_areas": null,
            "grid_template_columns": null,
            "grid_template_rows": null,
            "height": null,
            "justify_content": null,
            "justify_items": null,
            "left": null,
            "margin": null,
            "max_height": null,
            "max_width": null,
            "min_height": null,
            "min_width": null,
            "object_fit": null,
            "object_position": null,
            "order": null,
            "overflow": null,
            "overflow_x": null,
            "overflow_y": null,
            "padding": null,
            "right": null,
            "top": null,
            "visibility": null,
            "width": null
          }
        },
        "895834a7a6514b0ba3e909af373a70c8": {
          "model_module": "@jupyter-widgets/controls",
          "model_name": "ProgressStyleModel",
          "model_module_version": "1.5.0",
          "state": {
            "_model_module": "@jupyter-widgets/controls",
            "_model_module_version": "1.5.0",
            "_model_name": "ProgressStyleModel",
            "_view_count": null,
            "_view_module": "@jupyter-widgets/base",
            "_view_module_version": "1.2.0",
            "_view_name": "StyleView",
            "bar_color": null,
            "description_width": ""
          }
        },
        "2b1335b5fdaf4f41b74c7d3c99f9ebd3": {
          "model_module": "@jupyter-widgets/base",
          "model_name": "LayoutModel",
          "model_module_version": "1.2.0",
          "state": {
            "_model_module": "@jupyter-widgets/base",
            "_model_module_version": "1.2.0",
            "_model_name": "LayoutModel",
            "_view_count": null,
            "_view_module": "@jupyter-widgets/base",
            "_view_module_version": "1.2.0",
            "_view_name": "LayoutView",
            "align_content": null,
            "align_items": null,
            "align_self": null,
            "border": null,
            "bottom": null,
            "display": null,
            "flex": null,
            "flex_flow": null,
            "grid_area": null,
            "grid_auto_columns": null,
            "grid_auto_flow": null,
            "grid_auto_rows": null,
            "grid_column": null,
            "grid_gap": null,
            "grid_row": null,
            "grid_template_areas": null,
            "grid_template_columns": null,
            "grid_template_rows": null,
            "height": null,
            "justify_content": null,
            "justify_items": null,
            "left": null,
            "margin": null,
            "max_height": null,
            "max_width": null,
            "min_height": null,
            "min_width": null,
            "object_fit": null,
            "object_position": null,
            "order": null,
            "overflow": null,
            "overflow_x": null,
            "overflow_y": null,
            "padding": null,
            "right": null,
            "top": null,
            "visibility": null,
            "width": null
          }
        },
        "95c9f3a14bb54d3aa6db6c8956ddb9ce": {
          "model_module": "@jupyter-widgets/controls",
          "model_name": "DescriptionStyleModel",
          "model_module_version": "1.5.0",
          "state": {
            "_model_module": "@jupyter-widgets/controls",
            "_model_module_version": "1.5.0",
            "_model_name": "DescriptionStyleModel",
            "_view_count": null,
            "_view_module": "@jupyter-widgets/base",
            "_view_module_version": "1.2.0",
            "_view_name": "StyleView",
            "description_width": ""
          }
        }
      }
    }
  },
  "nbformat": 4,
  "nbformat_minor": 0
}